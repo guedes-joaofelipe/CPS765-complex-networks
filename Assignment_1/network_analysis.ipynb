{
 "cells": [
  {
   "cell_type": "markdown",
   "metadata": {},
   "source": [
    "# Network Analysis\n",
    "\n",
    "This notebook provide analysis metrics on 3 complex networks: \n",
    "\n",
    "- [Amazon Co-purchase](http://snap.stanford.edu/data/com-Amazon.html)\n",
    "- [Wikipedia Admin Election](http://snap.stanford.edu/data/wiki-Elec.html)\n",
    "\n",
    "The following metrics are obtained: \n",
    "\n",
    "- Degree\n",
    "- Distance \n",
    "- Closeness\n",
    "- Betweenness\n",
    "\n",
    "## Imports"
   ]
  },
  {
   "cell_type": "code",
   "execution_count": 51,
   "metadata": {},
   "outputs": [],
   "source": [
    "import networkx as nx\n",
    "from powerlaw import ccdf\n",
    "import matplotlib.pyplot as plt\n",
    "import pandas as pd \n",
    "import numpy as np"
   ]
  },
  {
   "cell_type": "markdown",
   "metadata": {},
   "source": [
    "### Initializing Variables"
   ]
  },
  {
   "cell_type": "code",
   "execution_count": 143,
   "metadata": {},
   "outputs": [],
   "source": [
    "dict_metrics = {}\n",
    "dict_plots = {}\n",
    "df_output = pd.DataFrame(columns=[\"dataset_tag\", \"metric\", \"max\", \"min\", \"mean\", \"median\", \"std\"])"
   ]
  },
  {
   "cell_type": "markdown",
   "metadata": {},
   "source": [
    "## Processing Datafiles\n",
    "\n",
    "For each dataset, a source file is processed in order to create an adjacency-list output file.\n",
    "\n",
    "### Amazon Co-purchase"
   ]
  },
  {
   "cell_type": "code",
   "execution_count": 144,
   "metadata": {},
   "outputs": [
    {
     "data": {
      "text/html": [
       "<div>\n",
       "<style scoped>\n",
       "    .dataframe tbody tr th:only-of-type {\n",
       "        vertical-align: middle;\n",
       "    }\n",
       "\n",
       "    .dataframe tbody tr th {\n",
       "        vertical-align: top;\n",
       "    }\n",
       "\n",
       "    .dataframe thead th {\n",
       "        text-align: right;\n",
       "    }\n",
       "</style>\n",
       "<table border=\"1\" class=\"dataframe\">\n",
       "  <thead>\n",
       "    <tr style=\"text-align: right;\">\n",
       "      <th></th>\n",
       "      <th>from</th>\n",
       "      <th>to</th>\n",
       "    </tr>\n",
       "  </thead>\n",
       "  <tbody>\n",
       "    <tr>\n",
       "      <td>925867</td>\n",
       "      <td>548343</td>\n",
       "      <td>548378</td>\n",
       "    </tr>\n",
       "    <tr>\n",
       "      <td>925868</td>\n",
       "      <td>548354</td>\n",
       "      <td>548356</td>\n",
       "    </tr>\n",
       "    <tr>\n",
       "      <td>925869</td>\n",
       "      <td>548368</td>\n",
       "      <td>548454</td>\n",
       "    </tr>\n",
       "    <tr>\n",
       "      <td>925870</td>\n",
       "      <td>548391</td>\n",
       "      <td>548411</td>\n",
       "    </tr>\n",
       "    <tr>\n",
       "      <td>925871</td>\n",
       "      <td>548411</td>\n",
       "      <td>548458</td>\n",
       "    </tr>\n",
       "  </tbody>\n",
       "</table>\n",
       "</div>"
      ],
      "text/plain": [
       "          from      to\n",
       "925867  548343  548378\n",
       "925868  548354  548356\n",
       "925869  548368  548454\n",
       "925870  548391  548411\n",
       "925871  548411  548458"
      ]
     },
     "execution_count": 144,
     "metadata": {},
     "output_type": "execute_result"
    }
   ],
   "source": [
    "dataset_tag, dataset_file = \"amazon_copurchase\", \"./com-amazon.ungraph.txt\"\n",
    "dict_metrics[dataset_tag] = dict()\n",
    "dict_plots[dataset_tag] = dict()\n",
    "df = pd.read_csv(dataset_file, header=None, skiprows=4, sep='\\t')\n",
    "df.columns = [\"from\", \"to\"]\n",
    "df.to_csv(\"./\" + dataset_tag + \"_edgelist.txt\", sep='\\t', index=False, header=None)\n",
    "df.tail()"
   ]
  },
  {
   "cell_type": "markdown",
   "metadata": {},
   "source": [
    "### Movie Lens 1M"
   ]
  },
  {
   "cell_type": "code",
   "execution_count": 116,
   "metadata": {},
   "outputs": [
    {
     "data": {
      "text/html": [
       "<div>\n",
       "<style scoped>\n",
       "    .dataframe tbody tr th:only-of-type {\n",
       "        vertical-align: middle;\n",
       "    }\n",
       "\n",
       "    .dataframe tbody tr th {\n",
       "        vertical-align: top;\n",
       "    }\n",
       "\n",
       "    .dataframe thead th {\n",
       "        text-align: right;\n",
       "    }\n",
       "</style>\n",
       "<table border=\"1\" class=\"dataframe\">\n",
       "  <thead>\n",
       "    <tr style=\"text-align: right;\">\n",
       "      <th></th>\n",
       "      <th>from</th>\n",
       "      <th>to</th>\n",
       "      <th>rating</th>\n",
       "    </tr>\n",
       "  </thead>\n",
       "  <tbody>\n",
       "    <tr>\n",
       "      <td>0</td>\n",
       "      <td>user_1</td>\n",
       "      <td>item_1193</td>\n",
       "      <td>5</td>\n",
       "    </tr>\n",
       "    <tr>\n",
       "      <td>1</td>\n",
       "      <td>user_1</td>\n",
       "      <td>item_661</td>\n",
       "      <td>3</td>\n",
       "    </tr>\n",
       "    <tr>\n",
       "      <td>2</td>\n",
       "      <td>user_1</td>\n",
       "      <td>item_914</td>\n",
       "      <td>3</td>\n",
       "    </tr>\n",
       "    <tr>\n",
       "      <td>3</td>\n",
       "      <td>user_1</td>\n",
       "      <td>item_3408</td>\n",
       "      <td>4</td>\n",
       "    </tr>\n",
       "    <tr>\n",
       "      <td>4</td>\n",
       "      <td>user_1</td>\n",
       "      <td>item_2355</td>\n",
       "      <td>5</td>\n",
       "    </tr>\n",
       "  </tbody>\n",
       "</table>\n",
       "</div>"
      ],
      "text/plain": [
       "     from         to  rating\n",
       "0  user_1  item_1193       5\n",
       "1  user_1   item_661       3\n",
       "2  user_1   item_914       3\n",
       "3  user_1  item_3408       4\n",
       "4  user_1  item_2355       5"
      ]
     },
     "execution_count": 116,
     "metadata": {},
     "output_type": "execute_result"
    }
   ],
   "source": [
    "dataset_tag, dataset_file = \"ml1m\", \"./ratings.dat\"\n",
    "dict_metrics[dataset_tag] = dict()\n",
    "dict_plots[dataset_tag] = dict()\n",
    "df = pd.read_csv(dataset_file, header=None, sep=r'::', engine=\"python\")\n",
    "df.columns = [\"from\", \"to\", \"rating\", \"timestamp\"]\n",
    "df['from'] = df['from'].apply(lambda x: 'user_' + str(x))\n",
    "df['to'] = df['to'].apply(lambda x: 'item_' + str(x))\n",
    "df.drop([\"timestamp\"], axis=1, inplace=True)\n",
    "df.to_csv(\"./\" + dataset_tag + \"_edgelist.txt\", sep='\\t', index=False, header=None)\n",
    "df.head()"
   ]
  },
  {
   "cell_type": "markdown",
   "metadata": {},
   "source": [
    "## Creating Network"
   ]
  },
  {
   "cell_type": "code",
   "execution_count": 145,
   "metadata": {},
   "outputs": [
    {
     "name": "stdout",
     "output_type": "stream",
     "text": [
      "[('1', '88160'), ('1', '118052'), ('1', '161555')]\n",
      "Number of edges:  925872\n",
      "Number of nodes:  334863\n",
      "Transitivity:  0.20522444916452579\n",
      "Is connected:  True\n",
      "Number of connected components:  1\n"
     ]
    }
   ],
   "source": [
    "if dataset_tag == \"ml1m\":\n",
    "    G = nx.DiGraph()\n",
    "    G.add_weighted_edges_from(df[[\"from\", \"to\", \"rating\"]].values)\n",
    "else: \n",
    "    G = nx.read_edgelist(\"./\" + dataset_tag + \"_edgelist.txt\", delimiter='\\t', nodetype=str, data=(('weight',float),))\n",
    "print (list(G.edges)[:3])\n",
    "print (\"Number of edges: \", G.number_of_edges())\n",
    "print (\"Number of nodes: \", G.number_of_nodes())\n",
    "print (\"Transitivity: \", nx.transitivity(G))\n",
    "if not G.is_directed():\n",
    "    print (\"Is connected: \", nx.is_connected(G))\n",
    "    print (\"Number of connected components: \", nx.number_connected_components(G))\n",
    "else:\n",
    "    print (\"Is strongly connected: \", nx.is_strongly_connected(G))\n",
    "    print (\"Number of strongly connected components: \", nx.number_strongly_connected_components(G))"
   ]
  },
  {
   "cell_type": "code",
   "execution_count": 34,
   "metadata": {},
   "outputs": [],
   "source": [
    "# nx.diameter(G)"
   ]
  },
  {
   "cell_type": "markdown",
   "metadata": {},
   "source": [
    "## Getting Stats\n"
   ]
  },
  {
   "cell_type": "markdown",
   "metadata": {},
   "source": [
    "### Degrees"
   ]
  },
  {
   "cell_type": "code",
   "execution_count": 146,
   "metadata": {},
   "outputs": [
    {
     "data": {
      "text/html": [
       "<div>\n",
       "<style scoped>\n",
       "    .dataframe tbody tr th:only-of-type {\n",
       "        vertical-align: middle;\n",
       "    }\n",
       "\n",
       "    .dataframe tbody tr th {\n",
       "        vertical-align: top;\n",
       "    }\n",
       "\n",
       "    .dataframe thead th {\n",
       "        text-align: right;\n",
       "    }\n",
       "</style>\n",
       "<table border=\"1\" class=\"dataframe\">\n",
       "  <thead>\n",
       "    <tr style=\"text-align: right;\">\n",
       "      <th></th>\n",
       "      <th>node</th>\n",
       "      <th>degree</th>\n",
       "      <th>degree_centrality</th>\n",
       "    </tr>\n",
       "  </thead>\n",
       "  <tbody>\n",
       "    <tr>\n",
       "      <td>0</td>\n",
       "      <td>1</td>\n",
       "      <td>8</td>\n",
       "      <td>0.000024</td>\n",
       "    </tr>\n",
       "    <tr>\n",
       "      <td>1</td>\n",
       "      <td>88160</td>\n",
       "      <td>7</td>\n",
       "      <td>0.000021</td>\n",
       "    </tr>\n",
       "    <tr>\n",
       "      <td>2</td>\n",
       "      <td>118052</td>\n",
       "      <td>18</td>\n",
       "      <td>0.000054</td>\n",
       "    </tr>\n",
       "    <tr>\n",
       "      <td>3</td>\n",
       "      <td>161555</td>\n",
       "      <td>31</td>\n",
       "      <td>0.000093</td>\n",
       "    </tr>\n",
       "    <tr>\n",
       "      <td>4</td>\n",
       "      <td>244916</td>\n",
       "      <td>26</td>\n",
       "      <td>0.000078</td>\n",
       "    </tr>\n",
       "  </tbody>\n",
       "</table>\n",
       "</div>"
      ],
      "text/plain": [
       "     node  degree  degree_centrality\n",
       "0       1       8           0.000024\n",
       "1   88160       7           0.000021\n",
       "2  118052      18           0.000054\n",
       "3  161555      31           0.000093\n",
       "4  244916      26           0.000078"
      ]
     },
     "execution_count": 146,
     "metadata": {},
     "output_type": "execute_result"
    }
   ],
   "source": [
    "df_stats = pd.DataFrame(nx.degree(G))\n",
    "df_stats.columns = ['node', 'degree']\n",
    "df_stats['degree_centrality'] = nx.degree_centrality(G).values()\n",
    "dict_metrics[dataset_tag][\"degree\"] = np.array(df_stats[\"degree\"])\n",
    "df_stats.head()"
   ]
  },
  {
   "cell_type": "code",
   "execution_count": 147,
   "metadata": {},
   "outputs": [
    {
     "data": {
      "text/html": [
       "<div>\n",
       "<style scoped>\n",
       "    .dataframe tbody tr th:only-of-type {\n",
       "        vertical-align: middle;\n",
       "    }\n",
       "\n",
       "    .dataframe tbody tr th {\n",
       "        vertical-align: top;\n",
       "    }\n",
       "\n",
       "    .dataframe thead th {\n",
       "        text-align: right;\n",
       "    }\n",
       "</style>\n",
       "<table border=\"1\" class=\"dataframe\">\n",
       "  <thead>\n",
       "    <tr style=\"text-align: right;\">\n",
       "      <th></th>\n",
       "      <th>dataset_tag</th>\n",
       "      <th>metric</th>\n",
       "      <th>max</th>\n",
       "      <th>min</th>\n",
       "      <th>mean</th>\n",
       "      <th>median</th>\n",
       "      <th>std</th>\n",
       "    </tr>\n",
       "  </thead>\n",
       "  <tbody>\n",
       "    <tr>\n",
       "      <td>0</td>\n",
       "      <td>amazon_copurchase</td>\n",
       "      <td>degree</td>\n",
       "      <td>549</td>\n",
       "      <td>1</td>\n",
       "      <td>5.53</td>\n",
       "      <td>4.00</td>\n",
       "      <td>5.76</td>\n",
       "    </tr>\n",
       "  </tbody>\n",
       "</table>\n",
       "</div>"
      ],
      "text/plain": [
       "         dataset_tag  metric  max min  mean median   std\n",
       "0  amazon_copurchase  degree  549   1  5.53   4.00  5.76"
      ]
     },
     "execution_count": 147,
     "metadata": {},
     "output_type": "execute_result"
    }
   ],
   "source": [
    "df_output.loc[df_output.shape[0]] = [dataset_tag, \n",
    "     \"degree\", df_stats[\"degree\"].max(), df_stats[\"degree\"].min(), \n",
    "     '{:.02f}'.format(df_stats[\"degree\"].mean()), \n",
    "     '{:.02f}'.format(df_stats[\"degree\"].median()),\n",
    "     '{:.02f}'.format(df_stats[\"degree\"].std())]\n",
    "df_output"
   ]
  },
  {
   "cell_type": "code",
   "execution_count": 148,
   "metadata": {},
   "outputs": [
    {
     "data": {
      "text/html": [
       "<div>\n",
       "<style scoped>\n",
       "    .dataframe tbody tr th:only-of-type {\n",
       "        vertical-align: middle;\n",
       "    }\n",
       "\n",
       "    .dataframe tbody tr th {\n",
       "        vertical-align: top;\n",
       "    }\n",
       "\n",
       "    .dataframe thead th {\n",
       "        text-align: right;\n",
       "    }\n",
       "</style>\n",
       "<table border=\"1\" class=\"dataframe\">\n",
       "  <thead>\n",
       "    <tr style=\"text-align: right;\">\n",
       "      <th></th>\n",
       "      <th>dataset_tag</th>\n",
       "      <th>metric</th>\n",
       "      <th>max</th>\n",
       "      <th>min</th>\n",
       "      <th>mean</th>\n",
       "      <th>median</th>\n",
       "      <th>std</th>\n",
       "    </tr>\n",
       "  </thead>\n",
       "  <tbody>\n",
       "    <tr>\n",
       "      <td>0</td>\n",
       "      <td>amazon_copurchase</td>\n",
       "      <td>degree</td>\n",
       "      <td>549</td>\n",
       "      <td>1</td>\n",
       "      <td>5.53</td>\n",
       "      <td>4.00</td>\n",
       "      <td>5.76</td>\n",
       "    </tr>\n",
       "  </tbody>\n",
       "</table>\n",
       "</div>"
      ],
      "text/plain": [
       "         dataset_tag  metric  max min  mean median   std\n",
       "0  amazon_copurchase  degree  549   1  5.53   4.00  5.76"
      ]
     },
     "execution_count": 148,
     "metadata": {},
     "output_type": "execute_result"
    }
   ],
   "source": [
    "if G.is_directed():\n",
    "    df_output.loc[df_output.shape[0]] = [dataset_tag, \"out-degree\", \n",
    "         df_stats[df_stats.node.str.contains(\"user\")][\"degree\"].max(), \n",
    "         df_stats[df_stats.node.str.contains(\"user\")][\"degree\"].min(), \n",
    "         '{:.02f}'.format(df_stats[df_stats.node.str.contains(\"user\")][\"degree\"].mean()), \n",
    "         '{:.02f}'.format(df_stats[df_stats.node.str.contains(\"user\")][\"degree\"].median()),\n",
    "         '{:.02f}'.format(df_stats[df_stats.node.str.contains(\"user\")][\"degree\"].std())]\n",
    "\n",
    "    df_output.loc[df_output.shape[0]] = [dataset_tag, \"in-degree\", \n",
    "         df_stats[df_stats.node.str.contains(\"item\")][\"degree\"].max(), \n",
    "         df_stats[df_stats.node.str.contains(\"item\")][\"degree\"].min(), \n",
    "         '{:.02f}'.format(df_stats[df_stats.node.str.contains(\"item\")][\"degree\"].mean()), \n",
    "         '{:.02f}'.format(df_stats[df_stats.node.str.contains(\"item\")][\"degree\"].median()),\n",
    "         '{:.02f}'.format(df_stats[df_stats.node.str.contains(\"item\")][\"degree\"].std())]\n",
    "df_output   "
   ]
  },
  {
   "cell_type": "code",
   "execution_count": 149,
   "metadata": {},
   "outputs": [
    {
     "data": {
      "image/png": "[encoded data removed]",
      "text/plain": [
       "<Figure size 576x576 with 1 Axes>"
      ]
     },
     "metadata": {
      "needs_background": "light"
     },
     "output_type": "display_data"
    }
   ],
   "source": [
    "def plot_ccdf(samples, name=''):\n",
    "    x, y = ccdf(samples)\n",
    "    fig, ax = plt.subplots(nrows=1, ncols=1, figsize=(8,8))\n",
    "    ax.set_title(\"Empirical \" + name + \" CCDF\")\n",
    "    ax.plot(x, y)\n",
    "    ax.set_xscale(\"log\"), ax.set_yscale(\"log\")\n",
    "    ax.set_xlabel(\"x\"), ax.set_ylabel(\"Fraction of Samples >= x\")\n",
    "    ax.grid(True)\n",
    "    return fig, ax \n",
    "\n",
    "fig, ax = plot_ccdf(df_stats[\"degree\"], \"degree\")\n",
    "dict_plots[dataset_tag][\"degree\"] = dict()\n",
    "dict_plots[dataset_tag][\"degree\"][\"fig\"], dict_plots[dataset_tag][\"degree\"][\"ax\"] = fig, ax\n",
    "fig.savefig(\"./images/{}_empirical_degrees_ccdf.jpeg\".format(dataset_tag), bbox_inches=\"tight\")"
   ]
  },
  {
   "cell_type": "code",
   "execution_count": 150,
   "metadata": {},
   "outputs": [],
   "source": [
    "if dataset_tag == \"ml1m\":    \n",
    "    fig, ax = plot_ccdf(df_stats[df_stats.node.str.contains(\"user\")][\"degree\"], \"in-degrees\")\n",
    "    dict_plots[dataset_tag][\"out-degree\"] = dict()\n",
    "    dict_plots[dataset_tag][\"out-degree\"][\"fig\"], dict_plots[dataset_tag][\"out-degree\"][\"ax\"] = fig, ax\n",
    "    fig.savefig(\"./images/{}_empirical_out_degrees_ccdf.jpeg\".format(dataset_tag), bbox_inches=\"tight\")\n",
    "    \n",
    "    fig, ax = plot_ccdf(df_stats[df_stats.node.str.contains(\"item\")][\"degree\"], \"in-degrees\")    \n",
    "    dict_plots[dataset_tag][\"in-degree\"] = dict()\n",
    "    dict_plots[dataset_tag][\"in-degree\"][\"fig\"], dict_plots[dataset_tag][\"in-degree\"][\"ax\"] = fig, ax\n",
    "    fig.savefig(\"./images/{}_empirical_in_degrees_ccdf.jpeg\".format(dataset_tag), bbox_inches=\"tight\")\n",
    "    "
   ]
  },
  {
   "cell_type": "markdown",
   "metadata": {},
   "source": [
    "## Sample-based Metrics"
   ]
  },
  {
   "cell_type": "code",
   "execution_count": 157,
   "metadata": {},
   "outputs": [
    {
     "name": "stdout",
     "output_type": "stream",
     "text": [
      "Wall time: 5min 54s\n"
     ]
    }
   ],
   "source": [
    "%%time\n",
    "n_trial_nodes = 100\n",
    "arr_dist = arr_close = arr_clust = np.array([])\n",
    "for node in np.random.choice(df_stats[\"node\"].unique(), size=n_trial_nodes):\n",
    "    node_dist = np.array(list(nx.shortest_path_length(G, node).values())[1:])\n",
    "    node_close = nx.closeness_centrality(G, node)\n",
    "    arr_dist = np.append(arr_dist, node_dist)\n",
    "    arr_close = np.append(arr_close, node_close)\n",
    "    arr_clust = np.append(arr_clust, nx.clustering(G, node))\n",
    "    \n",
    "dict_metrics[dataset_tag][\"distance\"] = arr_dist\n",
    "dict_metrics[dataset_tag][\"closeness\"] = arr_close\n",
    "dict_metrics[dataset_tag][\"clustering\"] = arr_clust"
   ]
  },
  {
   "cell_type": "markdown",
   "metadata": {},
   "source": [
    "### Distance"
   ]
  },
  {
   "cell_type": "code",
   "execution_count": 158,
   "metadata": {},
   "outputs": [
    {
     "data": {
      "text/html": [
       "<div>\n",
       "<style scoped>\n",
       "    .dataframe tbody tr th:only-of-type {\n",
       "        vertical-align: middle;\n",
       "    }\n",
       "\n",
       "    .dataframe tbody tr th {\n",
       "        vertical-align: top;\n",
       "    }\n",
       "\n",
       "    .dataframe thead th {\n",
       "        text-align: right;\n",
       "    }\n",
       "</style>\n",
       "<table border=\"1\" class=\"dataframe\">\n",
       "  <thead>\n",
       "    <tr style=\"text-align: right;\">\n",
       "      <th></th>\n",
       "      <th>dataset_tag</th>\n",
       "      <th>metric</th>\n",
       "      <th>max</th>\n",
       "      <th>min</th>\n",
       "      <th>mean</th>\n",
       "      <th>median</th>\n",
       "      <th>std</th>\n",
       "    </tr>\n",
       "  </thead>\n",
       "  <tbody>\n",
       "    <tr>\n",
       "      <td>0</td>\n",
       "      <td>amazon_copurchase</td>\n",
       "      <td>degree</td>\n",
       "      <td>549</td>\n",
       "      <td>1</td>\n",
       "      <td>5.53</td>\n",
       "      <td>4.00</td>\n",
       "      <td>5.76</td>\n",
       "    </tr>\n",
       "    <tr>\n",
       "      <td>1</td>\n",
       "      <td>amazon_copurchase</td>\n",
       "      <td>distance</td>\n",
       "      <td>35</td>\n",
       "      <td>1</td>\n",
       "      <td>12.16</td>\n",
       "      <td>12.00</td>\n",
       "      <td>2.70</td>\n",
       "    </tr>\n",
       "    <tr>\n",
       "      <td>2</td>\n",
       "      <td>amazon_copurchase</td>\n",
       "      <td>closeness</td>\n",
       "      <td>0.0963342</td>\n",
       "      <td>0.0712237</td>\n",
       "      <td>0.08</td>\n",
       "      <td>0.08</td>\n",
       "      <td>0.01</td>\n",
       "    </tr>\n",
       "    <tr>\n",
       "      <td>3</td>\n",
       "      <td>amazon_copurchase</td>\n",
       "      <td>distance</td>\n",
       "      <td>41</td>\n",
       "      <td>1</td>\n",
       "      <td>12.06</td>\n",
       "      <td>12.00</td>\n",
       "      <td>3.14</td>\n",
       "    </tr>\n",
       "  </tbody>\n",
       "</table>\n",
       "</div>"
      ],
      "text/plain": [
       "         dataset_tag     metric        max        min   mean median   std\n",
       "0  amazon_copurchase     degree        549          1   5.53   4.00  5.76\n",
       "1  amazon_copurchase   distance         35          1  12.16  12.00  2.70\n",
       "2  amazon_copurchase  closeness  0.0963342  0.0712237   0.08   0.08  0.01\n",
       "3  amazon_copurchase   distance         41          1  12.06  12.00  3.14"
      ]
     },
     "execution_count": 158,
     "metadata": {},
     "output_type": "execute_result"
    }
   ],
   "source": [
    "df_output.loc[df_output.shape[0]] = [dataset_tag, \"distance\", \n",
    "     arr_dist.max(), arr_dist.min(), \n",
    "     '{:.02f}'.format(arr_dist.mean()), \n",
    "     '{:.02f}'.format(np.median(arr_dist)),\n",
    "     '{:.02f}'.format(arr_dist.std())]\n",
    "df_output"
   ]
  },
  {
   "cell_type": "code",
   "execution_count": 159,
   "metadata": {},
   "outputs": [
    {
     "data": {
      "image/png": "[encoded data removed]",
      "text/plain": [
       "<Figure size 576x576 with 1 Axes>"
      ]
     },
     "metadata": {
      "needs_background": "light"
     },
     "output_type": "display_data"
    }
   ],
   "source": [
    "fig, ax = plot_ccdf(arr_dist, name=\"distance ({} samples)\".format(n_trial_nodes))\n",
    "dict_plots[dataset_tag][\"distance\"] = dict()\n",
    "dict_plots[dataset_tag][\"distance\"][\"fig\"], dict_plots[dataset_tag][\"distance\"][\"ax\"] = fig, ax\n",
    "fig.savefig(\"./images/{}_empirical_distances_ccdf.jpeg\".format(dataset_tag), bbox_inches=\"tight\")"
   ]
  },
  {
   "cell_type": "markdown",
   "metadata": {},
   "source": [
    "### Closeness"
   ]
  },
  {
   "cell_type": "code",
   "execution_count": 160,
   "metadata": {},
   "outputs": [
    {
     "data": {
      "text/html": [
       "<div>\n",
       "<style scoped>\n",
       "    .dataframe tbody tr th:only-of-type {\n",
       "        vertical-align: middle;\n",
       "    }\n",
       "\n",
       "    .dataframe tbody tr th {\n",
       "        vertical-align: top;\n",
       "    }\n",
       "\n",
       "    .dataframe thead th {\n",
       "        text-align: right;\n",
       "    }\n",
       "</style>\n",
       "<table border=\"1\" class=\"dataframe\">\n",
       "  <thead>\n",
       "    <tr style=\"text-align: right;\">\n",
       "      <th></th>\n",
       "      <th>dataset_tag</th>\n",
       "      <th>metric</th>\n",
       "      <th>max</th>\n",
       "      <th>min</th>\n",
       "      <th>mean</th>\n",
       "      <th>median</th>\n",
       "      <th>std</th>\n",
       "    </tr>\n",
       "  </thead>\n",
       "  <tbody>\n",
       "    <tr>\n",
       "      <td>0</td>\n",
       "      <td>amazon_copurchase</td>\n",
       "      <td>degree</td>\n",
       "      <td>549</td>\n",
       "      <td>1</td>\n",
       "      <td>5.53</td>\n",
       "      <td>4.00</td>\n",
       "      <td>5.76</td>\n",
       "    </tr>\n",
       "    <tr>\n",
       "      <td>1</td>\n",
       "      <td>amazon_copurchase</td>\n",
       "      <td>distance</td>\n",
       "      <td>35</td>\n",
       "      <td>1</td>\n",
       "      <td>12.16</td>\n",
       "      <td>12.00</td>\n",
       "      <td>2.70</td>\n",
       "    </tr>\n",
       "    <tr>\n",
       "      <td>2</td>\n",
       "      <td>amazon_copurchase</td>\n",
       "      <td>closeness</td>\n",
       "      <td>0.0963342</td>\n",
       "      <td>0.0712237</td>\n",
       "      <td>0.08</td>\n",
       "      <td>0.08</td>\n",
       "      <td>0.01</td>\n",
       "    </tr>\n",
       "    <tr>\n",
       "      <td>3</td>\n",
       "      <td>amazon_copurchase</td>\n",
       "      <td>distance</td>\n",
       "      <td>41</td>\n",
       "      <td>1</td>\n",
       "      <td>12.06</td>\n",
       "      <td>12.00</td>\n",
       "      <td>3.14</td>\n",
       "    </tr>\n",
       "    <tr>\n",
       "      <td>4</td>\n",
       "      <td>amazon_copurchase</td>\n",
       "      <td>closeness</td>\n",
       "      <td>0.115648</td>\n",
       "      <td>0.0497709</td>\n",
       "      <td>0.08</td>\n",
       "      <td>0.09</td>\n",
       "      <td>0.01</td>\n",
       "    </tr>\n",
       "  </tbody>\n",
       "</table>\n",
       "</div>"
      ],
      "text/plain": [
       "         dataset_tag     metric        max        min   mean median   std\n",
       "0  amazon_copurchase     degree        549          1   5.53   4.00  5.76\n",
       "1  amazon_copurchase   distance         35          1  12.16  12.00  2.70\n",
       "2  amazon_copurchase  closeness  0.0963342  0.0712237   0.08   0.08  0.01\n",
       "3  amazon_copurchase   distance         41          1  12.06  12.00  3.14\n",
       "4  amazon_copurchase  closeness   0.115648  0.0497709   0.08   0.09  0.01"
      ]
     },
     "execution_count": 160,
     "metadata": {},
     "output_type": "execute_result"
    }
   ],
   "source": [
    "df_output.loc[df_output.shape[0]] = [dataset_tag, \"closeness\", \n",
    "     arr_close.max(), arr_close.min(), \n",
    "     '{:.02f}'.format(arr_close.mean()), \n",
    "     '{:.02f}'.format(np.median(arr_close)),\n",
    "     '{:.02f}'.format(arr_close.std())]\n",
    "df_output"
   ]
  },
  {
   "cell_type": "code",
   "execution_count": 161,
   "metadata": {},
   "outputs": [
    {
     "data": {
      "image/png": "[encoded data removed]",
      "text/plain": [
       "<Figure size 576x576 with 1 Axes>"
      ]
     },
     "metadata": {
      "needs_background": "light"
     },
     "output_type": "display_data"
    }
   ],
   "source": [
    "fig, ax = plot_ccdf(arr_close, name=\"closeness ({} samples)\".format(n_trial_nodes))\n",
    "dict_plots[dataset_tag][\"closeness\"] = dict()\n",
    "dict_plots[dataset_tag][\"closeness\"][\"fig\"], dict_plots[dataset_tag][\"closeness\"][\"ax\"] = fig, ax\n",
    "fig.savefig(\"./images/{}_empirical_closeness_ccdf.jpeg\".format(dataset_tag), bbox_inches=\"tight\")"
   ]
  },
  {
   "cell_type": "code",
   "execution_count": null,
   "metadata": {},
   "outputs": [],
   "source": []
  },
  {
   "cell_type": "code",
   "execution_count": 32,
   "metadata": {},
   "outputs": [
    {
     "data": {
      "text/html": [
       "<div>\n",
       "<style scoped>\n",
       "    .dataframe tbody tr th:only-of-type {\n",
       "        vertical-align: middle;\n",
       "    }\n",
       "\n",
       "    .dataframe tbody tr th {\n",
       "        vertical-align: top;\n",
       "    }\n",
       "\n",
       "    .dataframe thead th {\n",
       "        text-align: right;\n",
       "    }\n",
       "</style>\n",
       "<table border=\"1\" class=\"dataframe\">\n",
       "  <thead>\n",
       "    <tr style=\"text-align: right;\">\n",
       "      <th></th>\n",
       "      <th>node</th>\n",
       "      <th>degree</th>\n",
       "      <th>degree_centrality</th>\n",
       "    </tr>\n",
       "  </thead>\n",
       "  <tbody>\n",
       "    <tr>\n",
       "      <th>count</th>\n",
       "      <td>334863.000000</td>\n",
       "      <td>334863.000000</td>\n",
       "      <td>334863.000000</td>\n",
       "    </tr>\n",
       "    <tr>\n",
       "      <th>mean</th>\n",
       "      <td>276768.565727</td>\n",
       "      <td>5.529855</td>\n",
       "      <td>0.000017</td>\n",
       "    </tr>\n",
       "    <tr>\n",
       "      <th>std</th>\n",
       "      <td>159927.553896</td>\n",
       "      <td>5.761639</td>\n",
       "      <td>0.000017</td>\n",
       "    </tr>\n",
       "    <tr>\n",
       "      <th>min</th>\n",
       "      <td>1.000000</td>\n",
       "      <td>1.000000</td>\n",
       "      <td>0.000003</td>\n",
       "    </tr>\n",
       "    <tr>\n",
       "      <th>25%</th>\n",
       "      <td>138028.000000</td>\n",
       "      <td>3.000000</td>\n",
       "      <td>0.000009</td>\n",
       "    </tr>\n",
       "    <tr>\n",
       "      <th>50%</th>\n",
       "      <td>276405.000000</td>\n",
       "      <td>4.000000</td>\n",
       "      <td>0.000012</td>\n",
       "    </tr>\n",
       "    <tr>\n",
       "      <th>75%</th>\n",
       "      <td>415626.500000</td>\n",
       "      <td>6.000000</td>\n",
       "      <td>0.000018</td>\n",
       "    </tr>\n",
       "    <tr>\n",
       "      <th>max</th>\n",
       "      <td>548551.000000</td>\n",
       "      <td>549.000000</td>\n",
       "      <td>0.001639</td>\n",
       "    </tr>\n",
       "  </tbody>\n",
       "</table>\n",
       "</div>"
      ],
      "text/plain": [
       "                node         degree  degree_centrality\n",
       "count  334863.000000  334863.000000      334863.000000\n",
       "mean   276768.565727       5.529855           0.000017\n",
       "std    159927.553896       5.761639           0.000017\n",
       "min         1.000000       1.000000           0.000003\n",
       "25%    138028.000000       3.000000           0.000009\n",
       "50%    276405.000000       4.000000           0.000012\n",
       "75%    415626.500000       6.000000           0.000018\n",
       "max    548551.000000     549.000000           0.001639"
      ]
     },
     "execution_count": 32,
     "metadata": {},
     "output_type": "execute_result"
    }
   ],
   "source": [
    "df_stats.describe()"
   ]
  },
  {
   "cell_type": "markdown",
   "metadata": {},
   "source": [
    "## Plotting All Datasets"
   ]
  },
  {
   "cell_type": "code",
   "execution_count": null,
   "metadata": {},
   "outputs": [],
   "source": []
  },
  {
   "cell_type": "code",
   "execution_count": null,
   "metadata": {},
   "outputs": [],
   "source": []
  },
  {
   "cell_type": "markdown",
   "metadata": {},
   "source": [
    "_______________"
   ]
  },
  {
   "cell_type": "code",
   "execution_count": 179,
   "metadata": {},
   "outputs": [],
   "source": [
    "G=nx.DiGraph()\n",
    "\n",
    "G.add_edge('u1','i1',weight=0.6)\n",
    "G.add_edge('u1','i2',weight=0.2)\n",
    "G.add_edge('u2','i1',weight=0.1)"
   ]
  },
  {
   "cell_type": "code",
   "execution_count": 180,
   "metadata": {},
   "outputs": [
    {
     "ename": "KeyError",
     "evalue": "'a'",
     "output_type": "error",
     "traceback": [
      "\u001b[1;31m---------------------------------------------------------------------------\u001b[0m",
      "\u001b[1;31mKeyError\u001b[0m                                  Traceback (most recent call last)",
      "\u001b[1;32m<ipython-input-180-aeb7c9109e0b>\u001b[0m in \u001b[0;36m<module>\u001b[1;34m\u001b[0m\n\u001b[0;32m      5\u001b[0m         \u001b[0mnode_color\u001b[0m\u001b[1;33m=\u001b[0m\u001b[1;33m[\u001b[0m\u001b[1;34m'r'\u001b[0m\u001b[1;33m,\u001b[0m \u001b[1;34m'r'\u001b[0m\u001b[1;33m,\u001b[0m \u001b[1;34m'b'\u001b[0m\u001b[1;33m,\u001b[0m \u001b[1;34m'b'\u001b[0m\u001b[1;33m]\u001b[0m\u001b[1;33m,\u001b[0m\u001b[1;33m\u001b[0m\u001b[1;33m\u001b[0m\u001b[0m\n\u001b[0;32m      6\u001b[0m         \u001b[0mlabels\u001b[0m\u001b[1;33m=\u001b[0m\u001b[1;33m{\u001b[0m\u001b[1;34m'a'\u001b[0m\u001b[1;33m:\u001b[0m \u001b[1;36m1\u001b[0m\u001b[1;33m,\u001b[0m \u001b[1;34m'b'\u001b[0m\u001b[1;33m:\u001b[0m \u001b[1;36m2\u001b[0m\u001b[1;33m,\u001b[0m \u001b[1;34m'c'\u001b[0m\u001b[1;33m:\u001b[0m \u001b[1;36m2\u001b[0m\u001b[1;33m,\u001b[0m \u001b[1;34m'd'\u001b[0m\u001b[1;33m:\u001b[0m \u001b[1;36m4\u001b[0m\u001b[1;33m}\u001b[0m\u001b[1;33m,\u001b[0m\u001b[1;33m\u001b[0m\u001b[1;33m\u001b[0m\u001b[0m\n\u001b[1;32m----> 7\u001b[1;33m         ax=ax)\n\u001b[0m\u001b[0;32m      8\u001b[0m \u001b[0mplt\u001b[0m\u001b[1;33m.\u001b[0m\u001b[0mshow\u001b[0m\u001b[1;33m(\u001b[0m\u001b[1;33m)\u001b[0m\u001b[1;33m\u001b[0m\u001b[1;33m\u001b[0m\u001b[0m\n",
      "\u001b[1;32m~\\AppData\\Local\\Continuum\\anaconda3\\lib\\site-packages\\networkx\\drawing\\nx_pylab.py\u001b[0m in \u001b[0;36mdraw\u001b[1;34m(G, pos, ax, **kwds)\u001b[0m\n\u001b[0;32m    126\u001b[0m \u001b[1;33m\u001b[0m\u001b[0m\n\u001b[0;32m    127\u001b[0m     \u001b[1;32mtry\u001b[0m\u001b[1;33m:\u001b[0m\u001b[1;33m\u001b[0m\u001b[1;33m\u001b[0m\u001b[0m\n\u001b[1;32m--> 128\u001b[1;33m         \u001b[0mdraw_networkx\u001b[0m\u001b[1;33m(\u001b[0m\u001b[0mG\u001b[0m\u001b[1;33m,\u001b[0m \u001b[0mpos\u001b[0m\u001b[1;33m=\u001b[0m\u001b[0mpos\u001b[0m\u001b[1;33m,\u001b[0m \u001b[0max\u001b[0m\u001b[1;33m=\u001b[0m\u001b[0max\u001b[0m\u001b[1;33m,\u001b[0m \u001b[1;33m**\u001b[0m\u001b[0mkwds\u001b[0m\u001b[1;33m)\u001b[0m\u001b[1;33m\u001b[0m\u001b[1;33m\u001b[0m\u001b[0m\n\u001b[0m\u001b[0;32m    129\u001b[0m         \u001b[0max\u001b[0m\u001b[1;33m.\u001b[0m\u001b[0mset_axis_off\u001b[0m\u001b[1;33m(\u001b[0m\u001b[1;33m)\u001b[0m\u001b[1;33m\u001b[0m\u001b[1;33m\u001b[0m\u001b[0m\n\u001b[0;32m    130\u001b[0m         \u001b[0mplt\u001b[0m\u001b[1;33m.\u001b[0m\u001b[0mdraw_if_interactive\u001b[0m\u001b[1;33m(\u001b[0m\u001b[1;33m)\u001b[0m\u001b[1;33m\u001b[0m\u001b[1;33m\u001b[0m\u001b[0m\n",
      "\u001b[1;32m~\\AppData\\Local\\Continuum\\anaconda3\\lib\\site-packages\\networkx\\drawing\\nx_pylab.py\u001b[0m in \u001b[0;36mdraw_networkx\u001b[1;34m(G, pos, arrows, with_labels, **kwds)\u001b[0m\n\u001b[0;32m    280\u001b[0m     \u001b[0medge_collection\u001b[0m \u001b[1;33m=\u001b[0m \u001b[0mdraw_networkx_edges\u001b[0m\u001b[1;33m(\u001b[0m\u001b[0mG\u001b[0m\u001b[1;33m,\u001b[0m \u001b[0mpos\u001b[0m\u001b[1;33m,\u001b[0m \u001b[0marrows\u001b[0m\u001b[1;33m=\u001b[0m\u001b[0marrows\u001b[0m\u001b[1;33m,\u001b[0m \u001b[1;33m**\u001b[0m\u001b[0mkwds\u001b[0m\u001b[1;33m)\u001b[0m\u001b[1;33m\u001b[0m\u001b[1;33m\u001b[0m\u001b[0m\n\u001b[0;32m    281\u001b[0m     \u001b[1;32mif\u001b[0m \u001b[0mwith_labels\u001b[0m\u001b[1;33m:\u001b[0m\u001b[1;33m\u001b[0m\u001b[1;33m\u001b[0m\u001b[0m\n\u001b[1;32m--> 282\u001b[1;33m         \u001b[0mdraw_networkx_labels\u001b[0m\u001b[1;33m(\u001b[0m\u001b[0mG\u001b[0m\u001b[1;33m,\u001b[0m \u001b[0mpos\u001b[0m\u001b[1;33m,\u001b[0m \u001b[1;33m**\u001b[0m\u001b[0mkwds\u001b[0m\u001b[1;33m)\u001b[0m\u001b[1;33m\u001b[0m\u001b[1;33m\u001b[0m\u001b[0m\n\u001b[0m\u001b[0;32m    283\u001b[0m     \u001b[0mplt\u001b[0m\u001b[1;33m.\u001b[0m\u001b[0mdraw_if_interactive\u001b[0m\u001b[1;33m(\u001b[0m\u001b[1;33m)\u001b[0m\u001b[1;33m\u001b[0m\u001b[1;33m\u001b[0m\u001b[0m\n\u001b[0;32m    284\u001b[0m \u001b[1;33m\u001b[0m\u001b[0m\n",
      "\u001b[1;32m~\\AppData\\Local\\Continuum\\anaconda3\\lib\\site-packages\\networkx\\drawing\\nx_pylab.py\u001b[0m in \u001b[0;36mdraw_networkx_labels\u001b[1;34m(G, pos, labels, font_size, font_color, font_family, font_weight, alpha, bbox, ax, **kwds)\u001b[0m\n\u001b[0;32m    817\u001b[0m     \u001b[0mtext_items\u001b[0m \u001b[1;33m=\u001b[0m \u001b[1;33m{\u001b[0m\u001b[1;33m}\u001b[0m  \u001b[1;31m# there is no text collection so we'll fake one\u001b[0m\u001b[1;33m\u001b[0m\u001b[1;33m\u001b[0m\u001b[0m\n\u001b[0;32m    818\u001b[0m     \u001b[1;32mfor\u001b[0m \u001b[0mn\u001b[0m\u001b[1;33m,\u001b[0m \u001b[0mlabel\u001b[0m \u001b[1;32min\u001b[0m \u001b[0mlabels\u001b[0m\u001b[1;33m.\u001b[0m\u001b[0mitems\u001b[0m\u001b[1;33m(\u001b[0m\u001b[1;33m)\u001b[0m\u001b[1;33m:\u001b[0m\u001b[1;33m\u001b[0m\u001b[1;33m\u001b[0m\u001b[0m\n\u001b[1;32m--> 819\u001b[1;33m         \u001b[1;33m(\u001b[0m\u001b[0mx\u001b[0m\u001b[1;33m,\u001b[0m \u001b[0my\u001b[0m\u001b[1;33m)\u001b[0m \u001b[1;33m=\u001b[0m \u001b[0mpos\u001b[0m\u001b[1;33m[\u001b[0m\u001b[0mn\u001b[0m\u001b[1;33m]\u001b[0m\u001b[1;33m\u001b[0m\u001b[1;33m\u001b[0m\u001b[0m\n\u001b[0m\u001b[0;32m    820\u001b[0m         \u001b[1;32mif\u001b[0m \u001b[1;32mnot\u001b[0m \u001b[0mis_string_like\u001b[0m\u001b[1;33m(\u001b[0m\u001b[0mlabel\u001b[0m\u001b[1;33m)\u001b[0m\u001b[1;33m:\u001b[0m\u001b[1;33m\u001b[0m\u001b[1;33m\u001b[0m\u001b[0m\n\u001b[0;32m    821\u001b[0m             \u001b[0mlabel\u001b[0m \u001b[1;33m=\u001b[0m \u001b[0mstr\u001b[0m\u001b[1;33m(\u001b[0m\u001b[0mlabel\u001b[0m\u001b[1;33m)\u001b[0m  \u001b[1;31m# this makes \"1\" and 1 labeled the same\u001b[0m\u001b[1;33m\u001b[0m\u001b[1;33m\u001b[0m\u001b[0m\n",
      "\u001b[1;31mKeyError\u001b[0m: 'a'"
     ]
    },
    {
     "data": {
      "image/png": "[encoded data removed]",
      "text/plain": [
       "<Figure size 576x576 with 1 Axes>"
      ]
     },
     "metadata": {},
     "output_type": "display_data"
    }
   ],
   "source": [
    "fig, ax = plt.subplots(nrows=1, ncols=1, figsize=(8,8))\n",
    "nx.draw(G,pos=nx.spring_layout(G), \n",
    "        label=\"uhu\", \n",
    "        node_size=900, \n",
    "        node_color=['r', 'r', 'b', 'b'],\n",
    "        labels={'u1': 'u1', 'u2': 'u2', 'i1': 'i1', 'd': 4},\n",
    "        ax=ax)\n",
    "plt.show()"
   ]
  }
 ],
 "metadata": {
  "kernelspec": {
   "display_name": "Python 3",
   "language": "python",
   "name": "python3"
  },
  "language_info": {
   "codemirror_mode": {
    "name": "ipython",
    "version": 3
   },
   "file_extension": ".py",
   "mimetype": "text/x-python",
   "name": "python",
   "nbconvert_exporter": "python",
   "pygments_lexer": "ipython3",
   "version": "3.6.4"
  }
 },
 "nbformat": 4,
 "nbformat_minor": 2
}
