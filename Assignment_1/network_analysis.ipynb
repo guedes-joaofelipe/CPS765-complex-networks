{
 "cells": [
  {
   "cell_type": "markdown",
   "metadata": {},
   "source": [
    "# Network Analysis\n",
    "\n",
    "This notebook provide analysis metrics on 3 complex networks: \n",
    "\n",
    "- [Amazon Co-purchase](http://snap.stanford.edu/data/com-Amazon.html)\n",
    "- [Wikipedia Admin Election](http://snap.stanford.edu/data/wiki-Elec.html)\n",
    "- [World Cities and Global Firms](https://www.lboro.ac.uk/gawc/datasets/da6.html)\n",
    "- [Les Miserables Coappearance](http://www-personal.umich.edu/~mejn/netdata/)\n",
    "\n",
    "The following metrics are obtained: \n",
    "\n",
    "- Degree\n",
    "- Distance \n",
    "- Closeness\n",
    "- Betweenness\n",
    "\n",
    "## Imports"
   ]
  },
  {
   "cell_type": "code",
   "execution_count": 1,
   "metadata": {},
   "outputs": [],
   "source": [
    "import networkx as nx\n",
    "from powerlaw import ccdf\n",
    "import matplotlib.pyplot as plt\n",
    "import pandas as pd \n",
    "import numpy as np"
   ]
  },
  {
   "cell_type": "markdown",
   "metadata": {},
   "source": [
    "### Initializing Variables"
   ]
  },
  {
   "cell_type": "code",
   "execution_count": 2,
   "metadata": {},
   "outputs": [],
   "source": [
    "dict_metrics = {}\n",
    "dict_plots = {}\n",
    "df_output = pd.DataFrame(columns=[\"dataset_tag\", \"metric\", \"max\", \"min\", \"mean\", \"median\", \"std\"])"
   ]
  },
  {
   "cell_type": "markdown",
   "metadata": {},
   "source": [
    "## Processing Datafiles\n",
    "\n",
    "For each dataset, a source file is processed in order to create an adjacency-list output file.\n",
    "\n",
    "### Amazon Co-purchase"
   ]
  },
  {
   "cell_type": "code",
   "execution_count": 144,
   "metadata": {},
   "outputs": [
    {
     "data": {
      "text/html": [
       "<div>\n",
       "<style scoped>\n",
       "    .dataframe tbody tr th:only-of-type {\n",
       "        vertical-align: middle;\n",
       "    }\n",
       "\n",
       "    .dataframe tbody tr th {\n",
       "        vertical-align: top;\n",
       "    }\n",
       "\n",
       "    .dataframe thead th {\n",
       "        text-align: right;\n",
       "    }\n",
       "</style>\n",
       "<table border=\"1\" class=\"dataframe\">\n",
       "  <thead>\n",
       "    <tr style=\"text-align: right;\">\n",
       "      <th></th>\n",
       "      <th>from</th>\n",
       "      <th>to</th>\n",
       "    </tr>\n",
       "  </thead>\n",
       "  <tbody>\n",
       "    <tr>\n",
       "      <td>925867</td>\n",
       "      <td>548343</td>\n",
       "      <td>548378</td>\n",
       "    </tr>\n",
       "    <tr>\n",
       "      <td>925868</td>\n",
       "      <td>548354</td>\n",
       "      <td>548356</td>\n",
       "    </tr>\n",
       "    <tr>\n",
       "      <td>925869</td>\n",
       "      <td>548368</td>\n",
       "      <td>548454</td>\n",
       "    </tr>\n",
       "    <tr>\n",
       "      <td>925870</td>\n",
       "      <td>548391</td>\n",
       "      <td>548411</td>\n",
       "    </tr>\n",
       "    <tr>\n",
       "      <td>925871</td>\n",
       "      <td>548411</td>\n",
       "      <td>548458</td>\n",
       "    </tr>\n",
       "  </tbody>\n",
       "</table>\n",
       "</div>"
      ],
      "text/plain": [
       "          from      to\n",
       "925867  548343  548378\n",
       "925868  548354  548356\n",
       "925869  548368  548454\n",
       "925870  548391  548411\n",
       "925871  548411  548458"
      ]
     },
     "execution_count": 144,
     "metadata": {},
     "output_type": "execute_result"
    }
   ],
   "source": [
    "dataset_tag, dataset_file = \"amazon_copurchase\", \"./com-amazon.ungraph.txt\"\n",
    "dict_metrics[dataset_tag] = dict()\n",
    "dict_plots[dataset_tag] = dict()\n",
    "df = pd.read_csv(dataset_file, header=None, skiprows=4, sep='\\t')\n",
    "df.columns = [\"from\", \"to\"]\n",
    "df.to_csv(\"./\" + dataset_tag + \"_edgelist.txt\", sep='\\t', index=False, header=None)\n",
    "df.tail()"
   ]
  },
  {
   "cell_type": "markdown",
   "metadata": {},
   "source": [
    "### Movie Lens 1M"
   ]
  },
  {
   "cell_type": "code",
   "execution_count": 116,
   "metadata": {},
   "outputs": [
    {
     "data": {
      "text/html": [
       "<div>\n",
       "<style scoped>\n",
       "    .dataframe tbody tr th:only-of-type {\n",
       "        vertical-align: middle;\n",
       "    }\n",
       "\n",
       "    .dataframe tbody tr th {\n",
       "        vertical-align: top;\n",
       "    }\n",
       "\n",
       "    .dataframe thead th {\n",
       "        text-align: right;\n",
       "    }\n",
       "</style>\n",
       "<table border=\"1\" class=\"dataframe\">\n",
       "  <thead>\n",
       "    <tr style=\"text-align: right;\">\n",
       "      <th></th>\n",
       "      <th>from</th>\n",
       "      <th>to</th>\n",
       "      <th>rating</th>\n",
       "    </tr>\n",
       "  </thead>\n",
       "  <tbody>\n",
       "    <tr>\n",
       "      <td>0</td>\n",
       "      <td>user_1</td>\n",
       "      <td>item_1193</td>\n",
       "      <td>5</td>\n",
       "    </tr>\n",
       "    <tr>\n",
       "      <td>1</td>\n",
       "      <td>user_1</td>\n",
       "      <td>item_661</td>\n",
       "      <td>3</td>\n",
       "    </tr>\n",
       "    <tr>\n",
       "      <td>2</td>\n",
       "      <td>user_1</td>\n",
       "      <td>item_914</td>\n",
       "      <td>3</td>\n",
       "    </tr>\n",
       "    <tr>\n",
       "      <td>3</td>\n",
       "      <td>user_1</td>\n",
       "      <td>item_3408</td>\n",
       "      <td>4</td>\n",
       "    </tr>\n",
       "    <tr>\n",
       "      <td>4</td>\n",
       "      <td>user_1</td>\n",
       "      <td>item_2355</td>\n",
       "      <td>5</td>\n",
       "    </tr>\n",
       "  </tbody>\n",
       "</table>\n",
       "</div>"
      ],
      "text/plain": [
       "     from         to  rating\n",
       "0  user_1  item_1193       5\n",
       "1  user_1   item_661       3\n",
       "2  user_1   item_914       3\n",
       "3  user_1  item_3408       4\n",
       "4  user_1  item_2355       5"
      ]
     },
     "execution_count": 116,
     "metadata": {},
     "output_type": "execute_result"
    }
   ],
   "source": [
    "dataset_tag, dataset_file = \"ml1m\", \"./ratings.dat\"\n",
    "dict_metrics[dataset_tag] = dict()\n",
    "dict_plots[dataset_tag] = dict()\n",
    "df = pd.read_csv(dataset_file, header=None, sep=r'::', engine=\"python\")\n",
    "df.columns = [\"from\", \"to\", \"rating\", \"timestamp\"]\n",
    "df['from'] = df['from'].apply(lambda x: 'user_' + str(x))\n",
    "df['to'] = df['to'].apply(lambda x: 'item_' + str(x))\n",
    "df.drop([\"timestamp\"], axis=1, inplace=True)\n",
    "df.to_csv(\"./\" + dataset_tag + \"_edgelist.txt\", sep='\\t', index=False, header=None)\n",
    "df.head()"
   ]
  },
  {
   "cell_type": "markdown",
   "metadata": {},
   "source": [
    "### World Cities and Global Companies"
   ]
  },
  {
   "cell_type": "code",
   "execution_count": 22,
   "metadata": {},
   "outputs": [
    {
     "data": {
      "text/html": [
       "<div>\n",
       "<style scoped>\n",
       "    .dataframe tbody tr th:only-of-type {\n",
       "        vertical-align: middle;\n",
       "    }\n",
       "\n",
       "    .dataframe tbody tr th {\n",
       "        vertical-align: top;\n",
       "    }\n",
       "\n",
       "    .dataframe thead th {\n",
       "        text-align: right;\n",
       "    }\n",
       "</style>\n",
       "<table border=\"1\" class=\"dataframe\">\n",
       "  <thead>\n",
       "    <tr style=\"text-align: right;\">\n",
       "      <th></th>\n",
       "      <th>from</th>\n",
       "      <th>to</th>\n",
       "      <th>weight</th>\n",
       "    </tr>\n",
       "  </thead>\n",
       "  <tbody>\n",
       "    <tr>\n",
       "      <th>0</th>\n",
       "      <td>Amsterdam</td>\n",
       "      <td>KP</td>\n",
       "      <td>3</td>\n",
       "    </tr>\n",
       "    <tr>\n",
       "      <th>1</th>\n",
       "      <td>Atlanta</td>\n",
       "      <td>KP</td>\n",
       "      <td>3</td>\n",
       "    </tr>\n",
       "    <tr>\n",
       "      <th>2</th>\n",
       "      <td>Bangkok</td>\n",
       "      <td>KP</td>\n",
       "      <td>1</td>\n",
       "    </tr>\n",
       "    <tr>\n",
       "      <th>3</th>\n",
       "      <td>Barcelona</td>\n",
       "      <td>KP</td>\n",
       "      <td>1</td>\n",
       "    </tr>\n",
       "    <tr>\n",
       "      <th>4</th>\n",
       "      <td>Beijing</td>\n",
       "      <td>KP</td>\n",
       "      <td>1</td>\n",
       "    </tr>\n",
       "  </tbody>\n",
       "</table>\n",
       "</div>"
      ],
      "text/plain": [
       "        from  to  weight\n",
       "0  Amsterdam  KP       3\n",
       "1    Atlanta  KP       3\n",
       "2    Bangkok  KP       1\n",
       "3  Barcelona  KP       1\n",
       "4    Beijing  KP       1"
      ]
     },
     "execution_count": 22,
     "metadata": {},
     "output_type": "execute_result"
    }
   ],
   "source": [
    "dataset_tag, dataset_file = \"wcgc\", \"./world_cities.csv\"\n",
    "dict_metrics[dataset_tag] = dict()\n",
    "dict_plots[dataset_tag] = dict()\n",
    "df = pd.read_csv(dataset_file, header=1, sep=',', engine=\"python\")\n",
    "# df.set_index([\"CITIES\"], inplace=True)\n",
    "df.drop([\"Unnamed: 47\"], axis=1, inplace=True)\n",
    "df = df.melt(id_vars=[\"CITIES\"])\n",
    "df.columns = [\"from\", \"to\", \"weight\"]\n",
    "df.to_csv(\"./\" + dataset_tag + \"_edgelist.txt\", sep='\\t', index=False, header=None)\n",
    "df.head()"
   ]
  },
  {
   "cell_type": "markdown",
   "metadata": {},
   "source": [
    "### Les Miserables Coappearance"
   ]
  },
  {
   "cell_type": "code",
   "execution_count": 121,
   "metadata": {},
   "outputs": [],
   "source": [
    "dataset_tag, dataset_file = \"lesmis\", \"./lesmis.gml\"\n",
    "dict_metrics[dataset_tag] = dict()\n",
    "dict_plots[dataset_tag] = dict()"
   ]
  },
  {
   "cell_type": "markdown",
   "metadata": {},
   "source": [
    "## Creating Network"
   ]
  },
  {
   "cell_type": "code",
   "execution_count": 145,
   "metadata": {},
   "outputs": [
    {
     "name": "stdout",
     "output_type": "stream",
     "text": [
      "[('Myriel', 'Napoleon'), ('Myriel', 'MlleBaptistine'), ('Myriel', 'MmeMagloire')]\n",
      "Number of edges:  254\n",
      "Number of nodes:  77\n",
      "Transitivity:  0.49893162393162394\n",
      "Is connected:  True\n",
      "Number of connected components:  1\n"
     ]
    }
   ],
   "source": [
    "if dataset_tag == \"ml1m\":\n",
    "    G = nx.DiGraph()\n",
    "    G.add_weighted_edges_from(df[[\"from\", \"to\", \"rating\"]].values)\n",
    "elif dataset_tag == \"wcgc\":\n",
    "    G = nx.Graph()\n",
    "    for city in df[\"from\"].unique():\n",
    "        G.add_node(city, node_type=\"city\")\n",
    "    for company in df[\"to\"].unique():\n",
    "        G.add_node(company, node_type=\"company\")\n",
    "    G.add_weighted_edges_from(df[[\"from\", \"to\", \"weight\"]].values)    \n",
    "elif dataset_tag == \"lesmis\":\n",
    "    G = nx.read_gml(dataset_file)\n",
    "    df = pd.DataFrame([[char_1, char_2, coapp['value']] for (char_1, char_2, coapp) in G.edges.data()], columns=[\"from\", \"to\", \"weight\"])\n",
    "else: \n",
    "    G = nx.read_edgelist(\"./\" + dataset_tag + \"_edgelist.txt\", delimiter='\\t', nodetype=str, data=(('weight',float),))\n",
    "print (list(G.edges)[:3])\n",
    "print (\"Number of edges: \", G.number_of_edges())\n",
    "print (\"Number of nodes: \", G.number_of_nodes())\n",
    "if dataset_tag == \"wcgc\":\n",
    "    for node_type in [\"city\", \"company\"]:\n",
    "        n_type_nodes = G.subgraph([n for n,attrdict in G.node.items() if attrdict['node_type'] == node_type] ).number_of_nodes()\n",
    "        print (\"Number of \" + node_type + \" nodes: \", n_type_nodes)\n",
    "\n",
    "print (\"Transitivity: \", nx.transitivity(G))\n",
    "if not G.is_directed():\n",
    "    print (\"Is connected: \", nx.is_connected(G))\n",
    "    print (\"Number of connected components: \", nx.number_connected_components(G))\n",
    "else:\n",
    "    print (\"Is strongly connected: \", nx.is_strongly_connected(G))\n",
    "    print (\"Number of strongly connected components: \", nx.number_strongly_connected_components(G))"
   ]
  },
  {
   "cell_type": "markdown",
   "metadata": {},
   "source": [
    "## Getting Stats\n"
   ]
  },
  {
   "cell_type": "markdown",
   "metadata": {},
   "source": [
    "### Degrees"
   ]
  },
  {
   "cell_type": "code",
   "execution_count": 123,
   "metadata": {},
   "outputs": [
    {
     "data": {
      "text/html": [
       "<div>\n",
       "<style scoped>\n",
       "    .dataframe tbody tr th:only-of-type {\n",
       "        vertical-align: middle;\n",
       "    }\n",
       "\n",
       "    .dataframe tbody tr th {\n",
       "        vertical-align: top;\n",
       "    }\n",
       "\n",
       "    .dataframe thead th {\n",
       "        text-align: right;\n",
       "    }\n",
       "</style>\n",
       "<table border=\"1\" class=\"dataframe\">\n",
       "  <thead>\n",
       "    <tr style=\"text-align: right;\">\n",
       "      <th></th>\n",
       "      <th>node</th>\n",
       "      <th>degree</th>\n",
       "      <th>degree_centrality</th>\n",
       "    </tr>\n",
       "  </thead>\n",
       "  <tbody>\n",
       "    <tr>\n",
       "      <th>72</th>\n",
       "      <td>Toussaint</td>\n",
       "      <td>3</td>\n",
       "      <td>0.039474</td>\n",
       "    </tr>\n",
       "    <tr>\n",
       "      <th>73</th>\n",
       "      <td>Child1</td>\n",
       "      <td>2</td>\n",
       "      <td>0.026316</td>\n",
       "    </tr>\n",
       "    <tr>\n",
       "      <th>74</th>\n",
       "      <td>Child2</td>\n",
       "      <td>2</td>\n",
       "      <td>0.026316</td>\n",
       "    </tr>\n",
       "    <tr>\n",
       "      <th>75</th>\n",
       "      <td>Brujon</td>\n",
       "      <td>7</td>\n",
       "      <td>0.092105</td>\n",
       "    </tr>\n",
       "    <tr>\n",
       "      <th>76</th>\n",
       "      <td>MmeHucheloup</td>\n",
       "      <td>7</td>\n",
       "      <td>0.092105</td>\n",
       "    </tr>\n",
       "  </tbody>\n",
       "</table>\n",
       "</div>"
      ],
      "text/plain": [
       "            node  degree  degree_centrality\n",
       "72     Toussaint       3           0.039474\n",
       "73        Child1       2           0.026316\n",
       "74        Child2       2           0.026316\n",
       "75        Brujon       7           0.092105\n",
       "76  MmeHucheloup       7           0.092105"
      ]
     },
     "execution_count": 123,
     "metadata": {},
     "output_type": "execute_result"
    }
   ],
   "source": [
    "df_stats = pd.DataFrame(nx.degree(G))\n",
    "df_stats.columns = ['node', 'degree']\n",
    "df_stats['degree_centrality'] = nx.degree_centrality(G).values()\n",
    "dict_metrics[dataset_tag][\"degree\"] = np.array(df_stats[\"degree\"])\n",
    "df_stats.tail()"
   ]
  },
  {
   "cell_type": "code",
   "execution_count": 124,
   "metadata": {},
   "outputs": [
    {
     "data": {
      "text/html": [
       "<div>\n",
       "<style scoped>\n",
       "    .dataframe tbody tr th:only-of-type {\n",
       "        vertical-align: middle;\n",
       "    }\n",
       "\n",
       "    .dataframe tbody tr th {\n",
       "        vertical-align: top;\n",
       "    }\n",
       "\n",
       "    .dataframe thead th {\n",
       "        text-align: right;\n",
       "    }\n",
       "</style>\n",
       "<table border=\"1\" class=\"dataframe\">\n",
       "  <thead>\n",
       "    <tr style=\"text-align: right;\">\n",
       "      <th></th>\n",
       "      <th>dataset_tag</th>\n",
       "      <th>metric</th>\n",
       "      <th>max</th>\n",
       "      <th>min</th>\n",
       "      <th>mean</th>\n",
       "      <th>median</th>\n",
       "      <th>std</th>\n",
       "    </tr>\n",
       "  </thead>\n",
       "  <tbody>\n",
       "    <tr>\n",
       "      <th>0</th>\n",
       "      <td>wcgc</td>\n",
       "      <td>degree</td>\n",
       "      <td>55</td>\n",
       "      <td>46</td>\n",
       "      <td>50.10</td>\n",
       "      <td>46.00</td>\n",
       "      <td>4.50</td>\n",
       "    </tr>\n",
       "    <tr>\n",
       "      <th>1</th>\n",
       "      <td>wcgc</td>\n",
       "      <td>distance</td>\n",
       "      <td>2</td>\n",
       "      <td>1</td>\n",
       "      <td>1.50</td>\n",
       "      <td>2.00</td>\n",
       "      <td>0.50</td>\n",
       "    </tr>\n",
       "    <tr>\n",
       "      <th>2</th>\n",
       "      <td>wcgc</td>\n",
       "      <td>closeness</td>\n",
       "      <td>0.689655</td>\n",
       "      <td>0.649351</td>\n",
       "      <td>0.67</td>\n",
       "      <td>0.65</td>\n",
       "      <td>0.02</td>\n",
       "    </tr>\n",
       "    <tr>\n",
       "      <th>3</th>\n",
       "      <td>lesmis</td>\n",
       "      <td>degree</td>\n",
       "      <td>36</td>\n",
       "      <td>1</td>\n",
       "      <td>6.60</td>\n",
       "      <td>6.00</td>\n",
       "      <td>6.04</td>\n",
       "    </tr>\n",
       "  </tbody>\n",
       "</table>\n",
       "</div>"
      ],
      "text/plain": [
       "  dataset_tag     metric       max       min   mean median   std\n",
       "0        wcgc     degree        55        46  50.10  46.00  4.50\n",
       "1        wcgc   distance         2         1   1.50   2.00  0.50\n",
       "2        wcgc  closeness  0.689655  0.649351   0.67   0.65  0.02\n",
       "3      lesmis     degree        36         1   6.60   6.00  6.04"
      ]
     },
     "execution_count": 124,
     "metadata": {},
     "output_type": "execute_result"
    }
   ],
   "source": [
    "df_output.loc[df_output.shape[0]] = [dataset_tag, \n",
    "     \"degree\", df_stats[\"degree\"].max(), df_stats[\"degree\"].min(), \n",
    "     '{:.02f}'.format(df_stats[\"degree\"].mean()), \n",
    "     '{:.02f}'.format(df_stats[\"degree\"].median()),\n",
    "     '{:.02f}'.format(df_stats[\"degree\"].std())]\n",
    "df_output"
   ]
  },
  {
   "cell_type": "code",
   "execution_count": 125,
   "metadata": {},
   "outputs": [
    {
     "data": {
      "text/html": [
       "<div>\n",
       "<style scoped>\n",
       "    .dataframe tbody tr th:only-of-type {\n",
       "        vertical-align: middle;\n",
       "    }\n",
       "\n",
       "    .dataframe tbody tr th {\n",
       "        vertical-align: top;\n",
       "    }\n",
       "\n",
       "    .dataframe thead th {\n",
       "        text-align: right;\n",
       "    }\n",
       "</style>\n",
       "<table border=\"1\" class=\"dataframe\">\n",
       "  <thead>\n",
       "    <tr style=\"text-align: right;\">\n",
       "      <th></th>\n",
       "      <th>dataset_tag</th>\n",
       "      <th>metric</th>\n",
       "      <th>max</th>\n",
       "      <th>min</th>\n",
       "      <th>mean</th>\n",
       "      <th>median</th>\n",
       "      <th>std</th>\n",
       "    </tr>\n",
       "  </thead>\n",
       "  <tbody>\n",
       "    <tr>\n",
       "      <th>0</th>\n",
       "      <td>wcgc</td>\n",
       "      <td>degree</td>\n",
       "      <td>55</td>\n",
       "      <td>46</td>\n",
       "      <td>50.10</td>\n",
       "      <td>46.00</td>\n",
       "      <td>4.50</td>\n",
       "    </tr>\n",
       "    <tr>\n",
       "      <th>1</th>\n",
       "      <td>wcgc</td>\n",
       "      <td>distance</td>\n",
       "      <td>2</td>\n",
       "      <td>1</td>\n",
       "      <td>1.50</td>\n",
       "      <td>2.00</td>\n",
       "      <td>0.50</td>\n",
       "    </tr>\n",
       "    <tr>\n",
       "      <th>2</th>\n",
       "      <td>wcgc</td>\n",
       "      <td>closeness</td>\n",
       "      <td>0.689655</td>\n",
       "      <td>0.649351</td>\n",
       "      <td>0.67</td>\n",
       "      <td>0.65</td>\n",
       "      <td>0.02</td>\n",
       "    </tr>\n",
       "    <tr>\n",
       "      <th>3</th>\n",
       "      <td>lesmis</td>\n",
       "      <td>degree</td>\n",
       "      <td>36</td>\n",
       "      <td>1</td>\n",
       "      <td>6.60</td>\n",
       "      <td>6.00</td>\n",
       "      <td>6.04</td>\n",
       "    </tr>\n",
       "  </tbody>\n",
       "</table>\n",
       "</div>"
      ],
      "text/plain": [
       "  dataset_tag     metric       max       min   mean median   std\n",
       "0        wcgc     degree        55        46  50.10  46.00  4.50\n",
       "1        wcgc   distance         2         1   1.50   2.00  0.50\n",
       "2        wcgc  closeness  0.689655  0.649351   0.67   0.65  0.02\n",
       "3      lesmis     degree        36         1   6.60   6.00  6.04"
      ]
     },
     "execution_count": 125,
     "metadata": {},
     "output_type": "execute_result"
    }
   ],
   "source": [
    "if G.is_directed():\n",
    "    df_output.loc[df_output.shape[0]] = [dataset_tag, \"out-degree\", \n",
    "         df_stats[df_stats.node.str.contains(\"user\")][\"degree\"].max(), \n",
    "         df_stats[df_stats.node.str.contains(\"user\")][\"degree\"].min(), \n",
    "         '{:.02f}'.format(df_stats[df_stats.node.str.contains(\"user\")][\"degree\"].mean()), \n",
    "         '{:.02f}'.format(df_stats[df_stats.node.str.contains(\"user\")][\"degree\"].median()),\n",
    "         '{:.02f}'.format(df_stats[df_stats.node.str.contains(\"user\")][\"degree\"].std())]\n",
    "\n",
    "    df_output.loc[df_output.shape[0]] = [dataset_tag, \"in-degree\", \n",
    "         df_stats[df_stats.node.str.contains(\"item\")][\"degree\"].max(), \n",
    "         df_stats[df_stats.node.str.contains(\"item\")][\"degree\"].min(), \n",
    "         '{:.02f}'.format(df_stats[df_stats.node.str.contains(\"item\")][\"degree\"].mean()), \n",
    "         '{:.02f}'.format(df_stats[df_stats.node.str.contains(\"item\")][\"degree\"].median()),\n",
    "         '{:.02f}'.format(df_stats[df_stats.node.str.contains(\"item\")][\"degree\"].std())]\n",
    "df_output   "
   ]
  },
  {
   "cell_type": "code",
   "execution_count": 126,
   "metadata": {},
   "outputs": [
    {
     "data": {
      "image/png": "[encoded data removed]",
      "text/plain": [
       "<Figure size 576x576 with 1 Axes>"
      ]
     },
     "metadata": {
      "needs_background": "light"
     },
     "output_type": "display_data"
    }
   ],
   "source": [
    "def plot_ccdf(samples, name=''):\n",
    "    x, y = ccdf(samples)\n",
    "    fig, ax = plt.subplots(nrows=1, ncols=1, figsize=(8,8))\n",
    "    ax.set_title(\"Empirical \" + name + \" CCDF\")\n",
    "    ax.plot(x, y)\n",
    "    ax.set_xscale(\"log\"), ax.set_yscale(\"log\")\n",
    "    ax.set_xlabel(\"x\"), ax.set_ylabel(\"Fraction of Samples >= x\")\n",
    "    ax.grid(True)\n",
    "    return fig, ax \n",
    "\n",
    "fig, ax = plot_ccdf(df_stats[\"degree\"], \"degree\")\n",
    "dict_plots[dataset_tag][\"degree\"] = dict()\n",
    "dict_plots[dataset_tag][\"degree\"][\"fig\"], dict_plots[dataset_tag][\"degree\"][\"ax\"] = fig, ax\n",
    "fig.savefig(\"./images/{}_empirical_degrees_ccdf.jpeg\".format(dataset_tag), bbox_inches=\"tight\")"
   ]
  },
  {
   "cell_type": "code",
   "execution_count": 128,
   "metadata": {},
   "outputs": [],
   "source": [
    "if dataset_tag == \"ml1m\":    \n",
    "    fig, ax = plot_ccdf(df_stats[df_stats.node.str.contains(\"user\")][\"degree\"], \"in-degrees\")\n",
    "    dict_plots[dataset_tag][\"out-degree\"] = dict()\n",
    "    dict_plots[dataset_tag][\"out-degree\"][\"fig\"], dict_plots[dataset_tag][\"out-degree\"][\"ax\"] = fig, ax\n",
    "    fig.savefig(\"./images/{}_empirical_out_degrees_ccdf.jpeg\".format(dataset_tag), bbox_inches=\"tight\")\n",
    "    \n",
    "    fig, ax = plot_ccdf(df_stats[df_stats.node.str.contains(\"item\")][\"degree\"], \"in-degrees\")    \n",
    "    dict_plots[dataset_tag][\"in-degree\"] = dict()\n",
    "    dict_plots[dataset_tag][\"in-degree\"][\"fig\"], dict_plots[dataset_tag][\"in-degree\"][\"ax\"] = fig, ax\n",
    "    fig.savefig(\"./images/{}_empirical_in_degrees_ccdf.jpeg\".format(dataset_tag), bbox_inches=\"tight\")\n",
    "    "
   ]
  },
  {
   "cell_type": "markdown",
   "metadata": {},
   "source": [
    "## Sample-based Metrics"
   ]
  },
  {
   "cell_type": "code",
   "execution_count": 129,
   "metadata": {},
   "outputs": [
    {
     "name": "stdout",
     "output_type": "stream",
     "text": [
      "Wall time: 131 ms\n"
     ]
    }
   ],
   "source": [
    "%%time\n",
    "n_trial_nodes = 100\n",
    "arr_dist = arr_close = arr_clust = np.array([])\n",
    "for node in np.random.choice(df_stats[\"node\"].unique(), size=n_trial_nodes):\n",
    "    node_dist = np.array(list(nx.shortest_path_length(G, node).values())[1:])\n",
    "    node_close = nx.closeness_centrality(G, node)\n",
    "    arr_dist = np.append(arr_dist, node_dist)\n",
    "    arr_close = np.append(arr_close, node_close)\n",
    "    arr_clust = np.append(arr_clust, nx.clustering(G, node))\n",
    "    \n",
    "dict_metrics[dataset_tag][\"distance\"] = arr_dist\n",
    "dict_metrics[dataset_tag][\"closeness\"] = arr_close\n",
    "dict_metrics[dataset_tag][\"clustering\"] = arr_clust"
   ]
  },
  {
   "cell_type": "markdown",
   "metadata": {},
   "source": [
    "### Distance"
   ]
  },
  {
   "cell_type": "code",
   "execution_count": 130,
   "metadata": {},
   "outputs": [
    {
     "data": {
      "text/html": [
       "<div>\n",
       "<style scoped>\n",
       "    .dataframe tbody tr th:only-of-type {\n",
       "        vertical-align: middle;\n",
       "    }\n",
       "\n",
       "    .dataframe tbody tr th {\n",
       "        vertical-align: top;\n",
       "    }\n",
       "\n",
       "    .dataframe thead th {\n",
       "        text-align: right;\n",
       "    }\n",
       "</style>\n",
       "<table border=\"1\" class=\"dataframe\">\n",
       "  <thead>\n",
       "    <tr style=\"text-align: right;\">\n",
       "      <th></th>\n",
       "      <th>dataset_tag</th>\n",
       "      <th>metric</th>\n",
       "      <th>max</th>\n",
       "      <th>min</th>\n",
       "      <th>mean</th>\n",
       "      <th>median</th>\n",
       "      <th>std</th>\n",
       "    </tr>\n",
       "  </thead>\n",
       "  <tbody>\n",
       "    <tr>\n",
       "      <th>0</th>\n",
       "      <td>wcgc</td>\n",
       "      <td>degree</td>\n",
       "      <td>55</td>\n",
       "      <td>46</td>\n",
       "      <td>50.10</td>\n",
       "      <td>46.00</td>\n",
       "      <td>4.50</td>\n",
       "    </tr>\n",
       "    <tr>\n",
       "      <th>1</th>\n",
       "      <td>wcgc</td>\n",
       "      <td>distance</td>\n",
       "      <td>2</td>\n",
       "      <td>1</td>\n",
       "      <td>1.50</td>\n",
       "      <td>2.00</td>\n",
       "      <td>0.50</td>\n",
       "    </tr>\n",
       "    <tr>\n",
       "      <th>2</th>\n",
       "      <td>wcgc</td>\n",
       "      <td>closeness</td>\n",
       "      <td>0.689655</td>\n",
       "      <td>0.649351</td>\n",
       "      <td>0.67</td>\n",
       "      <td>0.65</td>\n",
       "      <td>0.02</td>\n",
       "    </tr>\n",
       "    <tr>\n",
       "      <th>3</th>\n",
       "      <td>lesmis</td>\n",
       "      <td>degree</td>\n",
       "      <td>36</td>\n",
       "      <td>1</td>\n",
       "      <td>6.60</td>\n",
       "      <td>6.00</td>\n",
       "      <td>6.04</td>\n",
       "    </tr>\n",
       "    <tr>\n",
       "      <th>4</th>\n",
       "      <td>lesmis</td>\n",
       "      <td>distance</td>\n",
       "      <td>5</td>\n",
       "      <td>1</td>\n",
       "      <td>2.59</td>\n",
       "      <td>3.00</td>\n",
       "      <td>0.85</td>\n",
       "    </tr>\n",
       "  </tbody>\n",
       "</table>\n",
       "</div>"
      ],
      "text/plain": [
       "  dataset_tag     metric       max       min   mean median   std\n",
       "0        wcgc     degree        55        46  50.10  46.00  4.50\n",
       "1        wcgc   distance         2         1   1.50   2.00  0.50\n",
       "2        wcgc  closeness  0.689655  0.649351   0.67   0.65  0.02\n",
       "3      lesmis     degree        36         1   6.60   6.00  6.04\n",
       "4      lesmis   distance         5         1   2.59   3.00  0.85"
      ]
     },
     "execution_count": 130,
     "metadata": {},
     "output_type": "execute_result"
    }
   ],
   "source": [
    "df_output.loc[df_output.shape[0]] = [dataset_tag, \"distance\", \n",
    "     arr_dist.max(), arr_dist.min(), \n",
    "     '{:.02f}'.format(arr_dist.mean()), \n",
    "     '{:.02f}'.format(np.median(arr_dist)),\n",
    "     '{:.02f}'.format(arr_dist.std())]\n",
    "df_output"
   ]
  },
  {
   "cell_type": "code",
   "execution_count": 131,
   "metadata": {},
   "outputs": [
    {
     "data": {
      "image/png": "[encoded data removed]",
      "text/plain": [
       "<Figure size 576x576 with 1 Axes>"
      ]
     },
     "metadata": {
      "needs_background": "light"
     },
     "output_type": "display_data"
    }
   ],
   "source": [
    "fig, ax = plot_ccdf(arr_dist, name=\"distance ({} samples)\".format(n_trial_nodes))\n",
    "dict_plots[dataset_tag][\"distance\"] = dict()\n",
    "dict_plots[dataset_tag][\"distance\"][\"fig\"], dict_plots[dataset_tag][\"distance\"][\"ax\"] = fig, ax\n",
    "fig.savefig(\"./images/{}_empirical_distances_ccdf.jpeg\".format(dataset_tag), bbox_inches=\"tight\")"
   ]
  },
  {
   "cell_type": "markdown",
   "metadata": {},
   "source": [
    "### Closeness"
   ]
  },
  {
   "cell_type": "code",
   "execution_count": 132,
   "metadata": {},
   "outputs": [
    {
     "data": {
      "text/html": [
       "<div>\n",
       "<style scoped>\n",
       "    .dataframe tbody tr th:only-of-type {\n",
       "        vertical-align: middle;\n",
       "    }\n",
       "\n",
       "    .dataframe tbody tr th {\n",
       "        vertical-align: top;\n",
       "    }\n",
       "\n",
       "    .dataframe thead th {\n",
       "        text-align: right;\n",
       "    }\n",
       "</style>\n",
       "<table border=\"1\" class=\"dataframe\">\n",
       "  <thead>\n",
       "    <tr style=\"text-align: right;\">\n",
       "      <th></th>\n",
       "      <th>dataset_tag</th>\n",
       "      <th>metric</th>\n",
       "      <th>max</th>\n",
       "      <th>min</th>\n",
       "      <th>mean</th>\n",
       "      <th>median</th>\n",
       "      <th>std</th>\n",
       "    </tr>\n",
       "  </thead>\n",
       "  <tbody>\n",
       "    <tr>\n",
       "      <th>0</th>\n",
       "      <td>wcgc</td>\n",
       "      <td>degree</td>\n",
       "      <td>55</td>\n",
       "      <td>46</td>\n",
       "      <td>50.10</td>\n",
       "      <td>46.00</td>\n",
       "      <td>4.50</td>\n",
       "    </tr>\n",
       "    <tr>\n",
       "      <th>1</th>\n",
       "      <td>wcgc</td>\n",
       "      <td>distance</td>\n",
       "      <td>2</td>\n",
       "      <td>1</td>\n",
       "      <td>1.50</td>\n",
       "      <td>2.00</td>\n",
       "      <td>0.50</td>\n",
       "    </tr>\n",
       "    <tr>\n",
       "      <th>2</th>\n",
       "      <td>wcgc</td>\n",
       "      <td>closeness</td>\n",
       "      <td>0.689655</td>\n",
       "      <td>0.649351</td>\n",
       "      <td>0.67</td>\n",
       "      <td>0.65</td>\n",
       "      <td>0.02</td>\n",
       "    </tr>\n",
       "    <tr>\n",
       "      <th>3</th>\n",
       "      <td>lesmis</td>\n",
       "      <td>degree</td>\n",
       "      <td>36</td>\n",
       "      <td>1</td>\n",
       "      <td>6.60</td>\n",
       "      <td>6.00</td>\n",
       "      <td>6.04</td>\n",
       "    </tr>\n",
       "    <tr>\n",
       "      <th>4</th>\n",
       "      <td>lesmis</td>\n",
       "      <td>distance</td>\n",
       "      <td>5</td>\n",
       "      <td>1</td>\n",
       "      <td>2.59</td>\n",
       "      <td>3.00</td>\n",
       "      <td>0.85</td>\n",
       "    </tr>\n",
       "    <tr>\n",
       "      <th>5</th>\n",
       "      <td>lesmis</td>\n",
       "      <td>closeness</td>\n",
       "      <td>0.644068</td>\n",
       "      <td>0.256757</td>\n",
       "      <td>0.40</td>\n",
       "      <td>0.39</td>\n",
       "      <td>0.07</td>\n",
       "    </tr>\n",
       "  </tbody>\n",
       "</table>\n",
       "</div>"
      ],
      "text/plain": [
       "  dataset_tag     metric       max       min   mean median   std\n",
       "0        wcgc     degree        55        46  50.10  46.00  4.50\n",
       "1        wcgc   distance         2         1   1.50   2.00  0.50\n",
       "2        wcgc  closeness  0.689655  0.649351   0.67   0.65  0.02\n",
       "3      lesmis     degree        36         1   6.60   6.00  6.04\n",
       "4      lesmis   distance         5         1   2.59   3.00  0.85\n",
       "5      lesmis  closeness  0.644068  0.256757   0.40   0.39  0.07"
      ]
     },
     "execution_count": 132,
     "metadata": {},
     "output_type": "execute_result"
    }
   ],
   "source": [
    "df_output.loc[df_output.shape[0]] = [dataset_tag, \"closeness\", \n",
    "     arr_close.max(), arr_close.min(), \n",
    "     '{:.02f}'.format(arr_close.mean()), \n",
    "     '{:.02f}'.format(np.median(arr_close)),\n",
    "     '{:.02f}'.format(arr_close.std())]\n",
    "df_output"
   ]
  },
  {
   "cell_type": "code",
   "execution_count": 133,
   "metadata": {},
   "outputs": [
    {
     "data": {
      "image/png": "[encoded data removed]",
      "text/plain": [
       "<Figure size 576x576 with 1 Axes>"
      ]
     },
     "metadata": {
      "needs_background": "light"
     },
     "output_type": "display_data"
    }
   ],
   "source": [
    "fig, ax = plot_ccdf(arr_close, name=\"closeness ({} samples)\".format(n_trial_nodes))\n",
    "dict_plots[dataset_tag][\"closeness\"] = dict()\n",
    "dict_plots[dataset_tag][\"closeness\"][\"fig\"], dict_plots[dataset_tag][\"closeness\"][\"ax\"] = fig, ax\n",
    "fig.savefig(\"./images/{}_empirical_closeness_ccdf.jpeg\".format(dataset_tag), bbox_inches=\"tight\")"
   ]
  },
  {
   "cell_type": "code",
   "execution_count": null,
   "metadata": {},
   "outputs": [],
   "source": []
  },
  {
   "cell_type": "code",
   "execution_count": 134,
   "metadata": {},
   "outputs": [
    {
     "data": {
      "text/html": [
       "<div>\n",
       "<style scoped>\n",
       "    .dataframe tbody tr th:only-of-type {\n",
       "        vertical-align: middle;\n",
       "    }\n",
       "\n",
       "    .dataframe tbody tr th {\n",
       "        vertical-align: top;\n",
       "    }\n",
       "\n",
       "    .dataframe thead th {\n",
       "        text-align: right;\n",
       "    }\n",
       "</style>\n",
       "<table border=\"1\" class=\"dataframe\">\n",
       "  <thead>\n",
       "    <tr style=\"text-align: right;\">\n",
       "      <th></th>\n",
       "      <th>degree</th>\n",
       "      <th>degree_centrality</th>\n",
       "    </tr>\n",
       "  </thead>\n",
       "  <tbody>\n",
       "    <tr>\n",
       "      <th>count</th>\n",
       "      <td>77.000000</td>\n",
       "      <td>77.000000</td>\n",
       "    </tr>\n",
       "    <tr>\n",
       "      <th>mean</th>\n",
       "      <td>6.597403</td>\n",
       "      <td>0.086808</td>\n",
       "    </tr>\n",
       "    <tr>\n",
       "      <th>std</th>\n",
       "      <td>6.039911</td>\n",
       "      <td>0.079473</td>\n",
       "    </tr>\n",
       "    <tr>\n",
       "      <th>min</th>\n",
       "      <td>1.000000</td>\n",
       "      <td>0.013158</td>\n",
       "    </tr>\n",
       "    <tr>\n",
       "      <th>25%</th>\n",
       "      <td>2.000000</td>\n",
       "      <td>0.026316</td>\n",
       "    </tr>\n",
       "    <tr>\n",
       "      <th>50%</th>\n",
       "      <td>6.000000</td>\n",
       "      <td>0.078947</td>\n",
       "    </tr>\n",
       "    <tr>\n",
       "      <th>75%</th>\n",
       "      <td>10.000000</td>\n",
       "      <td>0.131579</td>\n",
       "    </tr>\n",
       "    <tr>\n",
       "      <th>max</th>\n",
       "      <td>36.000000</td>\n",
       "      <td>0.473684</td>\n",
       "    </tr>\n",
       "  </tbody>\n",
       "</table>\n",
       "</div>"
      ],
      "text/plain": [
       "          degree  degree_centrality\n",
       "count  77.000000          77.000000\n",
       "mean    6.597403           0.086808\n",
       "std     6.039911           0.079473\n",
       "min     1.000000           0.013158\n",
       "25%     2.000000           0.026316\n",
       "50%     6.000000           0.078947\n",
       "75%    10.000000           0.131579\n",
       "max    36.000000           0.473684"
      ]
     },
     "execution_count": 134,
     "metadata": {},
     "output_type": "execute_result"
    }
   ],
   "source": [
    "df_stats.describe()"
   ]
  },
  {
   "cell_type": "markdown",
   "metadata": {},
   "source": [
    "## Plotting All Datasets"
   ]
  },
  {
   "cell_type": "code",
   "execution_count": null,
   "metadata": {},
   "outputs": [],
   "source": []
  },
  {
   "cell_type": "code",
   "execution_count": null,
   "metadata": {},
   "outputs": [],
   "source": []
  },
  {
   "cell_type": "markdown",
   "metadata": {},
   "source": [
    "### WCGC Weight Analysis"
   ]
  },
  {
   "cell_type": "code",
   "execution_count": 147,
   "metadata": {},
   "outputs": [
    {
     "data": {
      "text/html": [
       "<div>\n",
       "<style scoped>\n",
       "    .dataframe tbody tr th:only-of-type {\n",
       "        vertical-align: middle;\n",
       "    }\n",
       "\n",
       "    .dataframe tbody tr th {\n",
       "        vertical-align: top;\n",
       "    }\n",
       "\n",
       "    .dataframe thead th {\n",
       "        text-align: right;\n",
       "    }\n",
       "</style>\n",
       "<table border=\"1\" class=\"dataframe\">\n",
       "  <thead>\n",
       "    <tr style=\"text-align: right;\">\n",
       "      <th></th>\n",
       "      <th>weight</th>\n",
       "    </tr>\n",
       "    <tr>\n",
       "      <th>from</th>\n",
       "      <th></th>\n",
       "    </tr>\n",
       "  </thead>\n",
       "  <tbody>\n",
       "    <tr>\n",
       "      <th>Enjolras</th>\n",
       "      <td>6.600000</td>\n",
       "    </tr>\n",
       "    <tr>\n",
       "      <th>Combeferre</th>\n",
       "      <td>5.714286</td>\n",
       "    </tr>\n",
       "    <tr>\n",
       "      <th>Courfeyrac</th>\n",
       "      <td>5.200000</td>\n",
       "    </tr>\n",
       "  </tbody>\n",
       "</table>\n",
       "</div>"
      ],
      "text/plain": [
       "              weight\n",
       "from                \n",
       "Enjolras    6.600000\n",
       "Combeferre  5.714286\n",
       "Courfeyrac  5.200000"
      ]
     },
     "execution_count": 147,
     "metadata": {},
     "output_type": "execute_result"
    }
   ],
   "source": [
    "df.groupby(\"from\").mean().sort_values(by=[\"weight\"], ascending=False).head(3)"
   ]
  },
  {
   "cell_type": "code",
   "execution_count": 116,
   "metadata": {},
   "outputs": [
    {
     "data": {
      "text/html": [
       "<div>\n",
       "<style scoped>\n",
       "    .dataframe tbody tr th:only-of-type {\n",
       "        vertical-align: middle;\n",
       "    }\n",
       "\n",
       "    .dataframe tbody tr th {\n",
       "        vertical-align: top;\n",
       "    }\n",
       "\n",
       "    .dataframe thead th {\n",
       "        text-align: right;\n",
       "    }\n",
       "</style>\n",
       "<table border=\"1\" class=\"dataframe\">\n",
       "  <thead>\n",
       "    <tr style=\"text-align: right;\">\n",
       "      <th></th>\n",
       "      <th>weight</th>\n",
       "    </tr>\n",
       "    <tr>\n",
       "      <th>from</th>\n",
       "      <th></th>\n",
       "    </tr>\n",
       "  </thead>\n",
       "  <tbody>\n",
       "    <tr>\n",
       "      <th>Atlanta</th>\n",
       "      <td>0.391304</td>\n",
       "    </tr>\n",
       "    <tr>\n",
       "      <th>Osaka</th>\n",
       "      <td>0.347826</td>\n",
       "    </tr>\n",
       "    <tr>\n",
       "      <th>Minneapolis</th>\n",
       "      <td>0.282609</td>\n",
       "    </tr>\n",
       "  </tbody>\n",
       "</table>\n",
       "</div>"
      ],
      "text/plain": [
       "               weight\n",
       "from                 \n",
       "Atlanta      0.391304\n",
       "Osaka        0.347826\n",
       "Minneapolis  0.282609"
      ]
     },
     "execution_count": 116,
     "metadata": {},
     "output_type": "execute_result"
    }
   ],
   "source": [
    "df.groupby(\"from\").mean().sort_values(by=[\"weight\"], ascending=False).tail(3)"
   ]
  },
  {
   "cell_type": "code",
   "execution_count": 115,
   "metadata": {},
   "outputs": [
    {
     "data": {
      "text/html": [
       "<div>\n",
       "<style scoped>\n",
       "    .dataframe tbody tr th:only-of-type {\n",
       "        vertical-align: middle;\n",
       "    }\n",
       "\n",
       "    .dataframe tbody tr th {\n",
       "        vertical-align: top;\n",
       "    }\n",
       "\n",
       "    .dataframe thead th {\n",
       "        text-align: right;\n",
       "    }\n",
       "</style>\n",
       "<table border=\"1\" class=\"dataframe\">\n",
       "  <thead>\n",
       "    <tr style=\"text-align: right;\">\n",
       "      <th></th>\n",
       "      <th>weight</th>\n",
       "    </tr>\n",
       "    <tr>\n",
       "      <th>to</th>\n",
       "      <th></th>\n",
       "    </tr>\n",
       "  </thead>\n",
       "  <tbody>\n",
       "    <tr>\n",
       "      <th>CL</th>\n",
       "      <td>2.181818</td>\n",
       "    </tr>\n",
       "    <tr>\n",
       "      <th>KP</th>\n",
       "      <td>2.163636</td>\n",
       "    </tr>\n",
       "    <tr>\n",
       "      <th>EY</th>\n",
       "      <td>2.090909</td>\n",
       "    </tr>\n",
       "  </tbody>\n",
       "</table>\n",
       "</div>"
      ],
      "text/plain": [
       "      weight\n",
       "to          \n",
       "CL  2.181818\n",
       "KP  2.163636\n",
       "EY  2.090909"
      ]
     },
     "execution_count": 115,
     "metadata": {},
     "output_type": "execute_result"
    }
   ],
   "source": [
    "df.groupby(\"to\").mean().sort_values(by=[\"weight\"], ascending=False).head(3)"
   ]
  },
  {
   "cell_type": "code",
   "execution_count": 117,
   "metadata": {},
   "outputs": [
    {
     "data": {
      "text/html": [
       "<div>\n",
       "<style scoped>\n",
       "    .dataframe tbody tr th:only-of-type {\n",
       "        vertical-align: middle;\n",
       "    }\n",
       "\n",
       "    .dataframe tbody tr th {\n",
       "        vertical-align: top;\n",
       "    }\n",
       "\n",
       "    .dataframe thead th {\n",
       "        text-align: right;\n",
       "    }\n",
       "</style>\n",
       "<table border=\"1\" class=\"dataframe\">\n",
       "  <thead>\n",
       "    <tr style=\"text-align: right;\">\n",
       "      <th></th>\n",
       "      <th>weight</th>\n",
       "    </tr>\n",
       "    <tr>\n",
       "      <th>to</th>\n",
       "      <th></th>\n",
       "    </tr>\n",
       "  </thead>\n",
       "  <tbody>\n",
       "    <tr>\n",
       "      <th>SQ</th>\n",
       "      <td>0.218182</td>\n",
       "    </tr>\n",
       "    <tr>\n",
       "      <th>BC</th>\n",
       "      <td>0.200000</td>\n",
       "    </tr>\n",
       "    <tr>\n",
       "      <th>MC</th>\n",
       "      <td>0.054545</td>\n",
       "    </tr>\n",
       "  </tbody>\n",
       "</table>\n",
       "</div>"
      ],
      "text/plain": [
       "      weight\n",
       "to          \n",
       "SQ  0.218182\n",
       "BC  0.200000\n",
       "MC  0.054545"
      ]
     },
     "execution_count": 117,
     "metadata": {},
     "output_type": "execute_result"
    }
   ],
   "source": [
    "df.groupby(\"to\").mean().sort_values(by=[\"weight\"], ascending=False).tail(3)"
   ]
  },
  {
   "cell_type": "markdown",
   "metadata": {},
   "source": [
    "## LesMis Analysis"
   ]
  },
  {
   "cell_type": "markdown",
   "metadata": {},
   "source": [
    "Doubles with the most co-appearances"
   ]
  },
  {
   "cell_type": "code",
   "execution_count": 153,
   "metadata": {},
   "outputs": [
    {
     "data": {
      "text/html": [
       "<div>\n",
       "<style scoped>\n",
       "    .dataframe tbody tr th:only-of-type {\n",
       "        vertical-align: middle;\n",
       "    }\n",
       "\n",
       "    .dataframe tbody tr th {\n",
       "        vertical-align: top;\n",
       "    }\n",
       "\n",
       "    .dataframe thead th {\n",
       "        text-align: right;\n",
       "    }\n",
       "</style>\n",
       "<table border=\"1\" class=\"dataframe\">\n",
       "  <thead>\n",
       "    <tr style=\"text-align: right;\">\n",
       "      <th></th>\n",
       "      <th>from</th>\n",
       "      <th>to</th>\n",
       "      <th>weight</th>\n",
       "    </tr>\n",
       "  </thead>\n",
       "  <tbody>\n",
       "    <tr>\n",
       "      <th>21</th>\n",
       "      <td>Valjean</td>\n",
       "      <td>Cosette</td>\n",
       "      <td>31</td>\n",
       "    </tr>\n",
       "  </tbody>\n",
       "</table>\n",
       "</div>"
      ],
      "text/plain": [
       "       from       to  weight\n",
       "21  Valjean  Cosette      31"
      ]
     },
     "execution_count": 153,
     "metadata": {},
     "output_type": "execute_result"
    }
   ],
   "source": [
    "df[df.weight == df.max()[\"weight\"]]"
   ]
  },
  {
   "cell_type": "markdown",
   "metadata": {},
   "source": [
    "Characters who appeared the most with any other character"
   ]
  },
  {
   "cell_type": "code",
   "execution_count": 148,
   "metadata": {},
   "outputs": [
    {
     "data": {
      "text/html": [
       "<div>\n",
       "<style scoped>\n",
       "    .dataframe tbody tr th:only-of-type {\n",
       "        vertical-align: middle;\n",
       "    }\n",
       "\n",
       "    .dataframe tbody tr th {\n",
       "        vertical-align: top;\n",
       "    }\n",
       "\n",
       "    .dataframe thead th {\n",
       "        text-align: right;\n",
       "    }\n",
       "</style>\n",
       "<table border=\"1\" class=\"dataframe\">\n",
       "  <thead>\n",
       "    <tr style=\"text-align: right;\">\n",
       "      <th></th>\n",
       "      <th>weight</th>\n",
       "    </tr>\n",
       "    <tr>\n",
       "      <th>from</th>\n",
       "      <th></th>\n",
       "    </tr>\n",
       "  </thead>\n",
       "  <tbody>\n",
       "    <tr>\n",
       "      <th>Valjean</th>\n",
       "      <td>146</td>\n",
       "    </tr>\n",
       "    <tr>\n",
       "      <th>Enjolras</th>\n",
       "      <td>66</td>\n",
       "    </tr>\n",
       "    <tr>\n",
       "      <th>Gavroche</th>\n",
       "      <td>51</td>\n",
       "    </tr>\n",
       "  </tbody>\n",
       "</table>\n",
       "</div>"
      ],
      "text/plain": [
       "          weight\n",
       "from            \n",
       "Valjean      146\n",
       "Enjolras      66\n",
       "Gavroche      51"
      ]
     },
     "execution_count": 148,
     "metadata": {},
     "output_type": "execute_result"
    }
   ],
   "source": [
    "df.groupby(\"from\").sum().sort_values(by=[\"weight\"], ascending=False).head(3)"
   ]
  },
  {
   "cell_type": "code",
   "execution_count": 150,
   "metadata": {},
   "outputs": [
    {
     "data": {
      "text/html": [
       "<div>\n",
       "<style scoped>\n",
       "    .dataframe tbody tr th:only-of-type {\n",
       "        vertical-align: middle;\n",
       "    }\n",
       "\n",
       "    .dataframe tbody tr th {\n",
       "        vertical-align: top;\n",
       "    }\n",
       "\n",
       "    .dataframe thead th {\n",
       "        text-align: right;\n",
       "    }\n",
       "</style>\n",
       "<table border=\"1\" class=\"dataframe\">\n",
       "  <thead>\n",
       "    <tr style=\"text-align: right;\">\n",
       "      <th></th>\n",
       "      <th>weight</th>\n",
       "    </tr>\n",
       "    <tr>\n",
       "      <th>to</th>\n",
       "      <th></th>\n",
       "    </tr>\n",
       "  </thead>\n",
       "  <tbody>\n",
       "    <tr>\n",
       "      <th>Marius</th>\n",
       "      <td>72</td>\n",
       "    </tr>\n",
       "    <tr>\n",
       "      <th>Courfeyrac</th>\n",
       "      <td>58</td>\n",
       "    </tr>\n",
       "    <tr>\n",
       "      <th>Bossuet</th>\n",
       "      <td>55</td>\n",
       "    </tr>\n",
       "  </tbody>\n",
       "</table>\n",
       "</div>"
      ],
      "text/plain": [
       "            weight\n",
       "to                \n",
       "Marius          72\n",
       "Courfeyrac      58\n",
       "Bossuet         55"
      ]
     },
     "execution_count": 150,
     "metadata": {},
     "output_type": "execute_result"
    }
   ],
   "source": [
    "df.groupby(\"to\").sum().sort_values(by=[\"weight\"], ascending=False).head(3)"
   ]
  },
  {
   "cell_type": "markdown",
   "metadata": {},
   "source": [
    "_______________"
   ]
  },
  {
   "cell_type": "code",
   "execution_count": 179,
   "metadata": {},
   "outputs": [],
   "source": [
    "G=nx.DiGraph()\n",
    "\n",
    "G.add_edge('u1','i1',weight=0.6)\n",
    "G.add_edge('u1','i2',weight=0.2)\n",
    "G.add_edge('u2','i1',weight=0.1)"
   ]
  },
  {
   "cell_type": "code",
   "execution_count": 180,
   "metadata": {},
   "outputs": [
    {
     "ename": "KeyError",
     "evalue": "'a'",
     "output_type": "error",
     "traceback": [
      "\u001b[1;31m---------------------------------------------------------------------------\u001b[0m",
      "\u001b[1;31mKeyError\u001b[0m                                  Traceback (most recent call last)",
      "\u001b[1;32m<ipython-input-180-aeb7c9109e0b>\u001b[0m in \u001b[0;36m<module>\u001b[1;34m\u001b[0m\n\u001b[0;32m      5\u001b[0m         \u001b[0mnode_color\u001b[0m\u001b[1;33m=\u001b[0m\u001b[1;33m[\u001b[0m\u001b[1;34m'r'\u001b[0m\u001b[1;33m,\u001b[0m \u001b[1;34m'r'\u001b[0m\u001b[1;33m,\u001b[0m \u001b[1;34m'b'\u001b[0m\u001b[1;33m,\u001b[0m \u001b[1;34m'b'\u001b[0m\u001b[1;33m]\u001b[0m\u001b[1;33m,\u001b[0m\u001b[1;33m\u001b[0m\u001b[1;33m\u001b[0m\u001b[0m\n\u001b[0;32m      6\u001b[0m         \u001b[0mlabels\u001b[0m\u001b[1;33m=\u001b[0m\u001b[1;33m{\u001b[0m\u001b[1;34m'a'\u001b[0m\u001b[1;33m:\u001b[0m \u001b[1;36m1\u001b[0m\u001b[1;33m,\u001b[0m \u001b[1;34m'b'\u001b[0m\u001b[1;33m:\u001b[0m \u001b[1;36m2\u001b[0m\u001b[1;33m,\u001b[0m \u001b[1;34m'c'\u001b[0m\u001b[1;33m:\u001b[0m \u001b[1;36m2\u001b[0m\u001b[1;33m,\u001b[0m \u001b[1;34m'd'\u001b[0m\u001b[1;33m:\u001b[0m \u001b[1;36m4\u001b[0m\u001b[1;33m}\u001b[0m\u001b[1;33m,\u001b[0m\u001b[1;33m\u001b[0m\u001b[1;33m\u001b[0m\u001b[0m\n\u001b[1;32m----> 7\u001b[1;33m         ax=ax)\n\u001b[0m\u001b[0;32m      8\u001b[0m \u001b[0mplt\u001b[0m\u001b[1;33m.\u001b[0m\u001b[0mshow\u001b[0m\u001b[1;33m(\u001b[0m\u001b[1;33m)\u001b[0m\u001b[1;33m\u001b[0m\u001b[1;33m\u001b[0m\u001b[0m\n",
      "\u001b[1;32m~\\AppData\\Local\\Continuum\\anaconda3\\lib\\site-packages\\networkx\\drawing\\nx_pylab.py\u001b[0m in \u001b[0;36mdraw\u001b[1;34m(G, pos, ax, **kwds)\u001b[0m\n\u001b[0;32m    126\u001b[0m \u001b[1;33m\u001b[0m\u001b[0m\n\u001b[0;32m    127\u001b[0m     \u001b[1;32mtry\u001b[0m\u001b[1;33m:\u001b[0m\u001b[1;33m\u001b[0m\u001b[1;33m\u001b[0m\u001b[0m\n\u001b[1;32m--> 128\u001b[1;33m         \u001b[0mdraw_networkx\u001b[0m\u001b[1;33m(\u001b[0m\u001b[0mG\u001b[0m\u001b[1;33m,\u001b[0m \u001b[0mpos\u001b[0m\u001b[1;33m=\u001b[0m\u001b[0mpos\u001b[0m\u001b[1;33m,\u001b[0m \u001b[0max\u001b[0m\u001b[1;33m=\u001b[0m\u001b[0max\u001b[0m\u001b[1;33m,\u001b[0m \u001b[1;33m**\u001b[0m\u001b[0mkwds\u001b[0m\u001b[1;33m)\u001b[0m\u001b[1;33m\u001b[0m\u001b[1;33m\u001b[0m\u001b[0m\n\u001b[0m\u001b[0;32m    129\u001b[0m         \u001b[0max\u001b[0m\u001b[1;33m.\u001b[0m\u001b[0mset_axis_off\u001b[0m\u001b[1;33m(\u001b[0m\u001b[1;33m)\u001b[0m\u001b[1;33m\u001b[0m\u001b[1;33m\u001b[0m\u001b[0m\n\u001b[0;32m    130\u001b[0m         \u001b[0mplt\u001b[0m\u001b[1;33m.\u001b[0m\u001b[0mdraw_if_interactive\u001b[0m\u001b[1;33m(\u001b[0m\u001b[1;33m)\u001b[0m\u001b[1;33m\u001b[0m\u001b[1;33m\u001b[0m\u001b[0m\n",
      "\u001b[1;32m~\\AppData\\Local\\Continuum\\anaconda3\\lib\\site-packages\\networkx\\drawing\\nx_pylab.py\u001b[0m in \u001b[0;36mdraw_networkx\u001b[1;34m(G, pos, arrows, with_labels, **kwds)\u001b[0m\n\u001b[0;32m    280\u001b[0m     \u001b[0medge_collection\u001b[0m \u001b[1;33m=\u001b[0m \u001b[0mdraw_networkx_edges\u001b[0m\u001b[1;33m(\u001b[0m\u001b[0mG\u001b[0m\u001b[1;33m,\u001b[0m \u001b[0mpos\u001b[0m\u001b[1;33m,\u001b[0m \u001b[0marrows\u001b[0m\u001b[1;33m=\u001b[0m\u001b[0marrows\u001b[0m\u001b[1;33m,\u001b[0m \u001b[1;33m**\u001b[0m\u001b[0mkwds\u001b[0m\u001b[1;33m)\u001b[0m\u001b[1;33m\u001b[0m\u001b[1;33m\u001b[0m\u001b[0m\n\u001b[0;32m    281\u001b[0m     \u001b[1;32mif\u001b[0m \u001b[0mwith_labels\u001b[0m\u001b[1;33m:\u001b[0m\u001b[1;33m\u001b[0m\u001b[1;33m\u001b[0m\u001b[0m\n\u001b[1;32m--> 282\u001b[1;33m         \u001b[0mdraw_networkx_labels\u001b[0m\u001b[1;33m(\u001b[0m\u001b[0mG\u001b[0m\u001b[1;33m,\u001b[0m \u001b[0mpos\u001b[0m\u001b[1;33m,\u001b[0m \u001b[1;33m**\u001b[0m\u001b[0mkwds\u001b[0m\u001b[1;33m)\u001b[0m\u001b[1;33m\u001b[0m\u001b[1;33m\u001b[0m\u001b[0m\n\u001b[0m\u001b[0;32m    283\u001b[0m     \u001b[0mplt\u001b[0m\u001b[1;33m.\u001b[0m\u001b[0mdraw_if_interactive\u001b[0m\u001b[1;33m(\u001b[0m\u001b[1;33m)\u001b[0m\u001b[1;33m\u001b[0m\u001b[1;33m\u001b[0m\u001b[0m\n\u001b[0;32m    284\u001b[0m \u001b[1;33m\u001b[0m\u001b[0m\n",
      "\u001b[1;32m~\\AppData\\Local\\Continuum\\anaconda3\\lib\\site-packages\\networkx\\drawing\\nx_pylab.py\u001b[0m in \u001b[0;36mdraw_networkx_labels\u001b[1;34m(G, pos, labels, font_size, font_color, font_family, font_weight, alpha, bbox, ax, **kwds)\u001b[0m\n\u001b[0;32m    817\u001b[0m     \u001b[0mtext_items\u001b[0m \u001b[1;33m=\u001b[0m \u001b[1;33m{\u001b[0m\u001b[1;33m}\u001b[0m  \u001b[1;31m# there is no text collection so we'll fake one\u001b[0m\u001b[1;33m\u001b[0m\u001b[1;33m\u001b[0m\u001b[0m\n\u001b[0;32m    818\u001b[0m     \u001b[1;32mfor\u001b[0m \u001b[0mn\u001b[0m\u001b[1;33m,\u001b[0m \u001b[0mlabel\u001b[0m \u001b[1;32min\u001b[0m \u001b[0mlabels\u001b[0m\u001b[1;33m.\u001b[0m\u001b[0mitems\u001b[0m\u001b[1;33m(\u001b[0m\u001b[1;33m)\u001b[0m\u001b[1;33m:\u001b[0m\u001b[1;33m\u001b[0m\u001b[1;33m\u001b[0m\u001b[0m\n\u001b[1;32m--> 819\u001b[1;33m         \u001b[1;33m(\u001b[0m\u001b[0mx\u001b[0m\u001b[1;33m,\u001b[0m \u001b[0my\u001b[0m\u001b[1;33m)\u001b[0m \u001b[1;33m=\u001b[0m \u001b[0mpos\u001b[0m\u001b[1;33m[\u001b[0m\u001b[0mn\u001b[0m\u001b[1;33m]\u001b[0m\u001b[1;33m\u001b[0m\u001b[1;33m\u001b[0m\u001b[0m\n\u001b[0m\u001b[0;32m    820\u001b[0m         \u001b[1;32mif\u001b[0m \u001b[1;32mnot\u001b[0m \u001b[0mis_string_like\u001b[0m\u001b[1;33m(\u001b[0m\u001b[0mlabel\u001b[0m\u001b[1;33m)\u001b[0m\u001b[1;33m:\u001b[0m\u001b[1;33m\u001b[0m\u001b[1;33m\u001b[0m\u001b[0m\n\u001b[0;32m    821\u001b[0m             \u001b[0mlabel\u001b[0m \u001b[1;33m=\u001b[0m \u001b[0mstr\u001b[0m\u001b[1;33m(\u001b[0m\u001b[0mlabel\u001b[0m\u001b[1;33m)\u001b[0m  \u001b[1;31m# this makes \"1\" and 1 labeled the same\u001b[0m\u001b[1;33m\u001b[0m\u001b[1;33m\u001b[0m\u001b[0m\n",
      "\u001b[1;31mKeyError\u001b[0m: 'a'"
     ]
    },
    {
     "data": {
      "image/png": "[encoded data removed]",
      "text/plain": [
       "<Figure size 576x576 with 1 Axes>"
      ]
     },
     "metadata": {},
     "output_type": "display_data"
    }
   ],
   "source": [
    "fig, ax = plt.subplots(nrows=1, ncols=1, figsize=(8,8))\n",
    "nx.draw(G,pos=nx.spring_layout(G), \n",
    "        label=\"uhu\", \n",
    "        node_size=900, \n",
    "        node_color=['r', 'r', 'b', 'b'],\n",
    "        labels={'u1': 'u1', 'u2': 'u2', 'i1': 'i1', 'd': 4},\n",
    "        ax=ax)\n",
    "plt.show()"
   ]
  }
 ],
 "metadata": {
  "kernelspec": {
   "display_name": "Python 3",
   "language": "python",
   "name": "python3"
  },
  "language_info": {
   "codemirror_mode": {
    "name": "ipython",
    "version": 3
   },
   "file_extension": ".py",
   "mimetype": "text/x-python",
   "name": "python",
   "nbconvert_exporter": "python",
   "pygments_lexer": "ipython3",
   "version": "3.7.3"
  }
 },
 "nbformat": 4,
 "nbformat_minor": 2
}
