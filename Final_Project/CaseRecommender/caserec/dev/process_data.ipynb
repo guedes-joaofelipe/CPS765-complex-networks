{
 "cells": [
  {
   "cell_type": "code",
   "execution_count": 14,
   "metadata": {},
   "outputs": [],
   "source": [
    "import os\n",
    "import numpy as np\n",
    "from caserec.utils.process_data import ReadFile, ReadDataframe\n",
    "import pandas as pd "
   ]
  },
  {
   "cell_type": "markdown",
   "metadata": {},
   "source": [
    "### Ratings "
   ]
  },
  {
   "cell_type": "code",
   "execution_count": 9,
   "metadata": {},
   "outputs": [],
   "source": [
    "train_file = './../../../../Datasets/MovieLens/100k_raw/u.data'\n",
    "dict_ratings_from_file = ReadFile(train_file, sep='\\t').read() \n",
    "dict_ratings_from_file.keys()"
   ]
  },
  {
   "cell_type": "code",
   "execution_count": 17,
   "metadata": {},
   "outputs": [
    {
     "data": {
      "text/plain": [
       "[(196, 242, 3.0),\n",
       " (186, 302, 3.0),\n",
       " (22, 377, 1.0),\n",
       " (244, 51, 2.0),\n",
       " (166, 346, 1.0)]"
      ]
     },
     "execution_count": 17,
     "metadata": {},
     "output_type": "execute_result"
    }
   ],
   "source": [
    "ReadFile(train_file, sep='\\t').read_like_triple()[:5] "
   ]
  },
  {
   "cell_type": "code",
   "execution_count": 22,
   "metadata": {},
   "outputs": [
    {
     "data": {
      "text/html": [
       "<div>\n",
       "<style scoped>\n",
       "    .dataframe tbody tr th:only-of-type {\n",
       "        vertical-align: middle;\n",
       "    }\n",
       "\n",
       "    .dataframe tbody tr th {\n",
       "        vertical-align: top;\n",
       "    }\n",
       "\n",
       "    .dataframe thead th {\n",
       "        text-align: right;\n",
       "    }\n",
       "</style>\n",
       "<table border=\"1\" class=\"dataframe\">\n",
       "  <thead>\n",
       "    <tr style=\"text-align: right;\">\n",
       "      <th></th>\n",
       "      <th>user</th>\n",
       "      <th>item</th>\n",
       "      <th>feedback_value</th>\n",
       "      <th>timestamp</th>\n",
       "    </tr>\n",
       "  </thead>\n",
       "  <tbody>\n",
       "    <tr>\n",
       "      <th>0</th>\n",
       "      <td>196</td>\n",
       "      <td>242</td>\n",
       "      <td>3</td>\n",
       "      <td>881250949</td>\n",
       "    </tr>\n",
       "    <tr>\n",
       "      <th>1</th>\n",
       "      <td>186</td>\n",
       "      <td>302</td>\n",
       "      <td>3</td>\n",
       "      <td>891717742</td>\n",
       "    </tr>\n",
       "    <tr>\n",
       "      <th>2</th>\n",
       "      <td>22</td>\n",
       "      <td>377</td>\n",
       "      <td>1</td>\n",
       "      <td>878887116</td>\n",
       "    </tr>\n",
       "    <tr>\n",
       "      <th>3</th>\n",
       "      <td>244</td>\n",
       "      <td>51</td>\n",
       "      <td>2</td>\n",
       "      <td>880606923</td>\n",
       "    </tr>\n",
       "    <tr>\n",
       "      <th>4</th>\n",
       "      <td>166</td>\n",
       "      <td>346</td>\n",
       "      <td>1</td>\n",
       "      <td>886397596</td>\n",
       "    </tr>\n",
       "  </tbody>\n",
       "</table>\n",
       "</div>"
      ],
      "text/plain": [
       "   user  item  feedback_value  timestamp\n",
       "0   196   242               3  881250949\n",
       "1   186   302               3  891717742\n",
       "2    22   377               1  878887116\n",
       "3   244    51               2  880606923\n",
       "4   166   346               1  886397596"
      ]
     },
     "execution_count": 22,
     "metadata": {},
     "output_type": "execute_result"
    }
   ],
   "source": [
    "df_ratings = pd.read_csv(train_file, sep='\\t', header=None, names = ['user', 'item', 'feedback_value', 'timestamp'])\n",
    "df_ratings.head()"
   ]
  },
  {
   "cell_type": "code",
   "execution_count": 24,
   "metadata": {},
   "outputs": [
    {
     "data": {
      "text/plain": [
       "[[196, 242, 3],\n",
       " [186, 302, 3],\n",
       " [22, 377, 1],\n",
       " [244, 51, 2],\n",
       " [166, 346, 1],\n",
       " [298, 474, 4],\n",
       " [115, 265, 2],\n",
       " [253, 465, 5],\n",
       " [305, 451, 3],\n",
       " [6, 86, 3]]"
      ]
     },
     "execution_count": 24,
     "metadata": {},
     "output_type": "execute_result"
    }
   ],
   "source": [
    "ReadDataframe(df_ratings).read_like_triple()[:10]"
   ]
  },
  {
   "cell_type": "code",
   "execution_count": null,
   "metadata": {},
   "outputs": [],
   "source": [
    "def read(df_feedback):\n",
    "    dict_feedback = {}\n",
    "    items_unobserved = {}\n",
    "    items_seen_by_user = {}\n",
    "    users_viewed_item = {}\n",
    "    as_binary = False\n",
    "    list_users = df_feedback['user_id'].unique()\n",
    "    list_items = df_feedback['item_id'].unique()\n",
    "\n",
    "    number_interactions = df_feedback.shape[0]\n",
    "\n",
    "    for user_id in list_users:\n",
    "        items = df_feedback[df_feedback['user_id'] == user_id]['item_id']\n",
    "        values = df_feedback[df_feedback['user_id'] == user_id]['feedback'].apply(lambda x: 1.0 if as_binary else x)\n",
    "        dict_feedback[user_id] = dict(zip(items, values))    \n",
    "        items_seen_by_user[user_id] = list(items)\n",
    "\n",
    "    for item_id in df_feedback['item_id'].unique():\n",
    "        users = df_feedback[df_feedback['item_id'] == item_id]['user_id']\n",
    "        users_viewed_item[item_id] = list(users)\n",
    "\n",
    "    list_users = sorted(list(list_users))\n",
    "    list_items = sorted(list(list_items))\n",
    "\n",
    "    # Create a dictionary with unobserved items for each user / Map user with its respective id\n",
    "    for user in list_users:\n",
    "        items_unobserved[user] = list(set(list_items) - set(items_seen_by_user[user]))\n",
    "\n",
    "    # Calculate the sparsity of the set: N / (nu * ni)\n",
    "    sparsity = (1 - (number_interactions / float(len(list_users) * len(list_items)))) * 100    \n",
    "\n",
    "    dict_file = {\n",
    "            'feedback': dict_feedback,\n",
    "            'users': list_users,\n",
    "            'items': list_items,\n",
    "            'sparsity': sparsity,\n",
    "            'number_interactions': number_interactions,\n",
    "            'users_viewed_item': users_viewed_item,\n",
    "            'items_unobserved': items_unobserved,\n",
    "            'items_seen_by_user': items_seen_by_user,\n",
    "            'mean_value': np.mean(df_feedback['feedback']),\n",
    "            'max_value': np.max(df_feedback['feedback']),\n",
    "            'min_value': np.min(df_feedback['feedback']),\n",
    "         }\n",
    "    \n",
    "    return dict_file"
   ]
  },
  {
   "cell_type": "code",
   "execution_count": null,
   "metadata": {},
   "outputs": [],
   "source": [
    "# read(df_feedback)"
   ]
  },
  {
   "cell_type": "code",
   "execution_count": null,
   "metadata": {},
   "outputs": [],
   "source": [
    "def read_like_triple(df_feedback):\n",
    "    \"\"\"\n",
    "    Method to return information in the file as a triple. eg. (user, item, value)\n",
    "\n",
    "    :return: List with triples in the file\n",
    "    :rtype: list\n",
    "\n",
    "    \"\"\"\n",
    "    return df_feedback.values.tolist()"
   ]
  },
  {
   "cell_type": "code",
   "execution_count": null,
   "metadata": {},
   "outputs": [],
   "source": [
    "read_like_triple(df_feedback)"
   ]
  },
  {
   "cell_type": "markdown",
   "metadata": {},
   "source": [
    "### Metadata"
   ]
  },
  {
   "cell_type": "code",
   "execution_count": 40,
   "metadata": {},
   "outputs": [
    {
     "data": {
      "text/html": [
       "<div>\n",
       "<style scoped>\n",
       "    .dataframe tbody tr th:only-of-type {\n",
       "        vertical-align: middle;\n",
       "    }\n",
       "\n",
       "    .dataframe tbody tr th {\n",
       "        vertical-align: top;\n",
       "    }\n",
       "\n",
       "    .dataframe thead th {\n",
       "        text-align: right;\n",
       "    }\n",
       "</style>\n",
       "<table border=\"1\" class=\"dataframe\">\n",
       "  <thead>\n",
       "    <tr style=\"text-align: right;\">\n",
       "      <th></th>\n",
       "      <th>user</th>\n",
       "      <th>age</th>\n",
       "      <th>sex</th>\n",
       "      <th>occupation</th>\n",
       "      <th>zipcode</th>\n",
       "    </tr>\n",
       "  </thead>\n",
       "  <tbody>\n",
       "    <tr>\n",
       "      <th>0</th>\n",
       "      <td>1</td>\n",
       "      <td>24</td>\n",
       "      <td>M</td>\n",
       "      <td>technician</td>\n",
       "      <td>85711</td>\n",
       "    </tr>\n",
       "    <tr>\n",
       "      <th>1</th>\n",
       "      <td>2</td>\n",
       "      <td>53</td>\n",
       "      <td>F</td>\n",
       "      <td>other</td>\n",
       "      <td>94043</td>\n",
       "    </tr>\n",
       "    <tr>\n",
       "      <th>2</th>\n",
       "      <td>3</td>\n",
       "      <td>23</td>\n",
       "      <td>M</td>\n",
       "      <td>writer</td>\n",
       "      <td>32067</td>\n",
       "    </tr>\n",
       "    <tr>\n",
       "      <th>3</th>\n",
       "      <td>4</td>\n",
       "      <td>24</td>\n",
       "      <td>M</td>\n",
       "      <td>technician</td>\n",
       "      <td>43537</td>\n",
       "    </tr>\n",
       "    <tr>\n",
       "      <th>4</th>\n",
       "      <td>5</td>\n",
       "      <td>33</td>\n",
       "      <td>F</td>\n",
       "      <td>other</td>\n",
       "      <td>15213</td>\n",
       "    </tr>\n",
       "  </tbody>\n",
       "</table>\n",
       "</div>"
      ],
      "text/plain": [
       "   user  age sex  occupation zipcode\n",
       "0     1   24   M  technician   85711\n",
       "1     2   53   F       other   94043\n",
       "2     3   23   M      writer   32067\n",
       "3     4   24   M  technician   43537\n",
       "4     5   33   F       other   15213"
      ]
     },
     "execution_count": 40,
     "metadata": {},
     "output_type": "execute_result"
    }
   ],
   "source": [
    "genre_file = './../../../../Datasets/MovieLens/100k_raw/u.user'\n",
    "df_genre_from_file = pd.read_csv(genre_file, sep='|', header=None, names = ['user', 'age', 'sex', 'occupation', 'zipcode'])\n",
    "df_genre_from_file.head()"
   ]
  },
  {
   "cell_type": "code",
   "execution_count": 44,
   "metadata": {},
   "outputs": [
    {
     "name": "stdout",
     "output_type": "stream",
     "text": [
      "5 1 24\n",
      "5 2 53\n",
      "5 3 23\n",
      "5 4 24\n"
     ]
    }
   ],
   "source": [
    "for index, row in df_genre_from_file.head(4).iterrows():\n",
    "    print (len(row), row[0], row[1])"
   ]
  },
  {
   "cell_type": "code",
   "execution_count": 34,
   "metadata": {},
   "outputs": [
    {
     "data": {
      "text/plain": [
       "array([1, 2, 3, 4, 5], dtype=int64)"
      ]
     },
     "execution_count": 34,
     "metadata": {},
     "output_type": "execute_result"
    }
   ],
   "source": [
    "list_users = df_genre_from_file['user'].unique()\n",
    "list_users[:5]"
   ]
  },
  {
   "cell_type": "code",
   "execution_count": 37,
   "metadata": {},
   "outputs": [
    {
     "data": {
      "text/html": [
       "<div>\n",
       "<style scoped>\n",
       "    .dataframe tbody tr th:only-of-type {\n",
       "        vertical-align: middle;\n",
       "    }\n",
       "\n",
       "    .dataframe tbody tr th {\n",
       "        vertical-align: top;\n",
       "    }\n",
       "\n",
       "    .dataframe thead th {\n",
       "        text-align: right;\n",
       "    }\n",
       "</style>\n",
       "<table border=\"1\" class=\"dataframe\">\n",
       "  <thead>\n",
       "    <tr style=\"text-align: right;\">\n",
       "      <th></th>\n",
       "      <th>age</th>\n",
       "      <th>sex</th>\n",
       "      <th>occupation</th>\n",
       "      <th>zipcode</th>\n",
       "    </tr>\n",
       "    <tr>\n",
       "      <th>user</th>\n",
       "      <th></th>\n",
       "      <th></th>\n",
       "      <th></th>\n",
       "      <th></th>\n",
       "    </tr>\n",
       "  </thead>\n",
       "  <tbody>\n",
       "    <tr>\n",
       "      <th>1</th>\n",
       "      <td>24</td>\n",
       "      <td>M</td>\n",
       "      <td>technician</td>\n",
       "      <td>85711</td>\n",
       "    </tr>\n",
       "    <tr>\n",
       "      <th>2</th>\n",
       "      <td>53</td>\n",
       "      <td>F</td>\n",
       "      <td>other</td>\n",
       "      <td>94043</td>\n",
       "    </tr>\n",
       "    <tr>\n",
       "      <th>3</th>\n",
       "      <td>23</td>\n",
       "      <td>M</td>\n",
       "      <td>writer</td>\n",
       "      <td>32067</td>\n",
       "    </tr>\n",
       "    <tr>\n",
       "      <th>4</th>\n",
       "      <td>24</td>\n",
       "      <td>M</td>\n",
       "      <td>technician</td>\n",
       "      <td>43537</td>\n",
       "    </tr>\n",
       "    <tr>\n",
       "      <th>5</th>\n",
       "      <td>33</td>\n",
       "      <td>F</td>\n",
       "      <td>other</td>\n",
       "      <td>15213</td>\n",
       "    </tr>\n",
       "  </tbody>\n",
       "</table>\n",
       "</div>"
      ],
      "text/plain": [
       "      age sex  occupation zipcode\n",
       "user                             \n",
       "1      24   M  technician   85711\n",
       "2      53   F       other   94043\n",
       "3      23   M      writer   32067\n",
       "4      24   M  technician   43537\n",
       "5      33   F       other   15213"
      ]
     },
     "execution_count": 37,
     "metadata": {},
     "output_type": "execute_result"
    }
   ],
   "source": [
    "df_genre_from_file.set_index(keys=['user'], verify_integrity=True, inplace=True)\n",
    "df_genre_from_file.head()"
   ]
  },
  {
   "cell_type": "code",
   "execution_count": 38,
   "metadata": {},
   "outputs": [],
   "source": [
    "dict_values = {}\n",
    "list_col_1 = set()\n",
    "list_col_2 = set()\n",
    "mean_value = 0\n",
    "number_interactions = 0"
   ]
  },
  {
   "cell_type": "code",
   "execution_count": null,
   "metadata": {},
   "outputs": [],
   "source": [
    "number_interactions = df_genre_from_file.shape[0]\n",
    "\n",
    "for index, row in df_genre_from_file.iterrows():\n",
    "    if len(row) == 1:\n",
    "        raise TypeError(\"Error: Space type (sep) is invalid!\")\n",
    "\n",
    "    if len(row) == 2:\n",
    "        attr1, attr2 = int(row[0]), row[1]\n",
    "        dict_values.setdefault(attr1, {}).update({attr2: 1.0})\n",
    "        list_col_1.add(attr1)\n",
    "        list_col_2.add(attr2)        \n",
    "    else:\n",
    "        attr1, attr2, value = int(row[0]), row[1], float(row[2])\n",
    "        dict_values.setdefault(attr1, {}).update({attr2: 1.0 if self.as_binary else value})\n",
    "        list_col_1.add(attr1)\n",
    "        list_col_2.add(attr2)\n",
    "        mean_value += value\n",
    "        \n"
   ]
  },
  {
   "cell_type": "code",
   "execution_count": null,
   "metadata": {},
   "outputs": [],
   "source": [
    "def read_similarity_or_metadata(df, names=None):    \n",
    "    list_items = self.df_feedback['item'].unique()\n",
    "    pd.read_csv(genre_file, sep='|', header=None, names = ['user', 'age', 'sex', 'occupation', 'zipcode'])"
   ]
  }
 ],
 "metadata": {
  "kernelspec": {
   "display_name": "Python 3",
   "language": "python",
   "name": "python3"
  },
  "language_info": {
   "codemirror_mode": {
    "name": "ipython",
    "version": 3
   },
   "file_extension": ".py",
   "mimetype": "text/x-python",
   "name": "python",
   "nbconvert_exporter": "python",
   "pygments_lexer": "ipython3",
   "version": "3.7.3"
  }
 },
 "nbformat": 4,
 "nbformat_minor": 2
}
