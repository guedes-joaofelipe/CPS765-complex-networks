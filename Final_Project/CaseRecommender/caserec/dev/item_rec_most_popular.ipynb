{
 "cells": [
  {
   "cell_type": "code",
   "execution_count": 1,
   "metadata": {},
   "outputs": [],
   "source": [
    "import os\n",
    "import numpy as np\n",
    "import pandas as pd \n",
    "from sklearn.model_selection import train_test_split\n",
    "from caserec.utils.process_data import ReadFile, ReadDataframe\n",
    "from caserec.recommenders.item_recommendation.most_popular import MostPopular\n",
    "from IPython.display import clear_output"
   ]
  },
  {
   "cell_type": "code",
   "execution_count": 2,
   "metadata": {},
   "outputs": [
    {
     "data": {
      "text/html": [
       "<div>\n",
       "<style scoped>\n",
       "    .dataframe tbody tr th:only-of-type {\n",
       "        vertical-align: middle;\n",
       "    }\n",
       "\n",
       "    .dataframe tbody tr th {\n",
       "        vertical-align: top;\n",
       "    }\n",
       "\n",
       "    .dataframe thead th {\n",
       "        text-align: right;\n",
       "    }\n",
       "</style>\n",
       "<table border=\"1\" class=\"dataframe\">\n",
       "  <thead>\n",
       "    <tr style=\"text-align: right;\">\n",
       "      <th></th>\n",
       "      <th>user</th>\n",
       "      <th>item</th>\n",
       "      <th>feedback_value</th>\n",
       "      <th>timestamp</th>\n",
       "    </tr>\n",
       "  </thead>\n",
       "  <tbody>\n",
       "    <tr>\n",
       "      <th>0</th>\n",
       "      <td>45550</td>\n",
       "      <td>0</td>\n",
       "      <td>5.0</td>\n",
       "      <td>1202256000</td>\n",
       "    </tr>\n",
       "    <tr>\n",
       "      <th>1</th>\n",
       "      <td>367442</td>\n",
       "      <td>0</td>\n",
       "      <td>5.0</td>\n",
       "      <td>1198195200</td>\n",
       "    </tr>\n",
       "    <tr>\n",
       "      <th>2</th>\n",
       "      <td>212056</td>\n",
       "      <td>1</td>\n",
       "      <td>4.0</td>\n",
       "      <td>1215388800</td>\n",
       "    </tr>\n",
       "    <tr>\n",
       "      <th>3</th>\n",
       "      <td>354802</td>\n",
       "      <td>1</td>\n",
       "      <td>4.0</td>\n",
       "      <td>1185840000</td>\n",
       "    </tr>\n",
       "    <tr>\n",
       "      <th>4</th>\n",
       "      <td>344843</td>\n",
       "      <td>1</td>\n",
       "      <td>2.0</td>\n",
       "      <td>1281052800</td>\n",
       "    </tr>\n",
       "  </tbody>\n",
       "</table>\n",
       "</div>"
      ],
      "text/plain": [
       "     user  item  feedback_value   timestamp\n",
       "0   45550     0             5.0  1202256000\n",
       "1  367442     0             5.0  1198195200\n",
       "2  212056     1             4.0  1215388800\n",
       "3  354802     1             4.0  1185840000\n",
       "4  344843     1             2.0  1281052800"
      ]
     },
     "execution_count": 2,
     "metadata": {},
     "output_type": "execute_result"
    }
   ],
   "source": [
    "train_file = './../../../../Datasets/Amazon/InstantVideo/ratings.csv'\n",
    "# train_file = './../../../../Datasets/MovieLens/1M_raw/ratings.dat'\n",
    "# dict_ratings_from_file = ReadFile(train_file, sep='\\t').read() \n",
    "df_feedback = pd.read_csv(train_file, sep='\\t', header=0, names = ['user', 'item', 'feedback_value', 'timestamp'])\n",
    "df_feedback.head()"
   ]
  },
  {
   "cell_type": "code",
   "execution_count": 4,
   "metadata": {},
   "outputs": [],
   "source": [
    "rank_length = 10\n",
    "random_state = 31415"
   ]
  },
  {
   "cell_type": "code",
   "execution_count": 5,
   "metadata": {},
   "outputs": [
    {
     "name": "stdout",
     "output_type": "stream",
     "text": [
      "Train size: 408753 \n",
      "Test size: 175180\n"
     ]
    }
   ],
   "source": [
    "df_train, df_test = train_test_split(df_feedback, test_size=0.3, random_state=random_state)\n",
    "print (\"Train size: {} \\nTest size: {}\".format(df_train.shape[0], df_test.shape[0]))"
   ]
  },
  {
   "cell_type": "code",
   "execution_count": 6,
   "metadata": {},
   "outputs": [],
   "source": [
    "model = MostPopular(train_file=df_train, test_file=df_test, rank_length=30, as_binary=True)"
   ]
  },
  {
   "cell_type": "code",
   "execution_count": null,
   "metadata": {},
   "outputs": [],
   "source": [
    "%%time\n",
    "model.compute(verbose=True)"
   ]
  },
  {
   "cell_type": "code",
   "execution_count": null,
   "metadata": {},
   "outputs": [],
   "source": [
    "model.ranking[:5]"
   ]
  },
  {
   "cell_type": "code",
   "execution_count": null,
   "metadata": {},
   "outputs": [],
   "source": []
  },
  {
   "cell_type": "code",
   "execution_count": 7,
   "metadata": {},
   "outputs": [],
   "source": [
    "df_item_count = df_feedback[['user', 'item']].groupby(by=['item']).count()#.sort_values(['user'], ascending = False)\n",
    "df_item_count.columns = ['count']"
   ]
  },
  {
   "cell_type": "code",
   "execution_count": 8,
   "metadata": {},
   "outputs": [
    {
     "data": {
      "text/html": [
       "<div>\n",
       "<style scoped>\n",
       "    .dataframe tbody tr th:only-of-type {\n",
       "        vertical-align: middle;\n",
       "    }\n",
       "\n",
       "    .dataframe tbody tr th {\n",
       "        vertical-align: top;\n",
       "    }\n",
       "\n",
       "    .dataframe thead th {\n",
       "        text-align: right;\n",
       "    }\n",
       "</style>\n",
       "<table border=\"1\" class=\"dataframe\">\n",
       "  <thead>\n",
       "    <tr style=\"text-align: right;\">\n",
       "      <th></th>\n",
       "      <th>user</th>\n",
       "      <th>item</th>\n",
       "      <th>feedback_value</th>\n",
       "      <th>timestamp</th>\n",
       "    </tr>\n",
       "  </thead>\n",
       "  <tbody>\n",
       "    <tr>\n",
       "      <th>0</th>\n",
       "      <td>45550</td>\n",
       "      <td>0</td>\n",
       "      <td>5.0</td>\n",
       "      <td>1202256000</td>\n",
       "    </tr>\n",
       "    <tr>\n",
       "      <th>1</th>\n",
       "      <td>367442</td>\n",
       "      <td>0</td>\n",
       "      <td>5.0</td>\n",
       "      <td>1198195200</td>\n",
       "    </tr>\n",
       "    <tr>\n",
       "      <th>2</th>\n",
       "      <td>212056</td>\n",
       "      <td>1</td>\n",
       "      <td>4.0</td>\n",
       "      <td>1215388800</td>\n",
       "    </tr>\n",
       "    <tr>\n",
       "      <th>3</th>\n",
       "      <td>354802</td>\n",
       "      <td>1</td>\n",
       "      <td>4.0</td>\n",
       "      <td>1185840000</td>\n",
       "    </tr>\n",
       "    <tr>\n",
       "      <th>4</th>\n",
       "      <td>344843</td>\n",
       "      <td>1</td>\n",
       "      <td>2.0</td>\n",
       "      <td>1281052800</td>\n",
       "    </tr>\n",
       "  </tbody>\n",
       "</table>\n",
       "</div>"
      ],
      "text/plain": [
       "     user  item  feedback_value   timestamp\n",
       "0   45550     0             5.0  1202256000\n",
       "1  367442     0             5.0  1198195200\n",
       "2  212056     1             4.0  1215388800\n",
       "3  354802     1             4.0  1185840000\n",
       "4  344843     1             2.0  1281052800"
      ]
     },
     "execution_count": 8,
     "metadata": {},
     "output_type": "execute_result"
    }
   ],
   "source": [
    "df_feedback.head()"
   ]
  },
  {
   "cell_type": "code",
   "execution_count": 115,
   "metadata": {},
   "outputs": [
    {
     "data": {
      "text/plain": [
       "[0, 1, 2, 3, 4]"
      ]
     },
     "execution_count": 115,
     "metadata": {},
     "output_type": "execute_result"
    }
   ],
   "source": [
    "list_users = list(np.sort(df_feedback['user'].unique()))\n",
    "list_items = list(np.sort(df_feedback['item'].unique()))            \n",
    "list_users[:5]"
   ]
  },
  {
   "cell_type": "code",
   "execution_count": 39,
   "metadata": {},
   "outputs": [
    {
     "data": {
      "text/html": [
       "<div>\n",
       "<style scoped>\n",
       "    .dataframe tbody tr th:only-of-type {\n",
       "        vertical-align: middle;\n",
       "    }\n",
       "\n",
       "    .dataframe tbody tr th {\n",
       "        vertical-align: top;\n",
       "    }\n",
       "\n",
       "    .dataframe thead th {\n",
       "        text-align: right;\n",
       "    }\n",
       "</style>\n",
       "<table border=\"1\" class=\"dataframe\">\n",
       "  <thead>\n",
       "    <tr style=\"text-align: right;\">\n",
       "      <th></th>\n",
       "      <th>item</th>\n",
       "      <th>feedback_value</th>\n",
       "      <th>timestamp</th>\n",
       "    </tr>\n",
       "    <tr>\n",
       "      <th>user</th>\n",
       "      <th></th>\n",
       "      <th></th>\n",
       "      <th></th>\n",
       "    </tr>\n",
       "  </thead>\n",
       "  <tbody>\n",
       "    <tr>\n",
       "      <th>45550</th>\n",
       "      <td>0</td>\n",
       "      <td>5.0</td>\n",
       "      <td>1202256000</td>\n",
       "    </tr>\n",
       "    <tr>\n",
       "      <th>367442</th>\n",
       "      <td>0</td>\n",
       "      <td>5.0</td>\n",
       "      <td>1198195200</td>\n",
       "    </tr>\n",
       "    <tr>\n",
       "      <th>212056</th>\n",
       "      <td>1</td>\n",
       "      <td>4.0</td>\n",
       "      <td>1215388800</td>\n",
       "    </tr>\n",
       "    <tr>\n",
       "      <th>354802</th>\n",
       "      <td>1</td>\n",
       "      <td>4.0</td>\n",
       "      <td>1185840000</td>\n",
       "    </tr>\n",
       "    <tr>\n",
       "      <th>344843</th>\n",
       "      <td>1</td>\n",
       "      <td>2.0</td>\n",
       "      <td>1281052800</td>\n",
       "    </tr>\n",
       "  </tbody>\n",
       "</table>\n",
       "</div>"
      ],
      "text/plain": [
       "        item  feedback_value   timestamp\n",
       "user                                    \n",
       "45550      0             5.0  1202256000\n",
       "367442     0             5.0  1198195200\n",
       "212056     1             4.0  1215388800\n",
       "354802     1             4.0  1185840000\n",
       "344843     1             2.0  1281052800"
      ]
     },
     "execution_count": 39,
     "metadata": {},
     "output_type": "execute_result"
    }
   ],
   "source": [
    "df_feedback.set_index(['user'], inplace=True)\n",
    "df_feedback.head()"
   ]
  },
  {
   "cell_type": "code",
   "execution_count": 108,
   "metadata": {},
   "outputs": [
    {
     "name": "stdout",
     "output_type": "stream",
     "text": [
      "Wall time: 1min 28s\n"
     ]
    }
   ],
   "source": [
    "%%time\n",
    "dict_feedback = {}\n",
    "items_seen_by_user = {}\n",
    "for user_id in list_users[:100000]:\n",
    "    df_user_temp = df_feedback.loc[user_id].copy()    \n",
    "    items = df_user_temp['item']\n",
    "    if len(df_user_temp.shape) == 1: # Only 1 row was found\n",
    "        values = df_user_temp['feedback_value'] if False else 1\n",
    "        items_seen_by_user[user_id] = [items]\n",
    "        dict_feedback[user_id] = {items: values}\n",
    "    else:\n",
    "        values = df_user_temp['feedback_value'] if False else np.repeat(1, df_user_temp['feedback_value'].shape[0]) \n",
    "        items_seen_by_user[user_id] = list(items)\n",
    "        dict_feedback[user_id] = dict(zip(items, values))    \n",
    "    \n",
    "\n",
    "# del df_user_temp"
   ]
  },
  {
   "cell_type": "code",
   "execution_count": 116,
   "metadata": {},
   "outputs": [
    {
     "data": {
      "text/html": [
       "<div>\n",
       "<style scoped>\n",
       "    .dataframe tbody tr th:only-of-type {\n",
       "        vertical-align: middle;\n",
       "    }\n",
       "\n",
       "    .dataframe tbody tr th {\n",
       "        vertical-align: top;\n",
       "    }\n",
       "\n",
       "    .dataframe thead th {\n",
       "        text-align: right;\n",
       "    }\n",
       "</style>\n",
       "<table border=\"1\" class=\"dataframe\">\n",
       "  <thead>\n",
       "    <tr style=\"text-align: right;\">\n",
       "      <th></th>\n",
       "      <th>index</th>\n",
       "      <th>item</th>\n",
       "      <th>user</th>\n",
       "      <th>feedback_value</th>\n",
       "      <th>timestamp</th>\n",
       "    </tr>\n",
       "  </thead>\n",
       "  <tbody>\n",
       "    <tr>\n",
       "      <th>0</th>\n",
       "      <td>0</td>\n",
       "      <td>0</td>\n",
       "      <td>45550</td>\n",
       "      <td>5.0</td>\n",
       "      <td>1202256000</td>\n",
       "    </tr>\n",
       "    <tr>\n",
       "      <th>1</th>\n",
       "      <td>1</td>\n",
       "      <td>0</td>\n",
       "      <td>367442</td>\n",
       "      <td>5.0</td>\n",
       "      <td>1198195200</td>\n",
       "    </tr>\n",
       "    <tr>\n",
       "      <th>2</th>\n",
       "      <td>2</td>\n",
       "      <td>1</td>\n",
       "      <td>212056</td>\n",
       "      <td>4.0</td>\n",
       "      <td>1215388800</td>\n",
       "    </tr>\n",
       "    <tr>\n",
       "      <th>3</th>\n",
       "      <td>3</td>\n",
       "      <td>1</td>\n",
       "      <td>354802</td>\n",
       "      <td>4.0</td>\n",
       "      <td>1185840000</td>\n",
       "    </tr>\n",
       "    <tr>\n",
       "      <th>4</th>\n",
       "      <td>4</td>\n",
       "      <td>1</td>\n",
       "      <td>344843</td>\n",
       "      <td>2.0</td>\n",
       "      <td>1281052800</td>\n",
       "    </tr>\n",
       "  </tbody>\n",
       "</table>\n",
       "</div>"
      ],
      "text/plain": [
       "   index  item    user  feedback_value   timestamp\n",
       "0      0     0   45550             5.0  1202256000\n",
       "1      1     0  367442             5.0  1198195200\n",
       "2      2     1  212056             4.0  1215388800\n",
       "3      3     1  354802             4.0  1185840000\n",
       "4      4     1  344843             2.0  1281052800"
      ]
     },
     "execution_count": 116,
     "metadata": {},
     "output_type": "execute_result"
    }
   ],
   "source": [
    "df_feedback.reset_index(drop = False, inplace = True)\n",
    "df_feedback.head()"
   ]
  },
  {
   "cell_type": "code",
   "execution_count": 120,
   "metadata": {},
   "outputs": [
    {
     "data": {
      "text/html": [
       "<div>\n",
       "<style scoped>\n",
       "    .dataframe tbody tr th:only-of-type {\n",
       "        vertical-align: middle;\n",
       "    }\n",
       "\n",
       "    .dataframe tbody tr th {\n",
       "        vertical-align: top;\n",
       "    }\n",
       "\n",
       "    .dataframe thead th {\n",
       "        text-align: right;\n",
       "    }\n",
       "</style>\n",
       "<table border=\"1\" class=\"dataframe\">\n",
       "  <thead>\n",
       "    <tr style=\"text-align: right;\">\n",
       "      <th></th>\n",
       "      <th>user</th>\n",
       "      <th>feedback_value</th>\n",
       "      <th>timestamp</th>\n",
       "    </tr>\n",
       "    <tr>\n",
       "      <th>item</th>\n",
       "      <th></th>\n",
       "      <th></th>\n",
       "      <th></th>\n",
       "    </tr>\n",
       "  </thead>\n",
       "  <tbody>\n",
       "    <tr>\n",
       "      <th>0</th>\n",
       "      <td>45550</td>\n",
       "      <td>5.0</td>\n",
       "      <td>1202256000</td>\n",
       "    </tr>\n",
       "    <tr>\n",
       "      <th>0</th>\n",
       "      <td>367442</td>\n",
       "      <td>5.0</td>\n",
       "      <td>1198195200</td>\n",
       "    </tr>\n",
       "    <tr>\n",
       "      <th>1</th>\n",
       "      <td>212056</td>\n",
       "      <td>4.0</td>\n",
       "      <td>1215388800</td>\n",
       "    </tr>\n",
       "    <tr>\n",
       "      <th>1</th>\n",
       "      <td>354802</td>\n",
       "      <td>4.0</td>\n",
       "      <td>1185840000</td>\n",
       "    </tr>\n",
       "    <tr>\n",
       "      <th>1</th>\n",
       "      <td>344843</td>\n",
       "      <td>2.0</td>\n",
       "      <td>1281052800</td>\n",
       "    </tr>\n",
       "  </tbody>\n",
       "</table>\n",
       "</div>"
      ],
      "text/plain": [
       "        user  feedback_value   timestamp\n",
       "item                                    \n",
       "0      45550             5.0  1202256000\n",
       "0     367442             5.0  1198195200\n",
       "1     212056             4.0  1215388800\n",
       "1     354802             4.0  1185840000\n",
       "1     344843             2.0  1281052800"
      ]
     },
     "execution_count": 120,
     "metadata": {},
     "output_type": "execute_result"
    }
   ],
   "source": [
    "df_feedback.set_index(['item'], inplace = True)\n",
    "df_feedback.head()"
   ]
  },
  {
   "cell_type": "code",
   "execution_count": 136,
   "metadata": {},
   "outputs": [
    {
     "name": "stdout",
     "output_type": "stream",
     "text": [
      "Wall time: 5.83 s\n"
     ]
    }
   ],
   "source": [
    "%%time\n",
    "users_viewed_item = {}  \n",
    "for item_id in list_items:\n",
    "    users = df_feedback.loc[item_id]['user'].copy()\n",
    "    users_viewed_item[item_id] = [users] if len(users.shape) == 0 else list(users)\n",
    "    \n",
    "#     if len(users.shape) == 0:\n",
    "#         users_viewed_item[item_id] = [users]\n",
    "#     else:\n",
    "#         users_viewed_item[item_id] = list(users)\n",
    "    "
   ]
  },
  {
   "cell_type": "code",
   "execution_count": 134,
   "metadata": {},
   "outputs": [
    {
     "data": {
      "text/plain": [
       "0"
      ]
     },
     "execution_count": 134,
     "metadata": {},
     "output_type": "execute_result"
    }
   ],
   "source": [
    "len(users.shape)"
   ]
  },
  {
   "cell_type": "code",
   "execution_count": 130,
   "metadata": {},
   "outputs": [
    {
     "data": {
      "text/plain": [
       "True"
      ]
     },
     "execution_count": 130,
     "metadata": {},
     "output_type": "execute_result"
    }
   ],
   "source": [
    "isinstance(df_feedback.loc[5]['user'], np.float64)"
   ]
  },
  {
   "cell_type": "code",
   "execution_count": 68,
   "metadata": {},
   "outputs": [
    {
     "data": {
      "text/html": [
       "<div>\n",
       "<style scoped>\n",
       "    .dataframe tbody tr th:only-of-type {\n",
       "        vertical-align: middle;\n",
       "    }\n",
       "\n",
       "    .dataframe tbody tr th {\n",
       "        vertical-align: top;\n",
       "    }\n",
       "\n",
       "    .dataframe thead th {\n",
       "        text-align: right;\n",
       "    }\n",
       "</style>\n",
       "<table border=\"1\" class=\"dataframe\">\n",
       "  <thead>\n",
       "    <tr style=\"text-align: right;\">\n",
       "      <th></th>\n",
       "      <th>user</th>\n",
       "      <th>item</th>\n",
       "      <th>feedback_value</th>\n",
       "      <th>timestamp</th>\n",
       "    </tr>\n",
       "  </thead>\n",
       "  <tbody>\n",
       "    <tr>\n",
       "      <th>207825</th>\n",
       "      <td>0</td>\n",
       "      <td>12160</td>\n",
       "      <td>3.0</td>\n",
       "      <td>1405209600</td>\n",
       "    </tr>\n",
       "  </tbody>\n",
       "</table>\n",
       "</div>"
      ],
      "text/plain": [
       "        user   item  feedback_value   timestamp\n",
       "207825     0  12160             3.0  1405209600"
      ]
     },
     "execution_count": 68,
     "metadata": {},
     "output_type": "execute_result"
    }
   ],
   "source": [
    "df_feedback.reset_index(drop=False)[df_feedback.reset_index(drop=False)['user'] == user_id]"
   ]
  },
  {
   "cell_type": "code",
   "execution_count": 85,
   "metadata": {},
   "outputs": [
    {
     "data": {
      "text/plain": [
       "1"
      ]
     },
     "execution_count": 85,
     "metadata": {},
     "output_type": "execute_result"
    }
   ],
   "source": [
    "len(df_user_temp.shape)"
   ]
  },
  {
   "cell_type": "code",
   "execution_count": 87,
   "metadata": {},
   "outputs": [
    {
     "data": {
      "text/plain": [
       "(12160.0, array([1, 1, 1]), (3,), 3.0)"
      ]
     },
     "execution_count": 87,
     "metadata": {},
     "output_type": "execute_result"
    }
   ],
   "source": [
    "items, values, df_user_temp.shape, df_user_temp['feedback_value']"
   ]
  },
  {
   "cell_type": "code",
   "execution_count": 56,
   "metadata": {},
   "outputs": [
    {
     "ename": "TypeError",
     "evalue": "'numpy.float64' object is not iterable",
     "output_type": "error",
     "traceback": [
      "\u001b[1;31m---------------------------------------------------------------------------\u001b[0m",
      "\u001b[1;31mTypeError\u001b[0m                                 Traceback (most recent call last)",
      "\u001b[1;32m<ipython-input-56-e3c7d94d6846>\u001b[0m in \u001b[0;36m<module>\u001b[1;34m\u001b[0m\n\u001b[1;32m----> 1\u001b[1;33m \u001b[0mlist\u001b[0m\u001b[1;33m(\u001b[0m\u001b[0mitems\u001b[0m\u001b[1;33m)\u001b[0m\u001b[1;33m\u001b[0m\u001b[1;33m\u001b[0m\u001b[0m\n\u001b[0m",
      "\u001b[1;31mTypeError\u001b[0m: 'numpy.float64' object is not iterable"
     ]
    }
   ],
   "source": [
    "list(items)"
   ]
  },
  {
   "cell_type": "code",
   "execution_count": 50,
   "metadata": {},
   "outputs": [
    {
     "data": {
      "text/plain": [
       "{2650: 1, 10197: 1}"
      ]
     },
     "execution_count": 50,
     "metadata": {},
     "output_type": "execute_result"
    }
   ],
   "source": [
    "dict(zip(items, values))"
   ]
  },
  {
   "cell_type": "code",
   "execution_count": 48,
   "metadata": {},
   "outputs": [
    {
     "data": {
      "text/plain": [
       "array([1, 1, 1, ..., 1, 1, 1])"
      ]
     },
     "execution_count": 48,
     "metadata": {},
     "output_type": "execute_result"
    }
   ],
   "source": [
    "values"
   ]
  },
  {
   "cell_type": "code",
   "execution_count": null,
   "metadata": {},
   "outputs": [],
   "source": [
    "%%time\n",
    "set_items = set(df_feedback['item'].unique())\n",
    "user_series = np.array([])\n",
    "first_user = True\n",
    "count = 1\n",
    "# for user in model.users:\n",
    "for user in df_ratings['user'].unique():\n",
    "    start_time = time.time()\n",
    "    print ('[{}] {}/{}'.format(start_time, count, len(df_feedback['user'].unique())))\n",
    "    set_items_seen_user = set(df_feedback[df_feedback['user'] == user]['item'].unique())\n",
    "    set_items_unobserved = set_items-set_items_seen_user  \n",
    "    \n",
    "    df_item_count_temp = df_item_count.loc[set_items_unobserved][:rank_length] \n",
    "    print ('[{}] {}/{}'.format(time.time()-start_time, count, len(df_feedback['user'].unique())))        \n",
    "    user_series = np.append(user_series, np.repeat(user, df_item_count_temp.shape[0]))\n",
    "    if (first_user):\n",
    "        df_ranking_temp = df_item_count_temp.copy()\n",
    "        first_user = False\n",
    "    else:\n",
    "        df_ranking_temp = df_ranking_temp.append(df_item_count_temp)\n",
    "    count += 1   \n",
    "    \n",
    "df_ranking_temp['user'] = user_series   \n",
    "ranking = df_ranking_temp.reset_index(drop = False)[['user', 'item', 'count']].values.tolist()\n",
    "# del df_item_count_temp\n",
    "#     ranking.append((user, list(df_item_count_temp.index), list(df_item_count_temp['count'])))\n",
    "    "
   ]
  },
  {
   "cell_type": "code",
   "execution_count": null,
   "metadata": {},
   "outputs": [],
   "source": [
    "ranking"
   ]
  },
  {
   "cell_type": "code",
   "execution_count": null,
   "metadata": {},
   "outputs": [],
   "source": [
    "df_feedback.loc[~df_feedback.index.isin(df_items_seen_user.item)]"
   ]
  },
  {
   "cell_type": "code",
   "execution_count": null,
   "metadata": {},
   "outputs": [],
   "source": [
    "df_ranking_temp.reset_index(drop = False)[['user', 'item', 'count']].values.tolist()"
   ]
  },
  {
   "cell_type": "code",
   "execution_count": null,
   "metadata": {},
   "outputs": [],
   "source": [
    "ranking[:10]"
   ]
  },
  {
   "cell_type": "code",
   "execution_count": null,
   "metadata": {},
   "outputs": [],
   "source": [
    "set_items-set(df_feedback[df_feedback['user'] == user]['item'].unique())"
   ]
  }
 ],
 "metadata": {
  "kernelspec": {
   "display_name": "Python 3",
   "language": "python",
   "name": "python3"
  },
  "language_info": {
   "codemirror_mode": {
    "name": "ipython",
    "version": 3
   },
   "file_extension": ".py",
   "mimetype": "text/x-python",
   "name": "python",
   "nbconvert_exporter": "python",
   "pygments_lexer": "ipython3",
   "version": "3.7.3"
  }
 },
 "nbformat": 4,
 "nbformat_minor": 2
}
