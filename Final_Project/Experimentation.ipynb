{
 "cells": [
  {
   "cell_type": "markdown",
   "metadata": {},
   "source": [
    "## Tarefas\n",
    "- Definir variables output folder\n",
    "- Criar pastas para cada fold\n"
   ]
  },
  {
   "cell_type": "markdown",
   "metadata": {},
   "source": [
    "## Imports"
   ]
  },
  {
   "cell_type": "code",
   "execution_count": 1,
   "metadata": {},
   "outputs": [],
   "source": [
    "import os\n",
    "import sys\n",
    "import pandas as pd\n",
    "import numpy as np\n",
    "import random\n",
    "from random import choice\n",
    "from string import ascii_uppercase\n",
    "from caserec.recommenders.rating_prediction.itemknn import ItemKNN\n",
    "from caserec.evaluation.rating_prediction import RatingPredictionEvaluation\n",
    "from caserec.utils.process_data import ReadFile\n",
    "from sklearn.model_selection import train_test_split"
   ]
  },
  {
   "cell_type": "markdown",
   "metadata": {},
   "source": [
    "## Parameters"
   ]
  },
  {
   "cell_type": "code",
   "execution_count": 13,
   "metadata": {
    "tags": [
     "parameters"
    ]
   },
   "outputs": [],
   "source": [
    "degree_user_thr = .1\n",
    "degree_item_thr = .1\n",
    "strategy = 'upper_degree_centrality'\n",
    "k_neighbors = 30\n",
    "rank_length = 10\n",
    "n_fold = 2"
   ]
  },
  {
   "cell_type": "code",
   "execution_count": 3,
   "metadata": {},
   "outputs": [
    {
     "data": {
      "text/plain": [
       "['desktop.ini', 'df_degrees.csv', 'ML1M_edgelist.txt']"
      ]
     },
     "execution_count": 3,
     "metadata": {},
     "output_type": "execute_result"
    }
   ],
   "source": [
    "data_path = './Variables'\n",
    "os.listdir(data_path)"
   ]
  },
  {
   "cell_type": "code",
   "execution_count": 4,
   "metadata": {},
   "outputs": [
    {
     "data": {
      "text/html": [
       "<div>\n",
       "<style scoped>\n",
       "    .dataframe tbody tr th:only-of-type {\n",
       "        vertical-align: middle;\n",
       "    }\n",
       "\n",
       "    .dataframe tbody tr th {\n",
       "        vertical-align: top;\n",
       "    }\n",
       "\n",
       "    .dataframe thead th {\n",
       "        text-align: right;\n",
       "    }\n",
       "</style>\n",
       "<table border=\"1\" class=\"dataframe\">\n",
       "  <thead>\n",
       "    <tr style=\"text-align: right;\">\n",
       "      <th></th>\n",
       "      <th>from</th>\n",
       "      <th>to</th>\n",
       "      <th>rating</th>\n",
       "      <th>degree_user</th>\n",
       "      <th>degree_centrality_user</th>\n",
       "      <th>degree_item</th>\n",
       "      <th>degree_centrality_item</th>\n",
       "    </tr>\n",
       "  </thead>\n",
       "  <tbody>\n",
       "    <tr>\n",
       "      <td>0</td>\n",
       "      <td>user_1</td>\n",
       "      <td>item_1193</td>\n",
       "      <td>5</td>\n",
       "      <td>53</td>\n",
       "      <td>0.005439</td>\n",
       "      <td>1725</td>\n",
       "      <td>0.177014</td>\n",
       "    </tr>\n",
       "    <tr>\n",
       "      <td>1</td>\n",
       "      <td>user_2</td>\n",
       "      <td>item_1193</td>\n",
       "      <td>5</td>\n",
       "      <td>129</td>\n",
       "      <td>0.013238</td>\n",
       "      <td>1725</td>\n",
       "      <td>0.177014</td>\n",
       "    </tr>\n",
       "    <tr>\n",
       "      <td>2</td>\n",
       "      <td>user_12</td>\n",
       "      <td>item_1193</td>\n",
       "      <td>4</td>\n",
       "      <td>23</td>\n",
       "      <td>0.002360</td>\n",
       "      <td>1725</td>\n",
       "      <td>0.177014</td>\n",
       "    </tr>\n",
       "    <tr>\n",
       "      <td>3</td>\n",
       "      <td>user_15</td>\n",
       "      <td>item_1193</td>\n",
       "      <td>4</td>\n",
       "      <td>201</td>\n",
       "      <td>0.020626</td>\n",
       "      <td>1725</td>\n",
       "      <td>0.177014</td>\n",
       "    </tr>\n",
       "    <tr>\n",
       "      <td>4</td>\n",
       "      <td>user_17</td>\n",
       "      <td>item_1193</td>\n",
       "      <td>5</td>\n",
       "      <td>211</td>\n",
       "      <td>0.021652</td>\n",
       "      <td>1725</td>\n",
       "      <td>0.177014</td>\n",
       "    </tr>\n",
       "  </tbody>\n",
       "</table>\n",
       "</div>"
      ],
      "text/plain": [
       "      from         to  rating  degree_user  degree_centrality_user  \\\n",
       "0   user_1  item_1193       5           53                0.005439   \n",
       "1   user_2  item_1193       5          129                0.013238   \n",
       "2  user_12  item_1193       4           23                0.002360   \n",
       "3  user_15  item_1193       4          201                0.020626   \n",
       "4  user_17  item_1193       5          211                0.021652   \n",
       "\n",
       "   degree_item  degree_centrality_item  \n",
       "0         1725                0.177014  \n",
       "1         1725                0.177014  \n",
       "2         1725                0.177014  \n",
       "3         1725                0.177014  \n",
       "4         1725                0.177014  "
      ]
     },
     "execution_count": 4,
     "metadata": {},
     "output_type": "execute_result"
    }
   ],
   "source": [
    "df_degrees = pd.read_csv(os.path.join(data_path, 'df_degrees.csv'), sep=';')\n",
    "df_degrees.head()"
   ]
  },
  {
   "cell_type": "code",
   "execution_count": 5,
   "metadata": {},
   "outputs": [
    {
     "data": {
      "text/html": [
       "<div>\n",
       "<style scoped>\n",
       "    .dataframe tbody tr th:only-of-type {\n",
       "        vertical-align: middle;\n",
       "    }\n",
       "\n",
       "    .dataframe tbody tr th {\n",
       "        vertical-align: top;\n",
       "    }\n",
       "\n",
       "    .dataframe thead th {\n",
       "        text-align: right;\n",
       "    }\n",
       "</style>\n",
       "<table border=\"1\" class=\"dataframe\">\n",
       "  <thead>\n",
       "    <tr style=\"text-align: right;\">\n",
       "      <th></th>\n",
       "      <th>from</th>\n",
       "      <th>to</th>\n",
       "      <th>rating</th>\n",
       "      <th>degree_user</th>\n",
       "      <th>degree_centrality_user</th>\n",
       "      <th>degree_item</th>\n",
       "      <th>degree_centrality_item</th>\n",
       "    </tr>\n",
       "  </thead>\n",
       "  <tbody>\n",
       "    <tr>\n",
       "      <td>117</td>\n",
       "      <td>user_424</td>\n",
       "      <td>item_1193</td>\n",
       "      <td>5</td>\n",
       "      <td>1226</td>\n",
       "      <td>0.125808</td>\n",
       "      <td>1725</td>\n",
       "      <td>0.177014</td>\n",
       "    </tr>\n",
       "    <tr>\n",
       "      <td>152</td>\n",
       "      <td>user_524</td>\n",
       "      <td>item_1193</td>\n",
       "      <td>5</td>\n",
       "      <td>1016</td>\n",
       "      <td>0.104259</td>\n",
       "      <td>1725</td>\n",
       "      <td>0.177014</td>\n",
       "    </tr>\n",
       "    <tr>\n",
       "      <td>160</td>\n",
       "      <td>user_549</td>\n",
       "      <td>item_1193</td>\n",
       "      <td>5</td>\n",
       "      <td>1152</td>\n",
       "      <td>0.118214</td>\n",
       "      <td>1725</td>\n",
       "      <td>0.177014</td>\n",
       "    </tr>\n",
       "    <tr>\n",
       "      <td>213</td>\n",
       "      <td>user_752</td>\n",
       "      <td>item_1193</td>\n",
       "      <td>5</td>\n",
       "      <td>1024</td>\n",
       "      <td>0.105080</td>\n",
       "      <td>1725</td>\n",
       "      <td>0.177014</td>\n",
       "    </tr>\n",
       "    <tr>\n",
       "      <td>252</td>\n",
       "      <td>user_889</td>\n",
       "      <td>item_1193</td>\n",
       "      <td>1</td>\n",
       "      <td>1518</td>\n",
       "      <td>0.155772</td>\n",
       "      <td>1725</td>\n",
       "      <td>0.177014</td>\n",
       "    </tr>\n",
       "    <tr>\n",
       "      <td>...</td>\n",
       "      <td>...</td>\n",
       "      <td>...</td>\n",
       "      <td>...</td>\n",
       "      <td>...</td>\n",
       "      <td>...</td>\n",
       "      <td>...</td>\n",
       "      <td>...</td>\n",
       "    </tr>\n",
       "    <tr>\n",
       "      <td>815512</td>\n",
       "      <td>user_5367</td>\n",
       "      <td>item_1183</td>\n",
       "      <td>1</td>\n",
       "      <td>1169</td>\n",
       "      <td>0.119959</td>\n",
       "      <td>989</td>\n",
       "      <td>0.101488</td>\n",
       "    </tr>\n",
       "    <tr>\n",
       "      <td>815570</td>\n",
       "      <td>user_5643</td>\n",
       "      <td>item_1183</td>\n",
       "      <td>4</td>\n",
       "      <td>1047</td>\n",
       "      <td>0.107440</td>\n",
       "      <td>989</td>\n",
       "      <td>0.101488</td>\n",
       "    </tr>\n",
       "    <tr>\n",
       "      <td>815594</td>\n",
       "      <td>user_5795</td>\n",
       "      <td>item_1183</td>\n",
       "      <td>4</td>\n",
       "      <td>1277</td>\n",
       "      <td>0.131042</td>\n",
       "      <td>989</td>\n",
       "      <td>0.101488</td>\n",
       "    </tr>\n",
       "    <tr>\n",
       "      <td>815600</td>\n",
       "      <td>user_5831</td>\n",
       "      <td>item_1183</td>\n",
       "      <td>4</td>\n",
       "      <td>1220</td>\n",
       "      <td>0.125192</td>\n",
       "      <td>989</td>\n",
       "      <td>0.101488</td>\n",
       "    </tr>\n",
       "    <tr>\n",
       "      <td>815617</td>\n",
       "      <td>user_5954</td>\n",
       "      <td>item_1183</td>\n",
       "      <td>4</td>\n",
       "      <td>1000</td>\n",
       "      <td>0.102617</td>\n",
       "      <td>989</td>\n",
       "      <td>0.101488</td>\n",
       "    </tr>\n",
       "  </tbody>\n",
       "</table>\n",
       "<p>8464 rows × 7 columns</p>\n",
       "</div>"
      ],
      "text/plain": [
       "             from         to  rating  degree_user  degree_centrality_user  \\\n",
       "117      user_424  item_1193       5         1226                0.125808   \n",
       "152      user_524  item_1193       5         1016                0.104259   \n",
       "160      user_549  item_1193       5         1152                0.118214   \n",
       "213      user_752  item_1193       5         1024                0.105080   \n",
       "252      user_889  item_1193       1         1518                0.155772   \n",
       "...           ...        ...     ...          ...                     ...   \n",
       "815512  user_5367  item_1183       1         1169                0.119959   \n",
       "815570  user_5643  item_1183       4         1047                0.107440   \n",
       "815594  user_5795  item_1183       4         1277                0.131042   \n",
       "815600  user_5831  item_1183       4         1220                0.125192   \n",
       "815617  user_5954  item_1183       4         1000                0.102617   \n",
       "\n",
       "        degree_item  degree_centrality_item  \n",
       "117            1725                0.177014  \n",
       "152            1725                0.177014  \n",
       "160            1725                0.177014  \n",
       "213            1725                0.177014  \n",
       "252            1725                0.177014  \n",
       "...             ...                     ...  \n",
       "815512          989                0.101488  \n",
       "815570          989                0.101488  \n",
       "815594          989                0.101488  \n",
       "815600          989                0.101488  \n",
       "815617          989                0.101488  \n",
       "\n",
       "[8464 rows x 7 columns]"
      ]
     },
     "execution_count": 5,
     "metadata": {},
     "output_type": "execute_result"
    }
   ],
   "source": [
    "def filter_dataset(df_degrees, degree_user=None, degree_item=None, split_size=.3, strategy='upper_degree_centrality'):\n",
    "    degree_user = 1 if degree_user == None else degree_user\n",
    "    degree_item = 1 if degree_item == None else degree_item\n",
    "    \n",
    "    if strategy == 'upper_degree_centrality':       \n",
    "        cond_user = df_degrees['degree_centrality_user'] > degree_user\n",
    "        cond_item = df_degrees['degree_centrality_item'] > degree_item            \n",
    "        df_result = df_degrees[cond_user & cond_item]        \n",
    "    \n",
    "    elif strategy == 'lower_degree_centrality':\n",
    "        cond_user = df_degrees['degree_centrality_user'] <= degree_user\n",
    "        cond_item = df_degrees['degree_centrality_item'] <= degree_item            \n",
    "        df_result = df_degrees[cond_user & cond_item]    \n",
    "    \n",
    "    elif strategy == 'random':\n",
    "        df_result, df_test = train_test_split(df_degrees, test_size=split_size)\n",
    "        df_result.reset_index(drop=True, inplace=True)\n",
    "        return df_result\n",
    "        \n",
    "    return df_result\n",
    "filter_dataset(df_degrees, degree_user=degree_user_thr, degree_item=degree_item_thr, strategy=strategy)"
   ]
  },
  {
   "cell_type": "markdown",
   "metadata": {},
   "source": [
    "## Setting Train/Test sets"
   ]
  },
  {
   "cell_type": "code",
   "execution_count": 6,
   "metadata": {},
   "outputs": [
    {
     "data": {
      "text/html": [
       "<div>\n",
       "<style scoped>\n",
       "    .dataframe tbody tr th:only-of-type {\n",
       "        vertical-align: middle;\n",
       "    }\n",
       "\n",
       "    .dataframe tbody tr th {\n",
       "        vertical-align: top;\n",
       "    }\n",
       "\n",
       "    .dataframe thead th {\n",
       "        text-align: right;\n",
       "    }\n",
       "</style>\n",
       "<table border=\"1\" class=\"dataframe\">\n",
       "  <thead>\n",
       "    <tr style=\"text-align: right;\">\n",
       "      <th></th>\n",
       "      <th>user</th>\n",
       "      <th>item</th>\n",
       "      <th>feedback_value</th>\n",
       "    </tr>\n",
       "  </thead>\n",
       "  <tbody>\n",
       "    <tr>\n",
       "      <td>117</td>\n",
       "      <td>user_424</td>\n",
       "      <td>item_1193</td>\n",
       "      <td>5</td>\n",
       "    </tr>\n",
       "    <tr>\n",
       "      <td>152</td>\n",
       "      <td>user_524</td>\n",
       "      <td>item_1193</td>\n",
       "      <td>5</td>\n",
       "    </tr>\n",
       "    <tr>\n",
       "      <td>160</td>\n",
       "      <td>user_549</td>\n",
       "      <td>item_1193</td>\n",
       "      <td>5</td>\n",
       "    </tr>\n",
       "    <tr>\n",
       "      <td>213</td>\n",
       "      <td>user_752</td>\n",
       "      <td>item_1193</td>\n",
       "      <td>5</td>\n",
       "    </tr>\n",
       "    <tr>\n",
       "      <td>252</td>\n",
       "      <td>user_889</td>\n",
       "      <td>item_1193</td>\n",
       "      <td>1</td>\n",
       "    </tr>\n",
       "  </tbody>\n",
       "</table>\n",
       "</div>"
      ],
      "text/plain": [
       "         user       item  feedback_value\n",
       "117  user_424  item_1193               5\n",
       "152  user_524  item_1193               5\n",
       "160  user_549  item_1193               5\n",
       "213  user_752  item_1193               5\n",
       "252  user_889  item_1193               1"
      ]
     },
     "execution_count": 6,
     "metadata": {},
     "output_type": "execute_result"
    }
   ],
   "source": [
    "df_filtered = filter_dataset(df_degrees, degree_user=degree_user_thr, degree_item=degree_item_thr, strategy=strategy)\n",
    "df_filtered = df_filtered[['from', 'to', 'rating']]\n",
    "df_filtered.columns = ['user', 'item', 'feedback_value']\n",
    "df_filtered.head()"
   ]
  },
  {
   "cell_type": "code",
   "execution_count": 15,
   "metadata": {},
   "outputs": [
    {
     "name": "stdout",
     "output_type": "stream",
     "text": [
      "Train size: 5924 \n",
      "Test size: 2540\n"
     ]
    }
   ],
   "source": [
    "df_train, df_test = train_test_split(df_filtered, test_size=0.3, random_state=n_fold)\n",
    "print (\"Train size: {} \\nTest size: {}\".format(df_train.shape[0], df_test.shape[0]))"
   ]
  },
  {
   "cell_type": "markdown",
   "metadata": {},
   "source": [
    "## Training Model"
   ]
  },
  {
   "cell_type": "code",
   "execution_count": 8,
   "metadata": {},
   "outputs": [],
   "source": [
    "predictions_output_filepath = './predictions_output_' + ''.join(choice(ascii_uppercase) for i in range(12)) + '.dat'\n",
    "model = ItemKNN(train_file=df_train, test_file=df_test, k_neighbors=k_neighbors, output_file=predictions_output_filepath)"
   ]
  },
  {
   "cell_type": "code",
   "execution_count": 9,
   "metadata": {},
   "outputs": [
    {
     "name": "stdout",
     "output_type": "stream",
     "text": [
      "[Case Recommender: Rating Prediction > ItemKNN Algorithm]\n",
      "\n",
      "train data:: 44 users and 222 items (5924 interactions) | sparsity:: 39.35%\n",
      "test data:: 44 users and 222 items (2540 interactions) | sparsity:: 74.00%\n",
      "\n",
      "training_time:: 0.080812 sec\n",
      "prediction_time:: 0.345049 sec\n",
      "Eval:: MAE: 0.728431 RMSE: 0.943592 \n",
      "Wall time: 996 ms\n"
     ]
    }
   ],
   "source": [
    "%%time\n",
    "model.compute(verbose=True)"
   ]
  },
  {
   "cell_type": "markdown",
   "metadata": {},
   "source": [
    "## Evaluating Model"
   ]
  },
  {
   "cell_type": "code",
   "execution_count": 10,
   "metadata": {},
   "outputs": [],
   "source": [
    "# Creating evaluator with item-recommendation parameters\n",
    "evaluator = RatingPredictionEvaluation(sep = '\\t', \n",
    "                                       n_rank = np.arange(1,rank_length+1, 1), \n",
    "                                       as_rank = True,\n",
    "                                       metrics = ['PREC', 'RECALL'])"
   ]
  },
  {
   "cell_type": "code",
   "execution_count": 11,
   "metadata": {},
   "outputs": [
    {
     "name": "stdout",
     "output_type": "stream",
     "text": [
      "Eval:: PREC@1: 0.772727 PREC@2: 0.738636 PREC@3: 0.772727 PREC@4: 0.789773 PREC@5: 0.804545 PREC@6: 0.82197 PREC@7: 0.811688 PREC@8: 0.798295 PREC@9: 0.792929 PREC@10: 0.795455 RECALL@1: 0.021974 RECALL@2: 0.03981 RECALL@3: 0.063672 RECALL@4: 0.086929 RECALL@5: 0.112203 RECALL@6: 0.138491 RECALL@7: 0.159107 RECALL@8: 0.17704 RECALL@9: 0.1956 RECALL@10: 0.21785 \n"
     ]
    }
   ],
   "source": [
    "reader = ReadFile(input_file=predictions_output_filepath)\n",
    "predictions = reader.read()\n",
    "eval_results = evaluator.evaluate(predictions['feedback'], model.test_set)   \n",
    "for evaluation in model.evaluation_results.keys():\n",
    "    eval_results[evaluation] = model.evaluation_results[evaluation]\n",
    "os.remove(predictions_output_filepath)"
   ]
  },
  {
   "cell_type": "code",
   "execution_count": 12,
   "metadata": {},
   "outputs": [
    {
     "data": {
      "text/plain": [
       "{'MAE': 0.728431,\n",
       " 'MAP': 0.835813,\n",
       " 'MAP@1': 0.772727,\n",
       " 'MAP@10': 0.835813,\n",
       " 'MAP@2': 0.829545,\n",
       " 'MAP@3': 0.852273,\n",
       " 'MAP@4': 0.840278,\n",
       " 'MAP@5': 0.840309,\n",
       " 'MAP@6': 0.837247,\n",
       " 'MAP@7': 0.838994,\n",
       " 'MAP@8': 0.839062,\n",
       " 'MAP@9': 0.839822,\n",
       " 'MRR@1': 0.772727,\n",
       " 'MRR@10': 0.86553,\n",
       " 'MRR@2': 0.829545,\n",
       " 'MRR@3': 0.859848,\n",
       " 'MRR@4': 0.86553,\n",
       " 'MRR@5': 0.86553,\n",
       " 'MRR@6': 0.86553,\n",
       " 'MRR@7': 0.86553,\n",
       " 'MRR@8': 0.86553,\n",
       " 'MRR@9': 0.86553,\n",
       " 'NDCG@1': 0.772727,\n",
       " 'NDCG@10': 0.885679,\n",
       " 'NDCG@2': 0.886364,\n",
       " 'NDCG@3': 0.910169,\n",
       " 'NDCG@4': 0.889271,\n",
       " 'NDCG@5': 0.885087,\n",
       " 'NDCG@6': 0.881006,\n",
       " 'NDCG@7': 0.882832,\n",
       " 'NDCG@8': 0.883915,\n",
       " 'NDCG@9': 0.885569,\n",
       " 'PREC@1': 0.772727,\n",
       " 'PREC@10': 0.795455,\n",
       " 'PREC@2': 0.738636,\n",
       " 'PREC@3': 0.772727,\n",
       " 'PREC@4': 0.789773,\n",
       " 'PREC@5': 0.804545,\n",
       " 'PREC@6': 0.82197,\n",
       " 'PREC@7': 0.811688,\n",
       " 'PREC@8': 0.798295,\n",
       " 'PREC@9': 0.792929,\n",
       " 'RECALL@1': 0.021974,\n",
       " 'RECALL@10': 0.21785,\n",
       " 'RECALL@2': 0.03981,\n",
       " 'RECALL@3': 0.063672,\n",
       " 'RECALL@4': 0.086929,\n",
       " 'RECALL@5': 0.112203,\n",
       " 'RECALL@6': 0.138491,\n",
       " 'RECALL@7': 0.159107,\n",
       " 'RECALL@8': 0.17704,\n",
       " 'RECALL@9': 0.1956,\n",
       " 'RMSE': 0.943592}"
      ]
     },
     "execution_count": 12,
     "metadata": {},
     "output_type": "execute_result"
    }
   ],
   "source": [
    "eval_results"
   ]
  },
  {
   "cell_type": "code",
   "execution_count": null,
   "metadata": {},
   "outputs": [],
   "source": [
    "joblib.dump(eval_results, os.path.join(variables_output_folder, 'evaluation_results.joblib'))"
   ]
  }
 ],
 "metadata": {
  "kernelspec": {
   "display_name": "Python 3",
   "language": "python",
   "name": "python3"
  },
  "language_info": {
   "codemirror_mode": {
    "name": "ipython",
    "version": 3
   },
   "file_extension": ".py",
   "mimetype": "text/x-python",
   "name": "python",
   "nbconvert_exporter": "python",
   "pygments_lexer": "ipython3",
   "version": "3.6.4"
  }
 },
 "nbformat": 4,
 "nbformat_minor": 2
}
