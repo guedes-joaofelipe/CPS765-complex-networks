{
 "cells": [
  {
   "cell_type": "markdown",
   "metadata": {},
   "source": [
    "## Tarefas\n",
    "- Definir variables output folder\n",
    "- Criar pastas para cada fold\n"
   ]
  },
  {
   "cell_type": "markdown",
   "metadata": {},
   "source": [
    "## Imports"
   ]
  },
  {
   "cell_type": "code",
   "execution_count": 1,
   "metadata": {},
   "outputs": [],
   "source": [
    "import os\n",
    "import sys\n",
    "import pandas as pd\n",
    "import numpy as np\n",
    "import random\n",
    "from random import choice\n",
    "from string import ascii_uppercase\n",
    "from caserec.recommenders.rating_prediction.itemknn import ItemKNN\n",
    "from caserec.evaluation.rating_prediction import RatingPredictionEvaluation\n",
    "from caserec.utils.process_data import ReadFile\n",
    "from sklearn.model_selection import train_test_split\n",
    "import utils"
   ]
  },
  {
   "cell_type": "markdown",
   "metadata": {},
   "source": [
    "## Parameters"
   ]
  },
  {
   "cell_type": "code",
   "execution_count": 2,
   "metadata": {
    "tags": [
     "parameters"
    ]
   },
   "outputs": [],
   "source": [
    "degree_user_thr = .1\n",
    "degree_item_thr = .1\n",
    "strategy = 'upper_degree_centrality'\n",
    "k_neighbors = 30\n",
    "rank_length = 10\n",
    "n_fold = 2"
   ]
  },
  {
   "cell_type": "code",
   "execution_count": 3,
   "metadata": {},
   "outputs": [
    {
     "data": {
      "text/plain": [
       "'4ce39'"
      ]
     },
     "execution_count": 3,
     "metadata": {},
     "output_type": "execute_result"
    }
   ],
   "source": [
    "config_file = './config_file.json'\n",
    "params = Params(config_)\n",
    "hash = utils.create_hash(config_file)\n",
    "hash"
   ]
  },
  {
   "cell_type": "code",
   "execution_count": 4,
   "metadata": {},
   "outputs": [
    {
     "data": {
      "text/plain": [
       "0"
      ]
     },
     "execution_count": 4,
     "metadata": {},
     "output_type": "execute_result"
    }
   ],
   "source": [
    "data_path = './Variables'\n",
    "experiment_output_folder = os.path.join('.', 'Experiments', hash, 'fold_'+str(n_fold))\n",
    "utils.create_folder(experiment_output_folder)"
   ]
  },
  {
   "cell_type": "code",
   "execution_count": 5,
   "metadata": {},
   "outputs": [
    {
     "data": {
      "text/html": [
       "<div>\n",
       "<style scoped>\n",
       "    .dataframe tbody tr th:only-of-type {\n",
       "        vertical-align: middle;\n",
       "    }\n",
       "\n",
       "    .dataframe tbody tr th {\n",
       "        vertical-align: top;\n",
       "    }\n",
       "\n",
       "    .dataframe thead th {\n",
       "        text-align: right;\n",
       "    }\n",
       "</style>\n",
       "<table border=\"1\" class=\"dataframe\">\n",
       "  <thead>\n",
       "    <tr style=\"text-align: right;\">\n",
       "      <th></th>\n",
       "      <th>from</th>\n",
       "      <th>to</th>\n",
       "      <th>rating</th>\n",
       "      <th>degree_user</th>\n",
       "      <th>degree_centrality_user</th>\n",
       "      <th>degree_item</th>\n",
       "      <th>degree_centrality_item</th>\n",
       "    </tr>\n",
       "  </thead>\n",
       "  <tbody>\n",
       "    <tr>\n",
       "      <td>0</td>\n",
       "      <td>user_1</td>\n",
       "      <td>item_1193</td>\n",
       "      <td>5</td>\n",
       "      <td>53</td>\n",
       "      <td>0.005439</td>\n",
       "      <td>1725</td>\n",
       "      <td>0.177014</td>\n",
       "    </tr>\n",
       "    <tr>\n",
       "      <td>1</td>\n",
       "      <td>user_2</td>\n",
       "      <td>item_1193</td>\n",
       "      <td>5</td>\n",
       "      <td>129</td>\n",
       "      <td>0.013238</td>\n",
       "      <td>1725</td>\n",
       "      <td>0.177014</td>\n",
       "    </tr>\n",
       "    <tr>\n",
       "      <td>2</td>\n",
       "      <td>user_12</td>\n",
       "      <td>item_1193</td>\n",
       "      <td>4</td>\n",
       "      <td>23</td>\n",
       "      <td>0.002360</td>\n",
       "      <td>1725</td>\n",
       "      <td>0.177014</td>\n",
       "    </tr>\n",
       "    <tr>\n",
       "      <td>3</td>\n",
       "      <td>user_15</td>\n",
       "      <td>item_1193</td>\n",
       "      <td>4</td>\n",
       "      <td>201</td>\n",
       "      <td>0.020626</td>\n",
       "      <td>1725</td>\n",
       "      <td>0.177014</td>\n",
       "    </tr>\n",
       "    <tr>\n",
       "      <td>4</td>\n",
       "      <td>user_17</td>\n",
       "      <td>item_1193</td>\n",
       "      <td>5</td>\n",
       "      <td>211</td>\n",
       "      <td>0.021652</td>\n",
       "      <td>1725</td>\n",
       "      <td>0.177014</td>\n",
       "    </tr>\n",
       "  </tbody>\n",
       "</table>\n",
       "</div>"
      ],
      "text/plain": [
       "      from         to  rating  degree_user  degree_centrality_user  \\\n",
       "0   user_1  item_1193       5           53                0.005439   \n",
       "1   user_2  item_1193       5          129                0.013238   \n",
       "2  user_12  item_1193       4           23                0.002360   \n",
       "3  user_15  item_1193       4          201                0.020626   \n",
       "4  user_17  item_1193       5          211                0.021652   \n",
       "\n",
       "   degree_item  degree_centrality_item  \n",
       "0         1725                0.177014  \n",
       "1         1725                0.177014  \n",
       "2         1725                0.177014  \n",
       "3         1725                0.177014  \n",
       "4         1725                0.177014  "
      ]
     },
     "execution_count": 5,
     "metadata": {},
     "output_type": "execute_result"
    }
   ],
   "source": [
    "df_degrees = pd.read_csv(os.path.join(data_path, 'df_degrees.csv'), sep=';')\n",
    "df_degrees.head()"
   ]
  },
  {
   "cell_type": "markdown",
   "metadata": {},
   "source": [
    "## Setting Train/Test sets"
   ]
  },
  {
   "cell_type": "code",
   "execution_count": 6,
   "metadata": {},
   "outputs": [
    {
     "data": {
      "text/html": [
       "<div>\n",
       "<style scoped>\n",
       "    .dataframe tbody tr th:only-of-type {\n",
       "        vertical-align: middle;\n",
       "    }\n",
       "\n",
       "    .dataframe tbody tr th {\n",
       "        vertical-align: top;\n",
       "    }\n",
       "\n",
       "    .dataframe thead th {\n",
       "        text-align: right;\n",
       "    }\n",
       "</style>\n",
       "<table border=\"1\" class=\"dataframe\">\n",
       "  <thead>\n",
       "    <tr style=\"text-align: right;\">\n",
       "      <th></th>\n",
       "      <th>user</th>\n",
       "      <th>item</th>\n",
       "      <th>feedback_value</th>\n",
       "    </tr>\n",
       "  </thead>\n",
       "  <tbody>\n",
       "    <tr>\n",
       "      <td>117</td>\n",
       "      <td>user_424</td>\n",
       "      <td>item_1193</td>\n",
       "      <td>5</td>\n",
       "    </tr>\n",
       "    <tr>\n",
       "      <td>152</td>\n",
       "      <td>user_524</td>\n",
       "      <td>item_1193</td>\n",
       "      <td>5</td>\n",
       "    </tr>\n",
       "    <tr>\n",
       "      <td>160</td>\n",
       "      <td>user_549</td>\n",
       "      <td>item_1193</td>\n",
       "      <td>5</td>\n",
       "    </tr>\n",
       "    <tr>\n",
       "      <td>213</td>\n",
       "      <td>user_752</td>\n",
       "      <td>item_1193</td>\n",
       "      <td>5</td>\n",
       "    </tr>\n",
       "    <tr>\n",
       "      <td>252</td>\n",
       "      <td>user_889</td>\n",
       "      <td>item_1193</td>\n",
       "      <td>1</td>\n",
       "    </tr>\n",
       "  </tbody>\n",
       "</table>\n",
       "</div>"
      ],
      "text/plain": [
       "         user       item  feedback_value\n",
       "117  user_424  item_1193               5\n",
       "152  user_524  item_1193               5\n",
       "160  user_549  item_1193               5\n",
       "213  user_752  item_1193               5\n",
       "252  user_889  item_1193               1"
      ]
     },
     "execution_count": 6,
     "metadata": {},
     "output_type": "execute_result"
    }
   ],
   "source": [
    "df_filtered = utils.filter_dataset(df_degrees, degree_user=degree_user_thr, degree_item=degree_item_thr, strategy=strategy)\n",
    "df_filtered = df_filtered[['from', 'to', 'rating']]\n",
    "df_filtered.columns = ['user', 'item', 'feedback_value']\n",
    "df_filtered.head()"
   ]
  },
  {
   "cell_type": "code",
   "execution_count": 7,
   "metadata": {},
   "outputs": [
    {
     "name": "stdout",
     "output_type": "stream",
     "text": [
      "Train size: 5924 \n",
      "Test size: 2540\n"
     ]
    }
   ],
   "source": [
    "df_train, df_test = train_test_split(df_filtered, test_size=0.3, random_state=n_fold)\n",
    "print (\"Train size: {} \\nTest size: {}\".format(df_train.shape[0], df_test.shape[0]))"
   ]
  },
  {
   "cell_type": "markdown",
   "metadata": {},
   "source": [
    "## Training Model"
   ]
  },
  {
   "cell_type": "code",
   "execution_count": 8,
   "metadata": {},
   "outputs": [],
   "source": [
    "predictions_output_filepath = './predictions_output_' + ''.join(choice(ascii_uppercase) for i in range(12)) + '.dat'\n",
    "model = ItemKNN(train_file=df_train, test_file=df_test, k_neighbors=k_neighbors, output_file=predictions_output_filepath)"
   ]
  },
  {
   "cell_type": "code",
   "execution_count": 9,
   "metadata": {},
   "outputs": [
    {
     "name": "stdout",
     "output_type": "stream",
     "text": [
      "[Case Recommender: Rating Prediction > ItemKNN Algorithm]\n",
      "\n",
      "train data:: 44 users and 222 items (5924 interactions) | sparsity:: 39.35%\n",
      "test data:: 44 users and 222 items (2540 interactions) | sparsity:: 74.00%\n",
      "\n",
      "training_time:: 0.072192 sec\n",
      "prediction_time:: 0.292727 sec\n",
      "Eval:: MAE: 0.701527 RMSE: 0.915924 \n",
      "Wall time: 958 ms\n"
     ]
    }
   ],
   "source": [
    "%%time\n",
    "model.compute(verbose=True)"
   ]
  },
  {
   "cell_type": "markdown",
   "metadata": {},
   "source": [
    "## Evaluating Model"
   ]
  },
  {
   "cell_type": "code",
   "execution_count": 10,
   "metadata": {},
   "outputs": [],
   "source": [
    "# Creating evaluator with item-recommendation parameters\n",
    "evaluator = RatingPredictionEvaluation(sep = '\\t', \n",
    "                                       n_rank = np.arange(1,rank_length+1, 1), \n",
    "                                       as_rank = True,\n",
    "                                       metrics = ['PREC', 'RECALL'])"
   ]
  },
  {
   "cell_type": "code",
   "execution_count": 11,
   "metadata": {},
   "outputs": [
    {
     "name": "stdout",
     "output_type": "stream",
     "text": [
      "Eval:: PREC@1: 0.909091 PREC@2: 0.852273 PREC@3: 0.848485 PREC@4: 0.840909 PREC@5: 0.836364 PREC@6: 0.829545 PREC@7: 0.821429 PREC@8: 0.821023 PREC@9: 0.818182 PREC@10: 0.8 RECALL@1: 0.025572 RECALL@2: 0.049078 RECALL@3: 0.073104 RECALL@4: 0.095036 RECALL@5: 0.119335 RECALL@6: 0.139213 RECALL@7: 0.159229 RECALL@8: 0.182072 RECALL@9: 0.202203 RECALL@10: 0.217223 \n"
     ]
    }
   ],
   "source": [
    "reader = ReadFile(input_file=predictions_output_filepath)\n",
    "predictions = reader.read()\n",
    "eval_results = evaluator.evaluate(predictions['feedback'], model.test_set)   \n",
    "for evaluation in model.evaluation_results.keys():\n",
    "    eval_results[evaluation] = model.evaluation_results[evaluation]\n",
    "os.remove(predictions_output_filepath)"
   ]
  },
  {
   "cell_type": "code",
   "execution_count": 12,
   "metadata": {},
   "outputs": [
    {
     "data": {
      "text/plain": [
       "{'MAE': 0.701527,\n",
       " 'MAP': 0.877576,\n",
       " 'MAP@1': 0.909091,\n",
       " 'MAP@10': 0.877576,\n",
       " 'MAP@2': 0.943182,\n",
       " 'MAP@3': 0.931818,\n",
       " 'MAP@4': 0.921717,\n",
       " 'MAP@5': 0.909091,\n",
       " 'MAP@6': 0.898939,\n",
       " 'MAP@7': 0.892026,\n",
       " 'MAP@8': 0.8832,\n",
       " 'MAP@9': 0.878838,\n",
       " 'MRR@1': 0.909091,\n",
       " 'MRR@10': 0.950758,\n",
       " 'MRR@2': 0.943182,\n",
       " 'MRR@3': 0.950758,\n",
       " 'MRR@4': 0.950758,\n",
       " 'MRR@5': 0.950758,\n",
       " 'MRR@6': 0.950758,\n",
       " 'MRR@7': 0.950758,\n",
       " 'MRR@8': 0.950758,\n",
       " 'MRR@9': 0.950758,\n",
       " 'NDCG@1': 0.909091,\n",
       " 'NDCG@10': 0.923859,\n",
       " 'NDCG@2': 0.977273,\n",
       " 'NDCG@3': 0.95806,\n",
       " 'NDCG@4': 0.946621,\n",
       " 'NDCG@5': 0.93169,\n",
       " 'NDCG@6': 0.928521,\n",
       " 'NDCG@7': 0.926653,\n",
       " 'NDCG@8': 0.924024,\n",
       " 'NDCG@9': 0.923451,\n",
       " 'PREC@1': 0.909091,\n",
       " 'PREC@10': 0.8,\n",
       " 'PREC@2': 0.852273,\n",
       " 'PREC@3': 0.848485,\n",
       " 'PREC@4': 0.840909,\n",
       " 'PREC@5': 0.836364,\n",
       " 'PREC@6': 0.829545,\n",
       " 'PREC@7': 0.821429,\n",
       " 'PREC@8': 0.821023,\n",
       " 'PREC@9': 0.818182,\n",
       " 'RECALL@1': 0.025572,\n",
       " 'RECALL@10': 0.217223,\n",
       " 'RECALL@2': 0.049078,\n",
       " 'RECALL@3': 0.073104,\n",
       " 'RECALL@4': 0.095036,\n",
       " 'RECALL@5': 0.119335,\n",
       " 'RECALL@6': 0.139213,\n",
       " 'RECALL@7': 0.159229,\n",
       " 'RECALL@8': 0.182072,\n",
       " 'RECALL@9': 0.202203,\n",
       " 'RMSE': 0.915924}"
      ]
     },
     "execution_count": 12,
     "metadata": {},
     "output_type": "execute_result"
    }
   ],
   "source": [
    "eval_results"
   ]
  }
 ],
 "metadata": {
  "kernelspec": {
   "display_name": "Python 3",
   "language": "python",
   "name": "python3"
  },
  "language_info": {
   "codemirror_mode": {
    "name": "ipython",
    "version": 3
   },
   "file_extension": ".py",
   "mimetype": "text/x-python",
   "name": "python",
   "nbconvert_exporter": "python",
   "pygments_lexer": "ipython3",
   "version": "3.6.4"
  }
 },
 "nbformat": 4,
 "nbformat_minor": 2
}
