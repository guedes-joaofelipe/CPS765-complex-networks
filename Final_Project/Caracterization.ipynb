{
 "cells": [
  {
   "cell_type": "markdown",
   "metadata": {},
   "source": [
    "# Caracterization\n",
    "\n",
    "This notebook contains analysis on the graph of Movie Lens 1M dataset. We consider this dataset to be a directed bipartite graph where nodes are users and items, with edges going from users to items and the edge-weights being the users' ratings. "
   ]
  },
  {
   "cell_type": "code",
   "execution_count": 1,
   "metadata": {},
   "outputs": [],
   "source": [
    "import os, sys\n",
    "import networkx as nx\n",
    "from powerlaw import ccdf\n",
    "import matplotlib.pyplot as plt\n",
    "import pandas as pd \n",
    "import numpy as np\n",
    "import time\n",
    "import utils"
   ]
  },
  {
   "cell_type": "code",
   "execution_count": 2,
   "metadata": {},
   "outputs": [],
   "source": [
    "config_file = \"./config_file.json\"\n",
    "params = utils.Params(config_file)\n",
    "data_folder = os.path.join('..', 'Data', params.dataset)\n",
    "images_folder = os.path.join('.', 'Images')\n",
    "variables_folder = os.path.join('.', 'Variables')"
   ]
  },
  {
   "cell_type": "markdown",
   "metadata": {},
   "source": [
    "## Loading the Dataset"
   ]
  },
  {
   "cell_type": "code",
   "execution_count": 3,
   "metadata": {},
   "outputs": [
    {
     "data": {
      "text/html": [
       "<div>\n",
       "<style scoped>\n",
       "    .dataframe tbody tr th:only-of-type {\n",
       "        vertical-align: middle;\n",
       "    }\n",
       "\n",
       "    .dataframe tbody tr th {\n",
       "        vertical-align: top;\n",
       "    }\n",
       "\n",
       "    .dataframe thead th {\n",
       "        text-align: right;\n",
       "    }\n",
       "</style>\n",
       "<table border=\"1\" class=\"dataframe\">\n",
       "  <thead>\n",
       "    <tr style=\"text-align: right;\">\n",
       "      <th></th>\n",
       "      <th>from</th>\n",
       "      <th>to</th>\n",
       "      <th>rating</th>\n",
       "      <th>timestamp</th>\n",
       "    </tr>\n",
       "  </thead>\n",
       "  <tbody>\n",
       "    <tr>\n",
       "      <td>99995</td>\n",
       "      <td>user_880</td>\n",
       "      <td>item_476</td>\n",
       "      <td>3</td>\n",
       "      <td>880175444</td>\n",
       "    </tr>\n",
       "    <tr>\n",
       "      <td>99996</td>\n",
       "      <td>user_716</td>\n",
       "      <td>item_204</td>\n",
       "      <td>5</td>\n",
       "      <td>879795543</td>\n",
       "    </tr>\n",
       "    <tr>\n",
       "      <td>99997</td>\n",
       "      <td>user_276</td>\n",
       "      <td>item_1090</td>\n",
       "      <td>1</td>\n",
       "      <td>874795795</td>\n",
       "    </tr>\n",
       "    <tr>\n",
       "      <td>99998</td>\n",
       "      <td>user_13</td>\n",
       "      <td>item_225</td>\n",
       "      <td>2</td>\n",
       "      <td>882399156</td>\n",
       "    </tr>\n",
       "    <tr>\n",
       "      <td>99999</td>\n",
       "      <td>user_12</td>\n",
       "      <td>item_203</td>\n",
       "      <td>3</td>\n",
       "      <td>879959583</td>\n",
       "    </tr>\n",
       "  </tbody>\n",
       "</table>\n",
       "</div>"
      ],
      "text/plain": [
       "           from         to  rating  timestamp\n",
       "99995  user_880   item_476       3  880175444\n",
       "99996  user_716   item_204       5  879795543\n",
       "99997  user_276  item_1090       1  874795795\n",
       "99998   user_13   item_225       2  882399156\n",
       "99999   user_12   item_203       3  879959583"
      ]
     },
     "execution_count": 3,
     "metadata": {},
     "output_type": "execute_result"
    }
   ],
   "source": [
    "dataset_tag, dataset_file = params.dataset, os.path.join(data_folder, 'ratings.dat')\n",
    "df = pd.read_csv(dataset_file, header=None, sep=r'::', engine=\"python\")\n",
    "df.columns = [\"from\", \"to\", \"rating\", \"timestamp\"]\n",
    "df['from'] = df['from'].apply(lambda x: 'user_' + str(x))\n",
    "df['to'] = df['to'].apply(lambda x: 'item_' + str(x))\n",
    "# My job starts here ! ;D\n",
    "# df.drop([\"timestamp\"], axis=1, inplace=True)\n",
    "df.to_csv(os.path.join(variables_folder, dataset_tag + \"_edgelist.txt\"), sep='\\t', index=False, header=None)\n",
    "df.tail()"
   ]
  },
  {
   "cell_type": "markdown",
   "metadata": {},
   "source": [
    "## Processing Time"
   ]
  },
  {
   "cell_type": "code",
   "execution_count": 4,
   "metadata": {},
   "outputs": [
    {
     "name": "stdout",
     "output_type": "stream",
     "text": [
      "Max time:  04/22/98 20:10 and Min time:  09/20/97 00:05\n"
     ]
    }
   ],
   "source": [
    "time_sorted = df.sort_values(by=['timestamp'], ascending=False)\n",
    "print('Max time: ', \n",
    "          time.strftime(\"%D %H:%M\", time.localtime(int(time_sorted['timestamp'].max()))), \n",
    "      'and Min time: ', \n",
    "          time.strftime(\"%D %H:%M\", time.localtime(int(time_sorted['timestamp'].min()))) )"
   ]
  },
  {
   "cell_type": "code",
   "execution_count": null,
   "metadata": {},
   "outputs": [],
   "source": [
    "time_sorted['datetime'] = pd.to_datetime(time_sorted['timestamp'].astype(int), unit='s')\n",
    "time_sorted_index = time_sorted.set_index(pd.DatetimeIndex(time_sorted['datetime']))"
   ]
  },
  {
   "cell_type": "code",
   "execution_count": null,
   "metadata": {},
   "outputs": [],
   "source": [
    "time_sorted_index[(time_sorted_index['datetime'] > '2003-02-27')].head()"
   ]
  },
  {
   "cell_type": "markdown",
   "metadata": {},
   "source": [
    "### Splitting by Time"
   ]
  },
  {
   "cell_type": "code",
   "execution_count": null,
   "metadata": {},
   "outputs": [],
   "source": [
    "# Define a type : year ; month ; week ; day ( would be nice to only see weekends jão ? ) \n",
    "# And split your dataset evenly by that amount\n",
    "## Fun fact: There are somedays that have WAY more data than some. this WILL impact the prediction. Maybe normalize the rating. for example.\n",
    "def dataset_time_splitter(param_timedf, splitting_strategy = None):\n",
    "    if param_timedf is None or splitting_strategy is None:\n",
    "        return\n",
    "    \n",
    "    # Year 2003 is just 2 months so ignored it.\n",
    "    if splitting_strategy == \"year\":\n",
    "        df_time_return_1 = param_timedf[param_timedf.index.year.isin([2002,2003])]\n",
    "        df_time_return_2 = param_timedf[param_timedf.index.year.isin([2001])]\n",
    "        df_time_return_3 = param_timedf[param_timedf.index.year.isin([2000])]\n",
    "        return [df_time_return_1, df_time_return_2 , df_time_return_3]\n",
    "    if splitting_strategy == \"month\":\n",
    "        lista_dfs_months = []\n",
    "        for x in range(1, 13):\n",
    "            lista_dfs_months.append(param_timedf[param_timedf.index.month.isin([x])])\n",
    "        return lista_dfs_months\n",
    "    # around 50 weeks each year, total of 156\n",
    "    if splitting_strategy == \"week\":\n",
    "        lista_dfs_weeks  = []\n",
    "        for y in range (2000, 2003):\n",
    "            for x in range(1, (max(time_sorted_index.index.week)+1)):\n",
    "                lista_dfs_weeks.append(param_timedf[param_timedf.index.week.isin([x]) & param_timedf.index.year.isin([y])])\n",
    "        return lista_dfs_weeks\n",
    "    # around 365 weeks each year, total of 1096\n",
    "    if splitting_strategy == \"day\":\n",
    "        lista_dfs_days  = []\n",
    "        for y in range (2000, 2003):\n",
    "            for x in range(1, (max(time_sorted_index[time_sorted_index.index.year.isin([y])].index.dayofyear)+1)):\n",
    "                lista_dfs_days.append(param_timedf[param_timedf.index.dayofyear.isin([x]) & param_timedf.index.year.isin([y])])\n",
    "        return lista_dfs_days"
   ]
  },
  {
   "cell_type": "code",
   "execution_count": null,
   "metadata": {},
   "outputs": [],
   "source": [
    "lista = dataset_time_splitter(time_sorted_index,\"year\")"
   ]
  },
  {
   "cell_type": "code",
   "execution_count": null,
   "metadata": {},
   "outputs": [],
   "source": [
    "len(lista)"
   ]
  },
  {
   "cell_type": "markdown",
   "metadata": {},
   "source": [
    "## Creating Network"
   ]
  },
  {
   "cell_type": "code",
   "execution_count": null,
   "metadata": {},
   "outputs": [],
   "source": [
    "def build_list_of_networks(param_list):\n",
    "    graph_list = []\n",
    "    G = nx.DiGraph()\n",
    "    for df_graph in param_list:\n",
    "        for user_id in df_graph[\"from\"].unique():\n",
    "            G.add_node(user_id, node_type=\"user\")\n",
    "        for item_id in df_graph[\"to\"].unique():\n",
    "            G.add_node(item_id, node_type=\"item\")\n",
    "        G.add_weighted_edges_from(df_graph[[\"from\", \"to\", \"rating\"]].values)\n",
    "        graph_list.append(G)\n",
    "    return graph_list"
   ]
  },
  {
   "cell_type": "code",
   "execution_count": null,
   "metadata": {},
   "outputs": [],
   "source": [
    "graph_list = build_list_of_networks(lista)"
   ]
  },
  {
   "cell_type": "code",
   "execution_count": null,
   "metadata": {},
   "outputs": [],
   "source": [
    "def print_specs_for_graphs(param_list_graph):\n",
    "    for G in param_list_graph:\n",
    "        print(\"*****************************************\")\n",
    "        print (\"Number of edges: \", G.number_of_edges())\n",
    "        print (\"Number of nodes: \", G.number_of_nodes())\n",
    "#         for node_type in [\"user\", \"item\"]:\n",
    "#             n_type_nodes = G.subgraph([n for n,attrdict in G.node.items() if attrdict['node_type'] == node_type] ).number_of_nodes()\n",
    "#             print (\"Number of \" + node_type + \" nodes: \", n_type_nodes)\n",
    "        print (\"Is strongly connected: \", nx.is_strongly_connected(G))\n",
    "        print (\"Number of strongly connected components: \", nx.number_strongly_connected_components(G))\n",
    "        print(\"*****************************************\")"
   ]
  },
  {
   "cell_type": "code",
   "execution_count": null,
   "metadata": {
    "jupyter": {
     "outputs_hidden": true
    }
   },
   "outputs": [],
   "source": [
    "print_specs_for_graphs(graph_list)"
   ]
  },
  {
   "cell_type": "code",
   "execution_count": null,
   "metadata": {},
   "outputs": [],
   "source": [
    "## Proximos passos : Adicionar mais estatisticas e observar a variacao no ano."
   ]
  },
  {
   "cell_type": "markdown",
   "metadata": {},
   "source": [
    "## Getting Statistics\n",
    "### Degree"
   ]
  },
  {
   "cell_type": "code",
   "execution_count": 5,
   "metadata": {},
   "outputs": [],
   "source": [
    "G = nx.DiGraph()\n",
    "for user_id in df[\"from\"].unique():\n",
    "    G.add_node(user_id, node_type=\"user\")\n",
    "for item_id in df[\"to\"].unique():\n",
    "    G.add_node(item_id, node_type=\"item\")\n",
    "G.add_weighted_edges_from(df[[\"from\", \"to\", \"rating\"]].values)"
   ]
  },
  {
   "cell_type": "code",
   "execution_count": 6,
   "metadata": {},
   "outputs": [
    {
     "data": {
      "text/html": [
       "<div>\n",
       "<style scoped>\n",
       "    .dataframe tbody tr th:only-of-type {\n",
       "        vertical-align: middle;\n",
       "    }\n",
       "\n",
       "    .dataframe tbody tr th {\n",
       "        vertical-align: top;\n",
       "    }\n",
       "\n",
       "    .dataframe thead th {\n",
       "        text-align: right;\n",
       "    }\n",
       "</style>\n",
       "<table border=\"1\" class=\"dataframe\">\n",
       "  <thead>\n",
       "    <tr style=\"text-align: right;\">\n",
       "      <th></th>\n",
       "      <th>node</th>\n",
       "      <th>degree</th>\n",
       "      <th>degree_centrality</th>\n",
       "    </tr>\n",
       "  </thead>\n",
       "  <tbody>\n",
       "    <tr>\n",
       "      <td>2620</td>\n",
       "      <td>item_1674</td>\n",
       "      <td>1</td>\n",
       "      <td>0.000381</td>\n",
       "    </tr>\n",
       "    <tr>\n",
       "      <td>2621</td>\n",
       "      <td>item_1640</td>\n",
       "      <td>1</td>\n",
       "      <td>0.000381</td>\n",
       "    </tr>\n",
       "    <tr>\n",
       "      <td>2622</td>\n",
       "      <td>item_1637</td>\n",
       "      <td>1</td>\n",
       "      <td>0.000381</td>\n",
       "    </tr>\n",
       "    <tr>\n",
       "      <td>2623</td>\n",
       "      <td>item_1630</td>\n",
       "      <td>1</td>\n",
       "      <td>0.000381</td>\n",
       "    </tr>\n",
       "    <tr>\n",
       "      <td>2624</td>\n",
       "      <td>item_1641</td>\n",
       "      <td>1</td>\n",
       "      <td>0.000381</td>\n",
       "    </tr>\n",
       "  </tbody>\n",
       "</table>\n",
       "</div>"
      ],
      "text/plain": [
       "           node  degree  degree_centrality\n",
       "2620  item_1674       1           0.000381\n",
       "2621  item_1640       1           0.000381\n",
       "2622  item_1637       1           0.000381\n",
       "2623  item_1630       1           0.000381\n",
       "2624  item_1641       1           0.000381"
      ]
     },
     "execution_count": 6,
     "metadata": {},
     "output_type": "execute_result"
    }
   ],
   "source": [
    "df_stats = pd.DataFrame(nx.degree(G))\n",
    "df_stats.columns = ['node', 'degree']\n",
    "df_stats['degree_centrality'] = nx.degree_centrality(G).values()\n",
    "# dict_metrics[dataset_tag][\"degree\"] = np.array(df_stats[\"degree\"])\n",
    "df_stats.tail()"
   ]
  },
  {
   "cell_type": "code",
   "execution_count": 7,
   "metadata": {},
   "outputs": [
    {
     "data": {
      "image/png": "[encoded data removed]",
      "text/plain": [
       "<Figure size 576x576 with 1 Axes>"
      ]
     },
     "metadata": {
      "needs_background": "light"
     },
     "output_type": "display_data"
    }
   ],
   "source": [
    "def plot_ccdf(samples, name=''):\n",
    "    x, y = ccdf(samples)\n",
    "    fig, ax = plt.subplots(nrows=1, ncols=1, figsize=(8,8))\n",
    "    ax.set_title(\"Empirical \" + name + \" CCDF\")\n",
    "    ax.plot(x, y)\n",
    "    ax.set_xscale(\"log\"), ax.set_yscale(\"log\")\n",
    "    ax.set_xlabel(\"x\"), ax.set_ylabel(\"Fraction of Samples >= x\")\n",
    "    ax.grid(True)\n",
    "    return fig, ax \n",
    "\n",
    "fig, ax = plot_ccdf(df_stats[\"degree\"], \"degree\")\n",
    "fig.savefig(os.path.join('.', 'Images', 'empirical_degree_ccdf.jpg'), bbox_inches='tight')"
   ]
  },
  {
   "cell_type": "markdown",
   "metadata": {},
   "source": [
    "## Saving degree to trainable dataset"
   ]
  },
  {
   "cell_type": "code",
   "execution_count": 8,
   "metadata": {
    "scrolled": true
   },
   "outputs": [
    {
     "data": {
      "text/html": [
       "<div>\n",
       "<style scoped>\n",
       "    .dataframe tbody tr th:only-of-type {\n",
       "        vertical-align: middle;\n",
       "    }\n",
       "\n",
       "    .dataframe tbody tr th {\n",
       "        vertical-align: top;\n",
       "    }\n",
       "\n",
       "    .dataframe thead th {\n",
       "        text-align: right;\n",
       "    }\n",
       "</style>\n",
       "<table border=\"1\" class=\"dataframe\">\n",
       "  <thead>\n",
       "    <tr style=\"text-align: right;\">\n",
       "      <th></th>\n",
       "      <th>from</th>\n",
       "      <th>to</th>\n",
       "      <th>rating</th>\n",
       "      <th>timestamp</th>\n",
       "      <th>degree_user</th>\n",
       "      <th>degree_centrality_user</th>\n",
       "      <th>degree_item</th>\n",
       "      <th>degree_centrality_item</th>\n",
       "    </tr>\n",
       "  </thead>\n",
       "  <tbody>\n",
       "    <tr>\n",
       "      <td>0</td>\n",
       "      <td>user_196</td>\n",
       "      <td>item_242</td>\n",
       "      <td>3</td>\n",
       "      <td>881250949</td>\n",
       "      <td>39</td>\n",
       "      <td>0.014863</td>\n",
       "      <td>117</td>\n",
       "      <td>0.044588</td>\n",
       "    </tr>\n",
       "    <tr>\n",
       "      <td>1</td>\n",
       "      <td>user_305</td>\n",
       "      <td>item_242</td>\n",
       "      <td>5</td>\n",
       "      <td>886307828</td>\n",
       "      <td>222</td>\n",
       "      <td>0.084604</td>\n",
       "      <td>117</td>\n",
       "      <td>0.044588</td>\n",
       "    </tr>\n",
       "    <tr>\n",
       "      <td>2</td>\n",
       "      <td>user_6</td>\n",
       "      <td>item_242</td>\n",
       "      <td>4</td>\n",
       "      <td>883268170</td>\n",
       "      <td>211</td>\n",
       "      <td>0.080412</td>\n",
       "      <td>117</td>\n",
       "      <td>0.044588</td>\n",
       "    </tr>\n",
       "    <tr>\n",
       "      <td>3</td>\n",
       "      <td>user_234</td>\n",
       "      <td>item_242</td>\n",
       "      <td>4</td>\n",
       "      <td>891033261</td>\n",
       "      <td>480</td>\n",
       "      <td>0.182927</td>\n",
       "      <td>117</td>\n",
       "      <td>0.044588</td>\n",
       "    </tr>\n",
       "    <tr>\n",
       "      <td>4</td>\n",
       "      <td>user_63</td>\n",
       "      <td>item_242</td>\n",
       "      <td>3</td>\n",
       "      <td>875747190</td>\n",
       "      <td>93</td>\n",
       "      <td>0.035442</td>\n",
       "      <td>117</td>\n",
       "      <td>0.044588</td>\n",
       "    </tr>\n",
       "    <tr>\n",
       "      <td>...</td>\n",
       "      <td>...</td>\n",
       "      <td>...</td>\n",
       "      <td>...</td>\n",
       "      <td>...</td>\n",
       "      <td>...</td>\n",
       "      <td>...</td>\n",
       "      <td>...</td>\n",
       "      <td>...</td>\n",
       "    </tr>\n",
       "    <tr>\n",
       "      <td>99995</td>\n",
       "      <td>user_863</td>\n",
       "      <td>item_1679</td>\n",
       "      <td>3</td>\n",
       "      <td>889289491</td>\n",
       "      <td>107</td>\n",
       "      <td>0.040777</td>\n",
       "      <td>1</td>\n",
       "      <td>0.000381</td>\n",
       "    </tr>\n",
       "    <tr>\n",
       "      <td>99996</td>\n",
       "      <td>user_863</td>\n",
       "      <td>item_1678</td>\n",
       "      <td>1</td>\n",
       "      <td>889289570</td>\n",
       "      <td>107</td>\n",
       "      <td>0.040777</td>\n",
       "      <td>1</td>\n",
       "      <td>0.000381</td>\n",
       "    </tr>\n",
       "    <tr>\n",
       "      <td>99997</td>\n",
       "      <td>user_863</td>\n",
       "      <td>item_1680</td>\n",
       "      <td>2</td>\n",
       "      <td>889289570</td>\n",
       "      <td>107</td>\n",
       "      <td>0.040777</td>\n",
       "      <td>1</td>\n",
       "      <td>0.000381</td>\n",
       "    </tr>\n",
       "    <tr>\n",
       "      <td>99998</td>\n",
       "      <td>user_896</td>\n",
       "      <td>item_1681</td>\n",
       "      <td>3</td>\n",
       "      <td>887160722</td>\n",
       "      <td>362</td>\n",
       "      <td>0.137957</td>\n",
       "      <td>1</td>\n",
       "      <td>0.000381</td>\n",
       "    </tr>\n",
       "    <tr>\n",
       "      <td>99999</td>\n",
       "      <td>user_916</td>\n",
       "      <td>item_1682</td>\n",
       "      <td>3</td>\n",
       "      <td>880845755</td>\n",
       "      <td>317</td>\n",
       "      <td>0.120808</td>\n",
       "      <td>1</td>\n",
       "      <td>0.000381</td>\n",
       "    </tr>\n",
       "  </tbody>\n",
       "</table>\n",
       "<p>100000 rows × 8 columns</p>\n",
       "</div>"
      ],
      "text/plain": [
       "           from         to  rating  timestamp  degree_user  \\\n",
       "0      user_196   item_242       3  881250949           39   \n",
       "1      user_305   item_242       5  886307828          222   \n",
       "2        user_6   item_242       4  883268170          211   \n",
       "3      user_234   item_242       4  891033261          480   \n",
       "4       user_63   item_242       3  875747190           93   \n",
       "...         ...        ...     ...        ...          ...   \n",
       "99995  user_863  item_1679       3  889289491          107   \n",
       "99996  user_863  item_1678       1  889289570          107   \n",
       "99997  user_863  item_1680       2  889289570          107   \n",
       "99998  user_896  item_1681       3  887160722          362   \n",
       "99999  user_916  item_1682       3  880845755          317   \n",
       "\n",
       "       degree_centrality_user  degree_item  degree_centrality_item  \n",
       "0                    0.014863          117                0.044588  \n",
       "1                    0.084604          117                0.044588  \n",
       "2                    0.080412          117                0.044588  \n",
       "3                    0.182927          117                0.044588  \n",
       "4                    0.035442          117                0.044588  \n",
       "...                       ...          ...                     ...  \n",
       "99995                0.040777            1                0.000381  \n",
       "99996                0.040777            1                0.000381  \n",
       "99997                0.040777            1                0.000381  \n",
       "99998                0.137957            1                0.000381  \n",
       "99999                0.120808            1                0.000381  \n",
       "\n",
       "[100000 rows x 8 columns]"
      ]
     },
     "execution_count": 8,
     "metadata": {},
     "output_type": "execute_result"
    }
   ],
   "source": [
    "df_degrees = pd.merge(df, df_stats, how='inner', left_on='from', right_on='node').drop(['node'], axis=1)\n",
    "df_degrees = pd.merge(df_degrees, df_stats, how='inner', left_on='to', right_on='node', \n",
    "                   suffixes=['_user', '_item']).drop(['node'], axis=1)\n",
    "df_degrees"
   ]
  },
  {
   "cell_type": "code",
   "execution_count": null,
   "metadata": {},
   "outputs": [],
   "source": [
    "df_degrees.to_csv(os.path.join(variables_folder, 'df_degrees.csv'), sep=';', index=None)"
   ]
  },
  {
   "cell_type": "markdown",
   "metadata": {},
   "source": [
    "## Studying Threshold Variations\n",
    "\n",
    "How the number of users or items vary when we make degree centrality thresholds ?"
   ]
  },
  {
   "cell_type": "code",
   "execution_count": null,
   "metadata": {},
   "outputs": [],
   "source": [
    "# Sets an array with the applied thresholds to be made\n",
    "step_size = 30\n",
    "degree_thr = np.array([float(x)/100.0 for x in np.logspace(-2, 2, step_size, dtype=float)])\n",
    "# degree_thr = [1e-2, 2e-2, 4e-2, 6e-2, 8e-2, 1e-1, 2e-1, 3e-1]\n",
    "degree_thr"
   ]
  },
  {
   "cell_type": "markdown",
   "metadata": {},
   "source": [
    "### Getting Threshold Variations\n",
    "\n",
    "We have 2 strategies here: \n",
    "\n",
    "- `upper`: only users/items with **higher** degree centrality than the threshold are allowed in the results dataset\n",
    "- `lower`: only users/items with **lower** degree centrality than the threshold are allowed in the results dataset \n",
    "\n",
    "#### Strategy: Upper/Lower Degree Centrality"
   ]
  },
  {
   "cell_type": "code",
   "execution_count": null,
   "metadata": {},
   "outputs": [],
   "source": [
    "%%time\n",
    "n_users_thr, n_items_thr = [], []\n",
    "user_degree_thr, item_degree_thr = [], []\n",
    "n_users_max = len(df_degrees['from'].unique())\n",
    "n_items_max = len(df_degrees['to'].unique())\n",
    "strategy = 'random' # upper, lower\n",
    "for threshold in degree_thr:    \n",
    "    if strategy == 'upper_degree_centrality':\n",
    "        df_temp = df_degrees[df_degrees['degree_centrality_user'] > threshold]\n",
    "    elif strategy == 'lower_degree_centrality':\n",
    "        df_temp = df_degrees[df_degrees['degree_centrality_user'] < threshold]        \n",
    "    n_users = len(df_temp['from'].unique())    \n",
    "    n_users_thr.append(n_users)\n",
    "    user_degree_thr.append(threshold)\n",
    "    if n_users == 0 and strategy == 'upper_degree_centrality':\n",
    "        break\n",
    "    if n_users == n_users_max and strategy == 'lower_degree_centrality':\n",
    "        break  \n",
    "        \n",
    "for threshold in degree_thr:    \n",
    "    if strategy == 'upper_degree_centrality':\n",
    "        df_temp = df_degrees[df_degrees['degree_centrality_item'] > threshold]\n",
    "    else:\n",
    "        df_temp = df_degrees[df_degrees['degree_centrality_item'] < threshold]        \n",
    "    n_items = len(df_temp['to'].unique())    \n",
    "    n_items_thr.append(n_items)\n",
    "    item_degree_thr.append(threshold)\n",
    "    if n_items == 0 and strategy == 'upper_degree_centrality':\n",
    "        break\n",
    "    if n_items == n_items_max and strategy == 'lower_degree_centrality':\n",
    "        break  \n",
    "        \n",
    "df_temp.head()"
   ]
  },
  {
   "cell_type": "code",
   "execution_count": null,
   "metadata": {},
   "outputs": [],
   "source": [
    "arr = []\n",
    "for u, u_thr in enumerate(user_degree_thr):\n",
    "    for i, i_thr in enumerate(item_degree_thr):\n",
    "        arr.append([u_thr, n_users_thr[u], i_thr, n_items_thr[i]])\n",
    "df_exp = pd.DataFrame(arr, columns=['degree_centrality_users', 'n_users', 'degree_centrality_items', 'n_items'])\n",
    "cond1 = df_exp['n_users'] > 5\n",
    "cond2 = df_exp['n_items'] > 5\n",
    "df_exp = df_exp[cond1 & cond2]\n",
    "# df_exp.to_csv(os.path.join(variables_folder, 'df_exp.csv'), sep=';', index=None)\n",
    "df_exp"
   ]
  },
  {
   "cell_type": "code",
   "execution_count": null,
   "metadata": {},
   "outputs": [],
   "source": [
    "fig, axes = plt.subplots(nrows=1, ncols=2, figsize=(16, 10))\n",
    "\n",
    "df_plot = pd.DataFrame(df_exp.groupby(['degree_centrality_users'])['n_users'].max()).reset_index(drop=False)\n",
    "axes[0].axhline(df_plot['n_users'].max(), color='r')\n",
    "axes[0].plot(df_plot['degree_centrality_users'], df_plot['n_users'])\n",
    "axes[0].set_title('Number of Users x Degree Centrality Threshold')\n",
    "axes[0].set_xscale('log')\n",
    "\n",
    "df_plot = pd.DataFrame(df_exp.groupby(['degree_centrality_items'])['n_items'].max()).reset_index(drop=False)\n",
    "axes[1].axhline(df_plot['n_items'].max(), color='r')\n",
    "axes[1].plot(df_plot['degree_centrality_items'], df_plot['n_items'])\n",
    "axes[1].set_title('Number of Items x Degree Centrality Threshold')\n",
    "axes[1].set_xscale('log')\n",
    "\n",
    "[ax.grid(True) for ax in axes]\n",
    "[ax.set_xlabel('Degree Centrality Threshold') for ax in axes]\n",
    "[ax.set_ylabel('Quantity') for ax in axes]\n",
    "fig.savefig(os.path.join('.', 'Images', strategy + '_quantity_vs_degree_centrality_thr.jpg'), bbox_inches='tight')"
   ]
  },
  {
   "cell_type": "markdown",
   "metadata": {},
   "source": [
    "#### Strategy: Random"
   ]
  },
  {
   "cell_type": "code",
   "execution_count": 9,
   "metadata": {},
   "outputs": [
    {
     "data": {
      "text/plain": [
       "array([0.1, 0.2, 0.3, 0.4, 0.5, 0.6, 0.7, 0.8, 0.9, 1. ])"
      ]
     },
     "execution_count": 9,
     "metadata": {},
     "output_type": "execute_result"
    }
   ],
   "source": [
    "degree_thr = np.array([float(x)/100 for x in np.arange(10, 101, 10)])\n",
    "degree_thr"
   ]
  },
  {
   "cell_type": "code",
   "execution_count": 10,
   "metadata": {},
   "outputs": [
    {
     "data": {
      "text/plain": [
       "(9203, 8)"
      ]
     },
     "execution_count": 10,
     "metadata": {},
     "output_type": "execute_result"
    }
   ],
   "source": [
    "import random\n",
    "degree_user, degree_item = .3, .3\n",
    "degree_user = 1 if degree_user == None else degree_user\n",
    "degree_item = 1 if degree_item == None else degree_item\n",
    "unique_users, unique_items = df_degrees['from'].unique(), df_degrees['to'].unique()\n",
    "chosen_users = random.sample(list(unique_users), int(degree_user*unique_users.shape[0]))\n",
    "chosen_items = random.sample(list(unique_items), int(degree_item*unique_items.shape[0]))\n",
    "df_result = df_degrees[df_degrees['from'].isin(chosen_users)]\n",
    "df_result = df_result[df_result['to'].isin(chosen_items)].reset_index(drop=True)\n",
    "print ()\n",
    "df_result.shape"
   ]
  },
  {
   "cell_type": "code",
   "execution_count": 14,
   "metadata": {},
   "outputs": [
    {
     "data": {
      "text/plain": [
       "([94, 188, 282, 377, 471, 565, 660, 754, 848, 943],\n",
       " [168, 336, 504, 672, 841, 1009, 1177, 1345, 1513, 1682])"
      ]
     },
     "execution_count": 14,
     "metadata": {},
     "output_type": "execute_result"
    }
   ],
   "source": [
    "arr_n_users, arr_n_items = [], []\n",
    "for degree_user in degree_thr:    \n",
    "    df_temp = utils.filter_dataset(df_degrees, degree_user=degree_user, degree_item=1, strategy='random')\n",
    "    n_users = df_temp['from'].unique().shape[0]\n",
    "    arr_n_users.append(n_users)\n",
    "\n",
    "for degree_item in degree_thr:    \n",
    "    df_temp = utils.filter_dataset(df_degrees, degree_user=1, degree_item=degree_item, strategy='random')\n",
    "    n_items = df_temp['to'].unique().shape[0]\n",
    "    arr_n_items.append(n_items)\n",
    "\n",
    "arr_n_users, arr_n_items"
   ]
  }
 ],
 "metadata": {
  "kernelspec": {
   "display_name": "Python 3",
   "language": "python",
   "name": "python3"
  },
  "language_info": {
   "codemirror_mode": {
    "name": "ipython",
    "version": 3
   },
   "file_extension": ".py",
   "mimetype": "text/x-python",
   "name": "python",
   "nbconvert_exporter": "python",
   "pygments_lexer": "ipython3",
   "version": "3.6.4"
  }
 },
 "nbformat": 4,
 "nbformat_minor": 4
}
