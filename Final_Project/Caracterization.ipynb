{
 "cells": [
  {
   "cell_type": "markdown",
   "metadata": {},
   "source": [
    "# Caracterization\n",
    "\n",
    "This notebook contains analysis on the graph of Movie Lens 1M dataset. We consider this dataset to be a directed bipartite graph where nodes are users and items, with edges going from users to items and the edge-weights being the users' ratings. "
   ]
  },
  {
   "cell_type": "code",
   "execution_count": 3,
   "metadata": {},
   "outputs": [],
   "source": [
    "import os, sys\n",
    "import networkx as nx\n",
    "from powerlaw import ccdf\n",
    "import matplotlib.pyplot as plt\n",
    "import pandas as pd \n",
    "import numpy as np"
   ]
  },
  {
   "cell_type": "code",
   "execution_count": 4,
   "metadata": {},
   "outputs": [],
   "source": [
    "data_folder = os.path.join('..', 'Data', 'ML1M')\n",
    "images_folder = os.path.join('.', 'Images')\n",
    "variables_folder = os.path.join('.', 'Variables')"
   ]
  },
  {
   "cell_type": "markdown",
   "metadata": {},
   "source": [
    "## Loading the Dataset"
   ]
  },
  {
   "cell_type": "code",
   "execution_count": 6,
   "metadata": {},
   "outputs": [
    {
     "data": {
      "text/html": [
       "<div>\n",
       "<style scoped>\n",
       "    .dataframe tbody tr th:only-of-type {\n",
       "        vertical-align: middle;\n",
       "    }\n",
       "\n",
       "    .dataframe tbody tr th {\n",
       "        vertical-align: top;\n",
       "    }\n",
       "\n",
       "    .dataframe thead th {\n",
       "        text-align: right;\n",
       "    }\n",
       "</style>\n",
       "<table border=\"1\" class=\"dataframe\">\n",
       "  <thead>\n",
       "    <tr style=\"text-align: right;\">\n",
       "      <th></th>\n",
       "      <th>from</th>\n",
       "      <th>to</th>\n",
       "      <th>rating</th>\n",
       "      <th>timestamp</th>\n",
       "    </tr>\n",
       "  </thead>\n",
       "  <tbody>\n",
       "    <tr>\n",
       "      <th>0</th>\n",
       "      <td>user_1</td>\n",
       "      <td>item_1193</td>\n",
       "      <td>5</td>\n",
       "      <td>978300760</td>\n",
       "    </tr>\n",
       "    <tr>\n",
       "      <th>1</th>\n",
       "      <td>user_1</td>\n",
       "      <td>item_661</td>\n",
       "      <td>3</td>\n",
       "      <td>978302109</td>\n",
       "    </tr>\n",
       "    <tr>\n",
       "      <th>2</th>\n",
       "      <td>user_1</td>\n",
       "      <td>item_914</td>\n",
       "      <td>3</td>\n",
       "      <td>978301968</td>\n",
       "    </tr>\n",
       "    <tr>\n",
       "      <th>3</th>\n",
       "      <td>user_1</td>\n",
       "      <td>item_3408</td>\n",
       "      <td>4</td>\n",
       "      <td>978300275</td>\n",
       "    </tr>\n",
       "    <tr>\n",
       "      <th>4</th>\n",
       "      <td>user_1</td>\n",
       "      <td>item_2355</td>\n",
       "      <td>5</td>\n",
       "      <td>978824291</td>\n",
       "    </tr>\n",
       "  </tbody>\n",
       "</table>\n",
       "</div>"
      ],
      "text/plain": [
       "     from         to  rating  timestamp\n",
       "0  user_1  item_1193       5  978300760\n",
       "1  user_1   item_661       3  978302109\n",
       "2  user_1   item_914       3  978301968\n",
       "3  user_1  item_3408       4  978300275\n",
       "4  user_1  item_2355       5  978824291"
      ]
     },
     "execution_count": 6,
     "metadata": {},
     "output_type": "execute_result"
    }
   ],
   "source": [
    "dataset_tag, dataset_file = \"ML1M\", os.path.join(data_folder, 'ratings.dat')\n",
    "# dict_metrics[dataset_tag] = dict()\n",
    "# dict_plots[dataset_tag] = dict()\n",
    "df = pd.read_csv(dataset_file, header=None, sep=r'::', engine=\"python\")\n",
    "df.columns = [\"from\", \"to\", \"rating\", \"timestamp\"]\n",
    "df['from'] = df['from'].apply(lambda x: 'user_' + str(x))\n",
    "df['to'] = df['to'].apply(lambda x: 'item_' + str(x))\n",
    "# My job starts here ! ;D\n",
    "# df.drop([\"timestamp\"], axis=1, inplace=True)\n",
    "df.to_csv(os.path.join(variables_folder, dataset_tag + \"_edgelist.txt\"), sep='\\t', index=False, header=None)\n",
    "df.head()"
   ]
  },
  {
   "cell_type": "markdown",
   "metadata": {},
   "source": [
    "## Processing Time"
   ]
  },
  {
   "cell_type": "code",
   "execution_count": 31,
   "metadata": {},
   "outputs": [],
   "source": [
    "import time\n",
    "time_sorted = df.sort_values(by=['timestamp'], ascending=False)"
   ]
  },
  {
   "cell_type": "code",
   "execution_count": 33,
   "metadata": {},
   "outputs": [
    {
     "name": "stdout",
     "output_type": "stream",
     "text": [
      "Max time:  02/28/03 14:49 and Min time:  04/25/00 20:05\n"
     ]
    }
   ],
   "source": [
    "print('Max time: ', \n",
    "          time.strftime(\"%D %H:%M\", time.localtime(int(time_sorted['timestamp'].max()))), \n",
    "      'and Min time: ', \n",
    "          time.strftime(\"%D %H:%M\", time.localtime(int(time_sorted['timestamp'].min()))) )"
   ]
  },
  {
   "cell_type": "code",
   "execution_count": 93,
   "metadata": {},
   "outputs": [],
   "source": [
    "time_sorted['datetime'] = pd.to_datetime(time_sorted['timestamp'].astype(int), unit='s')\n",
    "time_sorted_index = time_sorted.set_index(pd.DatetimeIndex(time_sorted['datetime']))"
   ]
  },
  {
   "cell_type": "code",
   "execution_count": 94,
   "metadata": {},
   "outputs": [
    {
     "data": {
      "text/html": [
       "<div>\n",
       "<style scoped>\n",
       "    .dataframe tbody tr th:only-of-type {\n",
       "        vertical-align: middle;\n",
       "    }\n",
       "\n",
       "    .dataframe tbody tr th {\n",
       "        vertical-align: top;\n",
       "    }\n",
       "\n",
       "    .dataframe thead th {\n",
       "        text-align: right;\n",
       "    }\n",
       "</style>\n",
       "<table border=\"1\" class=\"dataframe\">\n",
       "  <thead>\n",
       "    <tr style=\"text-align: right;\">\n",
       "      <th></th>\n",
       "      <th>from</th>\n",
       "      <th>to</th>\n",
       "      <th>rating</th>\n",
       "      <th>timestamp</th>\n",
       "      <th>datetime</th>\n",
       "    </tr>\n",
       "    <tr>\n",
       "      <th>datetime</th>\n",
       "      <th></th>\n",
       "      <th></th>\n",
       "      <th></th>\n",
       "      <th></th>\n",
       "      <th></th>\n",
       "    </tr>\n",
       "  </thead>\n",
       "  <tbody>\n",
       "    <tr>\n",
       "      <th>2003-02-28 17:49:50</th>\n",
       "      <td>user_4958</td>\n",
       "      <td>item_1924</td>\n",
       "      <td>4</td>\n",
       "      <td>1046454590</td>\n",
       "      <td>2003-02-28 17:49:50</td>\n",
       "    </tr>\n",
       "    <tr>\n",
       "      <th>2003-02-28 17:49:08</th>\n",
       "      <td>user_4958</td>\n",
       "      <td>item_3264</td>\n",
       "      <td>4</td>\n",
       "      <td>1046454548</td>\n",
       "      <td>2003-02-28 17:49:08</td>\n",
       "    </tr>\n",
       "    <tr>\n",
       "      <th>2003-02-28 17:49:08</th>\n",
       "      <td>user_4958</td>\n",
       "      <td>item_2634</td>\n",
       "      <td>3</td>\n",
       "      <td>1046454548</td>\n",
       "      <td>2003-02-28 17:49:08</td>\n",
       "    </tr>\n",
       "    <tr>\n",
       "      <th>2003-02-28 17:47:23</th>\n",
       "      <td>user_4958</td>\n",
       "      <td>item_1407</td>\n",
       "      <td>5</td>\n",
       "      <td>1046454443</td>\n",
       "      <td>2003-02-28 17:47:23</td>\n",
       "    </tr>\n",
       "    <tr>\n",
       "      <th>2003-02-28 17:45:38</th>\n",
       "      <td>user_4958</td>\n",
       "      <td>item_2399</td>\n",
       "      <td>1</td>\n",
       "      <td>1046454338</td>\n",
       "      <td>2003-02-28 17:45:38</td>\n",
       "    </tr>\n",
       "  </tbody>\n",
       "</table>\n",
       "</div>"
      ],
      "text/plain": [
       "                          from         to  rating   timestamp  \\\n",
       "datetime                                                        \n",
       "2003-02-28 17:49:50  user_4958  item_1924       4  1046454590   \n",
       "2003-02-28 17:49:08  user_4958  item_3264       4  1046454548   \n",
       "2003-02-28 17:49:08  user_4958  item_2634       3  1046454548   \n",
       "2003-02-28 17:47:23  user_4958  item_1407       5  1046454443   \n",
       "2003-02-28 17:45:38  user_4958  item_2399       1  1046454338   \n",
       "\n",
       "                               datetime  \n",
       "datetime                                 \n",
       "2003-02-28 17:49:50 2003-02-28 17:49:50  \n",
       "2003-02-28 17:49:08 2003-02-28 17:49:08  \n",
       "2003-02-28 17:49:08 2003-02-28 17:49:08  \n",
       "2003-02-28 17:47:23 2003-02-28 17:47:23  \n",
       "2003-02-28 17:45:38 2003-02-28 17:45:38  "
      ]
     },
     "execution_count": 94,
     "metadata": {},
     "output_type": "execute_result"
    }
   ],
   "source": [
    "time_sorted_index[(time_sorted_index['datetime'] > '2003-02-27')].head()"
   ]
  },
  {
   "cell_type": "markdown",
   "metadata": {},
   "source": [
    "### Splitting by Time"
   ]
  },
  {
   "cell_type": "code",
   "execution_count": 185,
   "metadata": {},
   "outputs": [],
   "source": [
    "# Define a type : year ; month ; week ; day ( would be nice to only see weekends jão ? ) \n",
    "# And split your dataset evenly by that amount\n",
    "## Fun fact: There are somedays that have WAY more data than some. this WILL impact the prediction. Maybe normalize the rating. for example.\n",
    "def dataset_time_splitter(param_timedf, splitting_strategy = None):\n",
    "    if param_timedf is None or splitting_strategy is None:\n",
    "        return\n",
    "    \n",
    "    # Year 2003 is just 2 months so ignored it.\n",
    "    if splitting_strategy == \"year\":\n",
    "        df_time_return_1 = param_timedf[param_timedf.index.year.isin([2002,2003])]\n",
    "        df_time_return_2 = param_timedf[param_timedf.index.year.isin([2001])]\n",
    "        df_time_return_3 = param_timedf[param_timedf.index.year.isin([2000])]\n",
    "        return [df_time_return_1, df_time_return_2 , df_time_return_3]\n",
    "    if splitting_strategy == \"month\":\n",
    "        lista_dfs_months = []\n",
    "        for x in range(1, 13):\n",
    "            lista_dfs_months.append(param_timedf[param_timedf.index.month.isin([x])])\n",
    "        return lista_dfs_months\n",
    "    # around 50 weeks each year, total of 156\n",
    "    if splitting_strategy == \"week\":\n",
    "        lista_dfs_weeks  = []\n",
    "        for y in range (2000, 2003):\n",
    "            for x in range(1, (max(time_sorted_index.index.week)+1)):\n",
    "                lista_dfs_weeks.append(param_timedf[param_timedf.index.week.isin([x]) & param_timedf.index.year.isin([y])])\n",
    "        return lista_dfs_weeks\n",
    "    # around 365 weeks each year, total of 1096\n",
    "    if splitting_strategy == \"day\":\n",
    "        lista_dfs_days  = []\n",
    "        for y in range (2000, 2003):\n",
    "            for x in range(1, (max(time_sorted_index[time_sorted_index.index.year.isin([y])].index.dayofyear)+1)):\n",
    "                lista_dfs_days.append(param_timedf[param_timedf.index.dayofyear.isin([x]) & param_timedf.index.year.isin([y])])\n",
    "        return lista_dfs_days"
   ]
  },
  {
   "cell_type": "code",
   "execution_count": 192,
   "metadata": {},
   "outputs": [],
   "source": [
    "lista = dataset_time_splitter(time_sorted_index,\"year\")"
   ]
  },
  {
   "cell_type": "code",
   "execution_count": 193,
   "metadata": {},
   "outputs": [
    {
     "data": {
      "text/plain": [
       "3"
      ]
     },
     "execution_count": 193,
     "metadata": {},
     "output_type": "execute_result"
    }
   ],
   "source": [
    "len(lista)"
   ]
  },
  {
   "cell_type": "markdown",
   "metadata": {},
   "source": [
    "## Creating Network"
   ]
  },
  {
   "cell_type": "code",
   "execution_count": 199,
   "metadata": {},
   "outputs": [],
   "source": [
    "def build_list_of_networks(param_list):\n",
    "    graph_list = []\n",
    "    G = nx.DiGraph()\n",
    "    for df_graph in param_list:\n",
    "        for user_id in df_graph[\"from\"].unique():\n",
    "            G.add_node(user_id, node_type=\"user\")\n",
    "        for item_id in df_graph[\"to\"].unique():\n",
    "            G.add_node(item_id, node_type=\"item\")\n",
    "        G.add_weighted_edges_from(df_graph[[\"from\", \"to\", \"rating\"]].values)\n",
    "        graph_list.append(G)\n",
    "    return graph_list"
   ]
  },
  {
   "cell_type": "code",
   "execution_count": 196,
   "metadata": {},
   "outputs": [],
   "source": [
    "graph_list = build_list_of_networks(lista)"
   ]
  },
  {
   "cell_type": "code",
   "execution_count": 204,
   "metadata": {},
   "outputs": [],
   "source": [
    "def print_specs_for_graphs(param_list_graph):\n",
    "    for G in param_list_graph:\n",
    "        print(\"*****************************************\")\n",
    "        print (\"Number of edges: \", G.number_of_edges())\n",
    "        print (\"Number of nodes: \", G.number_of_nodes())\n",
    "#         for node_type in [\"user\", \"item\"]:\n",
    "#             n_type_nodes = G.subgraph([n for n,attrdict in G.node.items() if attrdict['node_type'] == node_type] ).number_of_nodes()\n",
    "#             print (\"Number of \" + node_type + \" nodes: \", n_type_nodes)\n",
    "        print (\"Is strongly connected: \", nx.is_strongly_connected(G))\n",
    "        print (\"Number of strongly connected components: \", nx.number_strongly_connected_components(G))\n",
    "        print(\"*****************************************\")"
   ]
  },
  {
   "cell_type": "code",
   "execution_count": 205,
   "metadata": {
    "collapsed": true,
    "jupyter": {
     "outputs_hidden": true
    }
   },
   "outputs": [
    {
     "name": "stdout",
     "output_type": "stream",
     "text": [
      "*****************************************\n",
      "Number of edges:  1000209\n",
      "Number of nodes:  9746\n",
      "Is strongly connected:  False\n",
      "Number of strongly connected components:  9746\n",
      "*****************************************\n",
      "*****************************************\n",
      "Number of edges:  1000209\n",
      "Number of nodes:  9746\n",
      "Is strongly connected:  False\n",
      "Number of strongly connected components:  9746\n",
      "*****************************************\n",
      "*****************************************\n",
      "Number of edges:  1000209\n",
      "Number of nodes:  9746\n",
      "Is strongly connected:  False\n",
      "Number of strongly connected components:  9746\n",
      "*****************************************\n"
     ]
    }
   ],
   "source": [
    "print_specs_for_graphs(graph_list)"
   ]
  },
  {
   "cell_type": "code",
   "execution_count": null,
   "metadata": {},
   "outputs": [],
   "source": [
    "## Proximos passos : Adicionar mais estatisticas e observar a variacao no ano."
   ]
  },
  {
   "cell_type": "markdown",
   "metadata": {},
   "source": [
    "## Getting Statistics\n",
    "### Degree"
   ]
  },
  {
   "cell_type": "code",
   "execution_count": 16,
   "metadata": {},
   "outputs": [
    {
     "data": {
      "text/html": [
       "<div>\n",
       "<style scoped>\n",
       "    .dataframe tbody tr th:only-of-type {\n",
       "        vertical-align: middle;\n",
       "    }\n",
       "\n",
       "    .dataframe tbody tr th {\n",
       "        vertical-align: top;\n",
       "    }\n",
       "\n",
       "    .dataframe thead th {\n",
       "        text-align: right;\n",
       "    }\n",
       "</style>\n",
       "<table border=\"1\" class=\"dataframe\">\n",
       "  <thead>\n",
       "    <tr style=\"text-align: right;\">\n",
       "      <th></th>\n",
       "      <th>node</th>\n",
       "      <th>degree</th>\n",
       "      <th>degree_centrality</th>\n",
       "    </tr>\n",
       "  </thead>\n",
       "  <tbody>\n",
       "    <tr>\n",
       "      <td>9741</td>\n",
       "      <td>item_2198</td>\n",
       "      <td>2</td>\n",
       "      <td>0.000205</td>\n",
       "    </tr>\n",
       "    <tr>\n",
       "      <td>9742</td>\n",
       "      <td>item_2703</td>\n",
       "      <td>1</td>\n",
       "      <td>0.000103</td>\n",
       "    </tr>\n",
       "    <tr>\n",
       "      <td>9743</td>\n",
       "      <td>item_2845</td>\n",
       "      <td>1</td>\n",
       "      <td>0.000103</td>\n",
       "    </tr>\n",
       "    <tr>\n",
       "      <td>9744</td>\n",
       "      <td>item_3607</td>\n",
       "      <td>1</td>\n",
       "      <td>0.000103</td>\n",
       "    </tr>\n",
       "    <tr>\n",
       "      <td>9745</td>\n",
       "      <td>item_2909</td>\n",
       "      <td>1</td>\n",
       "      <td>0.000103</td>\n",
       "    </tr>\n",
       "  </tbody>\n",
       "</table>\n",
       "</div>"
      ],
      "text/plain": [
       "           node  degree  degree_centrality\n",
       "9741  item_2198       2           0.000205\n",
       "9742  item_2703       1           0.000103\n",
       "9743  item_2845       1           0.000103\n",
       "9744  item_3607       1           0.000103\n",
       "9745  item_2909       1           0.000103"
      ]
     },
     "execution_count": 16,
     "metadata": {},
     "output_type": "execute_result"
    }
   ],
   "source": [
    "df_stats = pd.DataFrame(nx.degree(G))\n",
    "df_stats.columns = ['node', 'degree']\n",
    "df_stats['degree_centrality'] = nx.degree_centrality(G).values()\n",
    "# dict_metrics[dataset_tag][\"degree\"] = np.array(df_stats[\"degree\"])\n",
    "df_stats.tail()"
   ]
  },
  {
   "cell_type": "code",
   "execution_count": 108,
   "metadata": {},
   "outputs": [
    {
     "data": {
      "image/png": "[encoded data removed]",
      "text/plain": [
       "<Figure size 576x576 with 1 Axes>"
      ]
     },
     "metadata": {
      "needs_background": "light"
     },
     "output_type": "display_data"
    }
   ],
   "source": [
    "def plot_ccdf(samples, name=''):\n",
    "    x, y = ccdf(samples)\n",
    "    fig, ax = plt.subplots(nrows=1, ncols=1, figsize=(8,8))\n",
    "    ax.set_title(\"Empirical \" + name + \" CCDF\")\n",
    "    ax.plot(x, y)\n",
    "    ax.set_xscale(\"log\"), ax.set_yscale(\"log\")\n",
    "    ax.set_xlabel(\"x\"), ax.set_ylabel(\"Fraction of Samples >= x\")\n",
    "    ax.grid(True)\n",
    "    return fig, ax \n",
    "\n",
    "fig, ax = plot_ccdf(df_stats[\"degree\"], \"degree\")"
   ]
  },
  {
   "cell_type": "markdown",
   "metadata": {},
   "source": [
    "## Saving degree to trainable dataset"
   ]
  },
  {
   "cell_type": "code",
   "execution_count": 27,
   "metadata": {
    "scrolled": true
   },
   "outputs": [
    {
     "data": {
      "text/html": [
       "<div>\n",
       "<style scoped>\n",
       "    .dataframe tbody tr th:only-of-type {\n",
       "        vertical-align: middle;\n",
       "    }\n",
       "\n",
       "    .dataframe tbody tr th {\n",
       "        vertical-align: top;\n",
       "    }\n",
       "\n",
       "    .dataframe thead th {\n",
       "        text-align: right;\n",
       "    }\n",
       "</style>\n",
       "<table border=\"1\" class=\"dataframe\">\n",
       "  <thead>\n",
       "    <tr style=\"text-align: right;\">\n",
       "      <th></th>\n",
       "      <th>from</th>\n",
       "      <th>to</th>\n",
       "      <th>rating</th>\n",
       "      <th>degree_user</th>\n",
       "      <th>degree_centrality_user</th>\n",
       "      <th>degree_item</th>\n",
       "      <th>degree_centrality_item</th>\n",
       "    </tr>\n",
       "  </thead>\n",
       "  <tbody>\n",
       "    <tr>\n",
       "      <td>0</td>\n",
       "      <td>user_1</td>\n",
       "      <td>item_1193</td>\n",
       "      <td>5</td>\n",
       "      <td>53</td>\n",
       "      <td>0.005439</td>\n",
       "      <td>1725</td>\n",
       "      <td>0.177014</td>\n",
       "    </tr>\n",
       "    <tr>\n",
       "      <td>1</td>\n",
       "      <td>user_2</td>\n",
       "      <td>item_1193</td>\n",
       "      <td>5</td>\n",
       "      <td>129</td>\n",
       "      <td>0.013238</td>\n",
       "      <td>1725</td>\n",
       "      <td>0.177014</td>\n",
       "    </tr>\n",
       "    <tr>\n",
       "      <td>2</td>\n",
       "      <td>user_12</td>\n",
       "      <td>item_1193</td>\n",
       "      <td>4</td>\n",
       "      <td>23</td>\n",
       "      <td>0.002360</td>\n",
       "      <td>1725</td>\n",
       "      <td>0.177014</td>\n",
       "    </tr>\n",
       "    <tr>\n",
       "      <td>3</td>\n",
       "      <td>user_15</td>\n",
       "      <td>item_1193</td>\n",
       "      <td>4</td>\n",
       "      <td>201</td>\n",
       "      <td>0.020626</td>\n",
       "      <td>1725</td>\n",
       "      <td>0.177014</td>\n",
       "    </tr>\n",
       "    <tr>\n",
       "      <td>4</td>\n",
       "      <td>user_17</td>\n",
       "      <td>item_1193</td>\n",
       "      <td>5</td>\n",
       "      <td>211</td>\n",
       "      <td>0.021652</td>\n",
       "      <td>1725</td>\n",
       "      <td>0.177014</td>\n",
       "    </tr>\n",
       "    <tr>\n",
       "      <td>...</td>\n",
       "      <td>...</td>\n",
       "      <td>...</td>\n",
       "      <td>...</td>\n",
       "      <td>...</td>\n",
       "      <td>...</td>\n",
       "      <td>...</td>\n",
       "      <td>...</td>\n",
       "    </tr>\n",
       "    <tr>\n",
       "      <td>1000204</td>\n",
       "      <td>user_5949</td>\n",
       "      <td>item_2198</td>\n",
       "      <td>5</td>\n",
       "      <td>181</td>\n",
       "      <td>0.018574</td>\n",
       "      <td>2</td>\n",
       "      <td>0.000205</td>\n",
       "    </tr>\n",
       "    <tr>\n",
       "      <td>1000205</td>\n",
       "      <td>user_5675</td>\n",
       "      <td>item_2703</td>\n",
       "      <td>3</td>\n",
       "      <td>586</td>\n",
       "      <td>0.060133</td>\n",
       "      <td>1</td>\n",
       "      <td>0.000103</td>\n",
       "    </tr>\n",
       "    <tr>\n",
       "      <td>1000206</td>\n",
       "      <td>user_5780</td>\n",
       "      <td>item_2845</td>\n",
       "      <td>1</td>\n",
       "      <td>259</td>\n",
       "      <td>0.026578</td>\n",
       "      <td>1</td>\n",
       "      <td>0.000103</td>\n",
       "    </tr>\n",
       "    <tr>\n",
       "      <td>1000207</td>\n",
       "      <td>user_5851</td>\n",
       "      <td>item_3607</td>\n",
       "      <td>5</td>\n",
       "      <td>162</td>\n",
       "      <td>0.016624</td>\n",
       "      <td>1</td>\n",
       "      <td>0.000103</td>\n",
       "    </tr>\n",
       "    <tr>\n",
       "      <td>1000208</td>\n",
       "      <td>user_5938</td>\n",
       "      <td>item_2909</td>\n",
       "      <td>4</td>\n",
       "      <td>190</td>\n",
       "      <td>0.019497</td>\n",
       "      <td>1</td>\n",
       "      <td>0.000103</td>\n",
       "    </tr>\n",
       "  </tbody>\n",
       "</table>\n",
       "<p>1000209 rows × 7 columns</p>\n",
       "</div>"
      ],
      "text/plain": [
       "              from         to  rating  degree_user  degree_centrality_user  \\\n",
       "0           user_1  item_1193       5           53                0.005439   \n",
       "1           user_2  item_1193       5          129                0.013238   \n",
       "2          user_12  item_1193       4           23                0.002360   \n",
       "3          user_15  item_1193       4          201                0.020626   \n",
       "4          user_17  item_1193       5          211                0.021652   \n",
       "...            ...        ...     ...          ...                     ...   \n",
       "1000204  user_5949  item_2198       5          181                0.018574   \n",
       "1000205  user_5675  item_2703       3          586                0.060133   \n",
       "1000206  user_5780  item_2845       1          259                0.026578   \n",
       "1000207  user_5851  item_3607       5          162                0.016624   \n",
       "1000208  user_5938  item_2909       4          190                0.019497   \n",
       "\n",
       "         degree_item  degree_centrality_item  \n",
       "0               1725                0.177014  \n",
       "1               1725                0.177014  \n",
       "2               1725                0.177014  \n",
       "3               1725                0.177014  \n",
       "4               1725                0.177014  \n",
       "...              ...                     ...  \n",
       "1000204            2                0.000205  \n",
       "1000205            1                0.000103  \n",
       "1000206            1                0.000103  \n",
       "1000207            1                0.000103  \n",
       "1000208            1                0.000103  \n",
       "\n",
       "[1000209 rows x 7 columns]"
      ]
     },
     "execution_count": 27,
     "metadata": {},
     "output_type": "execute_result"
    }
   ],
   "source": [
    "df_degrees = pd.merge(df, df_stats, how='inner', left_on='from', right_on='node').drop(['node'], axis=1)\n",
    "df_degrees = pd.merge(df_degrees, df_stats, how='inner', left_on='to', right_on='node', \n",
    "                   suffixes=['_user', '_item']).drop(['node'], axis=1)\n",
    "df_degrees"
   ]
  },
  {
   "cell_type": "code",
   "execution_count": 28,
   "metadata": {},
   "outputs": [],
   "source": [
    "df_degrees.to_csv(os.path.join(variables_folder, 'df_degrees.csv'), sep=';', index=None)"
   ]
  },
  {
   "cell_type": "markdown",
   "metadata": {},
   "source": [
    "## Studying Threshold Variations\n",
    "\n",
    "How the number of users or items vary when we make degree centrality thresholds ?"
   ]
  },
  {
   "cell_type": "code",
   "execution_count": 73,
   "metadata": {},
   "outputs": [],
   "source": [
    "# Sets an array with the applied thresholds to be made\n",
    "step_size = 2\n",
    "degree_thr = [x/100 for x in np.arange(0, 101, step_size)]"
   ]
  },
  {
   "cell_type": "markdown",
   "metadata": {},
   "source": [
    "### Getting Threshold Variations\n",
    "\n",
    "We have 2 strategies here: \n",
    "\n",
    "- `upper`: only users/items with **higher** degree centrality than the threshold are allowed in the results dataset\n",
    "- `lower`: only users/items with **lower** degree centrality than the threshold are allowed in the results dataset "
   ]
  },
  {
   "cell_type": "code",
   "execution_count": 106,
   "metadata": {},
   "outputs": [
    {
     "name": "stdout",
     "output_type": "stream",
     "text": [
      "Wall time: 2.36 s\n"
     ]
    }
   ],
   "source": [
    "%%time\n",
    "n_users_thr, n_items_thr = [], []\n",
    "user_degree_thr, item_degree_thr = [], []\n",
    "n_users_max = len(df_degrees['from'].unique())\n",
    "n_items_max = len(df_degrees['to'].unique())\n",
    "strategy = 'upper' # upper, lower\n",
    "for threshold in degree_thr:    \n",
    "    if strategy == 'upper':\n",
    "        df_temp = df_degrees[df_degrees['degree_centrality_user'] > threshold]\n",
    "    else:\n",
    "        df_temp = df_degrees[df_degrees['degree_centrality_user'] < threshold]        \n",
    "    n_users = len(df_temp['from'].unique())    \n",
    "    n_users_thr.append(n_users)\n",
    "    user_degree_thr.append(threshold)\n",
    "    if n_users == 0 and strategy == 'upper':\n",
    "        break\n",
    "    if n_users == n_users_max and strategy == 'lower':\n",
    "        break  \n",
    "        \n",
    "for threshold in degree_thr:    \n",
    "    if strategy == 'upper':\n",
    "        df_temp = df_degrees[df_degrees['degree_centrality_item'] > threshold]\n",
    "    else:\n",
    "        df_temp = df_degrees[df_degrees['degree_centrality_item'] < threshold]        \n",
    "    n_items = len(df_temp['to'].unique())    \n",
    "    n_items_thr.append(n_items)\n",
    "    item_degree_thr.append(threshold)\n",
    "    if n_items == 0 and strategy == 'upper':\n",
    "        break\n",
    "    if n_items == n_items_max and strategy == 'lower':\n",
    "        break  \n",
    "        \n",
    "df_temp.head()"
   ]
  },
  {
   "cell_type": "code",
   "execution_count": 107,
   "metadata": {},
   "outputs": [
    {
     "data": {
      "text/plain": [
       "[Text(0, 0.5, 'Quantity'), Text(0, 0.5, 'Quantity')]"
      ]
     },
     "execution_count": 107,
     "metadata": {},
     "output_type": "execute_result"
    },
    {
     "data": {
      "image/png": "[encoded data removed]",
      "text/plain": [
       "<Figure size 1152x720 with 2 Axes>"
      ]
     },
     "metadata": {
      "needs_background": "light"
     },
     "output_type": "display_data"
    }
   ],
   "source": [
    "fig, axes = plt.subplots(nrows=1, ncols=2, figsize=(16, 10))\n",
    "axes[0].plot(user_degree_thr, n_users_thr)\n",
    "axes[0].axhline(n_users_max, color='r')\n",
    "axes[0].set_title('Number of Users x Degree Centrality Threshold')\n",
    "\n",
    "axes[1].plot(item_degree_thr, n_items_thr)\n",
    "axes[1].axhline(n_items_max, color='r')\n",
    "axes[1].set_title('Number of Items x Degree Centrality Threshold')\n",
    "\n",
    "[ax.grid(True) for ax in axes]\n",
    "[ax.set_xlabel('Degree Centrality') for ax in axes]\n",
    "[ax.set_ylabel('Quantity') for ax in axes]"
   ]
  }
 ],
 "metadata": {
  "kernelspec": {
   "display_name": "Python 3",
   "language": "python",
   "name": "python3"
  },
  "language_info": {
   "codemirror_mode": {
    "name": "ipython",
    "version": 3
   },
   "file_extension": ".py",
   "mimetype": "text/x-python",
   "name": "python",
   "nbconvert_exporter": "python",
   "pygments_lexer": "ipython3",
   "version": "3.5.2"
  }
 },
 "nbformat": 4,
 "nbformat_minor": 4
}
