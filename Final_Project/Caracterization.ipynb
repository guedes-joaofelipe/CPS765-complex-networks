{
 "cells": [
  {
   "cell_type": "markdown",
   "metadata": {},
   "source": [
    "# Caracterization\n",
    "\n",
    "This notebook contains analysis on the graph of Movie Lens 1M dataset. We consider this dataset to be a directed bipartite graph where nodes are users and items, with edges going from users to items and the edge-weights being the users' ratings. "
   ]
  },
  {
   "cell_type": "code",
   "execution_count": 2,
   "metadata": {},
   "outputs": [],
   "source": [
    "import os, sys\n",
    "import networkx as nx\n",
    "from powerlaw import ccdf\n",
    "import matplotlib.pyplot as plt\n",
    "import pandas as pd \n",
    "import numpy as np\n",
    "import time\n",
    "import utils"
   ]
  },
  {
   "cell_type": "code",
   "execution_count": 3,
   "metadata": {},
   "outputs": [],
   "source": [
    "config_file = './config_file.json'\n",
    "params = utils.Params(config_file)\n",
    "data_folder = os.path.join('..', 'Data', params.dataset)\n",
    "images_folder = os.path.join('.', 'Images')\n",
    "variables_folder = os.path.join('.', 'Variables')"
   ]
  },
  {
   "cell_type": "markdown",
   "metadata": {},
   "source": [
    "## Loading the Dataset"
   ]
  },
  {
   "cell_type": "code",
   "execution_count": 4,
   "metadata": {},
   "outputs": [
    {
     "data": {
      "text/html": [
       "<div>\n",
       "<style scoped>\n",
       "    .dataframe tbody tr th:only-of-type {\n",
       "        vertical-align: middle;\n",
       "    }\n",
       "\n",
       "    .dataframe tbody tr th {\n",
       "        vertical-align: top;\n",
       "    }\n",
       "\n",
       "    .dataframe thead th {\n",
       "        text-align: right;\n",
       "    }\n",
       "</style>\n",
       "<table border=\"1\" class=\"dataframe\">\n",
       "  <thead>\n",
       "    <tr style=\"text-align: right;\">\n",
       "      <th></th>\n",
       "      <th>from</th>\n",
       "      <th>to</th>\n",
       "      <th>rating</th>\n",
       "      <th>timestamp</th>\n",
       "    </tr>\n",
       "  </thead>\n",
       "  <tbody>\n",
       "    <tr>\n",
       "      <td>1000204</td>\n",
       "      <td>user_6040</td>\n",
       "      <td>item_1091</td>\n",
       "      <td>1</td>\n",
       "      <td>956716541</td>\n",
       "    </tr>\n",
       "    <tr>\n",
       "      <td>1000205</td>\n",
       "      <td>user_6040</td>\n",
       "      <td>item_1094</td>\n",
       "      <td>5</td>\n",
       "      <td>956704887</td>\n",
       "    </tr>\n",
       "    <tr>\n",
       "      <td>1000206</td>\n",
       "      <td>user_6040</td>\n",
       "      <td>item_562</td>\n",
       "      <td>5</td>\n",
       "      <td>956704746</td>\n",
       "    </tr>\n",
       "    <tr>\n",
       "      <td>1000207</td>\n",
       "      <td>user_6040</td>\n",
       "      <td>item_1096</td>\n",
       "      <td>4</td>\n",
       "      <td>956715648</td>\n",
       "    </tr>\n",
       "    <tr>\n",
       "      <td>1000208</td>\n",
       "      <td>user_6040</td>\n",
       "      <td>item_1097</td>\n",
       "      <td>4</td>\n",
       "      <td>956715569</td>\n",
       "    </tr>\n",
       "  </tbody>\n",
       "</table>\n",
       "</div>"
      ],
      "text/plain": [
       "              from         to  rating  timestamp\n",
       "1000204  user_6040  item_1091       1  956716541\n",
       "1000205  user_6040  item_1094       5  956704887\n",
       "1000206  user_6040   item_562       5  956704746\n",
       "1000207  user_6040  item_1096       4  956715648\n",
       "1000208  user_6040  item_1097       4  956715569"
      ]
     },
     "execution_count": 4,
     "metadata": {},
     "output_type": "execute_result"
    }
   ],
   "source": [
    "dataset_tag, dataset_file = params.dataset, os.path.join(data_folder, 'ratings.dat')\n",
    "df = pd.read_csv(dataset_file, header=None, sep=r'::', engine=\"python\")\n",
    "df.columns = [\"from\", \"to\", \"rating\", \"timestamp\"]\n",
    "df['from'] = df['from'].apply(lambda x: 'user_' + str(x))\n",
    "df['to'] = df['to'].apply(lambda x: 'item_' + str(x))\n",
    "# My job starts here ! ;D\n",
    "# df.drop([\"timestamp\"], axis=1, inplace=True)\n",
    "df.to_csv(os.path.join(variables_folder, dataset_tag + \"_edgelist.txt\"), sep='\\t', index=False, header=None)\n",
    "df.tail()"
   ]
  },
  {
   "cell_type": "markdown",
   "metadata": {},
   "source": [
    "## Processing Time"
   ]
  },
  {
   "cell_type": "code",
   "execution_count": null,
   "metadata": {},
   "outputs": [],
   "source": [
    "time_sorted = df.sort_values(by=['timestamp'], ascending=False)\n",
    "print('Max time: ', \n",
    "          time.strftime(\"%D %H:%M\", time.localtime(int(time_sorted['timestamp'].max()))), \n",
    "      'and Min time: ', \n",
    "          time.strftime(\"%D %H:%M\", time.localtime(int(time_sorted['timestamp'].min()))) )"
   ]
  },
  {
   "cell_type": "code",
   "execution_count": null,
   "metadata": {},
   "outputs": [],
   "source": [
    "time_sorted['datetime'] = pd.to_datetime(time_sorted['timestamp'].astype(int), unit='s')\n",
    "time_sorted_index = time_sorted.set_index(pd.DatetimeIndex(time_sorted['datetime']))"
   ]
  },
  {
   "cell_type": "code",
   "execution_count": null,
   "metadata": {},
   "outputs": [],
   "source": [
    "time_sorted_index[(time_sorted_index['datetime'] > '2003-02-27')].head()"
   ]
  },
  {
   "cell_type": "markdown",
   "metadata": {},
   "source": [
    "### Splitting by Time"
   ]
  },
  {
   "cell_type": "code",
   "execution_count": null,
   "metadata": {},
   "outputs": [],
   "source": [
    "# Define a type : year ; month ; week ; day ( would be nice to only see weekends jão ? ) \n",
    "# And split your dataset evenly by that amount\n",
    "## Fun fact: There are somedays that have WAY more data than some. this WILL impact the prediction. Maybe normalize the rating. for example.\n",
    "def dataset_time_splitter(param_timedf, splitting_strategy = None):\n",
    "    if param_timedf is None or splitting_strategy is None:\n",
    "        return\n",
    "    \n",
    "    # Year 2003 is just 2 months so ignored it.\n",
    "    if splitting_strategy == \"year\":\n",
    "        df_time_return_1 = param_timedf[param_timedf.index.year.isin([2002,2003])]\n",
    "        df_time_return_2 = param_timedf[param_timedf.index.year.isin([2001])]\n",
    "        df_time_return_3 = param_timedf[param_timedf.index.year.isin([2000])]\n",
    "        return [df_time_return_1, df_time_return_2 , df_time_return_3]\n",
    "    if splitting_strategy == \"month\":\n",
    "        lista_dfs_months = []\n",
    "        for x in range(1, 13):\n",
    "            lista_dfs_months.append(param_timedf[param_timedf.index.month.isin([x])])\n",
    "        return lista_dfs_months\n",
    "    # around 50 weeks each year, total of 156\n",
    "    if splitting_strategy == \"week\":\n",
    "        lista_dfs_weeks  = []\n",
    "        for y in range (2000, 2003):\n",
    "            for x in range(1, (max(time_sorted_index.index.week)+1)):\n",
    "                lista_dfs_weeks.append(param_timedf[param_timedf.index.week.isin([x]) & param_timedf.index.year.isin([y])])\n",
    "        return lista_dfs_weeks\n",
    "    # around 365 weeks each year, total of 1096\n",
    "    if splitting_strategy == \"day\":\n",
    "        lista_dfs_days  = []\n",
    "        for y in range (2000, 2003):\n",
    "            for x in range(1, (max(time_sorted_index[time_sorted_index.index.year.isin([y])].index.dayofyear)+1)):\n",
    "                lista_dfs_days.append(param_timedf[param_timedf.index.dayofyear.isin([x]) & param_timedf.index.year.isin([y])])\n",
    "        return lista_dfs_days"
   ]
  },
  {
   "cell_type": "code",
   "execution_count": null,
   "metadata": {},
   "outputs": [],
   "source": [
    "lista = dataset_time_splitter(time_sorted_index,\"year\")"
   ]
  },
  {
   "cell_type": "code",
   "execution_count": null,
   "metadata": {},
   "outputs": [],
   "source": [
    "len(lista)"
   ]
  },
  {
   "cell_type": "markdown",
   "metadata": {},
   "source": [
    "## Creating Network"
   ]
  },
  {
   "cell_type": "code",
   "execution_count": null,
   "metadata": {},
   "outputs": [],
   "source": [
    "def build_list_of_networks(param_list):\n",
    "    graph_list = []\n",
    "    G = nx.DiGraph()\n",
    "    for df_graph in param_list:\n",
    "        for user_id in df_graph[\"from\"].unique():\n",
    "            G.add_node(user_id, node_type=\"user\")\n",
    "        for item_id in df_graph[\"to\"].unique():\n",
    "            G.add_node(item_id, node_type=\"item\")\n",
    "        G.add_weighted_edges_from(df_graph[[\"from\", \"to\", \"rating\"]].values)\n",
    "        graph_list.append(G)\n",
    "    return graph_list"
   ]
  },
  {
   "cell_type": "code",
   "execution_count": null,
   "metadata": {},
   "outputs": [],
   "source": [
    "graph_list = build_list_of_networks(lista)"
   ]
  },
  {
   "cell_type": "code",
   "execution_count": null,
   "metadata": {},
   "outputs": [],
   "source": [
    "def print_specs_for_graphs(param_list_graph):\n",
    "    for G in param_list_graph:\n",
    "        print(\"*****************************************\")\n",
    "        print (\"Number of edges: \", G.number_of_edges())\n",
    "        print (\"Number of nodes: \", G.number_of_nodes())\n",
    "#         for node_type in [\"user\", \"item\"]:\n",
    "#             n_type_nodes = G.subgraph([n for n,attrdict in G.node.items() if attrdict['node_type'] == node_type] ).number_of_nodes()\n",
    "#             print (\"Number of \" + node_type + \" nodes: \", n_type_nodes)\n",
    "        print (\"Is strongly connected: \", nx.is_strongly_connected(G))\n",
    "        print (\"Number of strongly connected components: \", nx.number_strongly_connected_components(G))\n",
    "        print(\"*****************************************\")"
   ]
  },
  {
   "cell_type": "code",
   "execution_count": null,
   "metadata": {
    "jupyter": {
     "outputs_hidden": true
    }
   },
   "outputs": [],
   "source": [
    "print_specs_for_graphs(graph_list)"
   ]
  },
  {
   "cell_type": "code",
   "execution_count": null,
   "metadata": {},
   "outputs": [],
   "source": [
    "## Proximos passos : Adicionar mais estatisticas e observar a variacao no ano."
   ]
  },
  {
   "cell_type": "markdown",
   "metadata": {},
   "source": [
    "## Getting Statistics\n",
    "### Degree"
   ]
  },
  {
   "cell_type": "code",
   "execution_count": 5,
   "metadata": {},
   "outputs": [],
   "source": [
    "G = nx.DiGraph()\n",
    "for user_id in df[\"from\"].unique():\n",
    "    G.add_node(user_id, node_type=\"user\")\n",
    "for item_id in df[\"to\"].unique():\n",
    "    G.add_node(item_id, node_type=\"item\")\n",
    "G.add_weighted_edges_from(df[[\"from\", \"to\", \"rating\"]].values)"
   ]
  },
  {
   "cell_type": "code",
   "execution_count": 6,
   "metadata": {},
   "outputs": [
    {
     "data": {
      "text/html": [
       "<div>\n",
       "<style scoped>\n",
       "    .dataframe tbody tr th:only-of-type {\n",
       "        vertical-align: middle;\n",
       "    }\n",
       "\n",
       "    .dataframe tbody tr th {\n",
       "        vertical-align: top;\n",
       "    }\n",
       "\n",
       "    .dataframe thead th {\n",
       "        text-align: right;\n",
       "    }\n",
       "</style>\n",
       "<table border=\"1\" class=\"dataframe\">\n",
       "  <thead>\n",
       "    <tr style=\"text-align: right;\">\n",
       "      <th></th>\n",
       "      <th>node</th>\n",
       "      <th>degree</th>\n",
       "      <th>degree_centrality</th>\n",
       "    </tr>\n",
       "  </thead>\n",
       "  <tbody>\n",
       "    <tr>\n",
       "      <td>9741</td>\n",
       "      <td>item_2198</td>\n",
       "      <td>2</td>\n",
       "      <td>0.000205</td>\n",
       "    </tr>\n",
       "    <tr>\n",
       "      <td>9742</td>\n",
       "      <td>item_2703</td>\n",
       "      <td>1</td>\n",
       "      <td>0.000103</td>\n",
       "    </tr>\n",
       "    <tr>\n",
       "      <td>9743</td>\n",
       "      <td>item_2845</td>\n",
       "      <td>1</td>\n",
       "      <td>0.000103</td>\n",
       "    </tr>\n",
       "    <tr>\n",
       "      <td>9744</td>\n",
       "      <td>item_3607</td>\n",
       "      <td>1</td>\n",
       "      <td>0.000103</td>\n",
       "    </tr>\n",
       "    <tr>\n",
       "      <td>9745</td>\n",
       "      <td>item_2909</td>\n",
       "      <td>1</td>\n",
       "      <td>0.000103</td>\n",
       "    </tr>\n",
       "  </tbody>\n",
       "</table>\n",
       "</div>"
      ],
      "text/plain": [
       "           node  degree  degree_centrality\n",
       "9741  item_2198       2           0.000205\n",
       "9742  item_2703       1           0.000103\n",
       "9743  item_2845       1           0.000103\n",
       "9744  item_3607       1           0.000103\n",
       "9745  item_2909       1           0.000103"
      ]
     },
     "execution_count": 6,
     "metadata": {},
     "output_type": "execute_result"
    }
   ],
   "source": [
    "df_stats = pd.DataFrame(nx.degree(G))\n",
    "df_stats.columns = ['node', 'degree']\n",
    "df_stats['degree_centrality'] = nx.degree_centrality(G).values()\n",
    "# dict_metrics[dataset_tag][\"degree\"] = np.array(df_stats[\"degree\"])\n",
    "df_stats.tail()"
   ]
  },
  {
   "cell_type": "code",
   "execution_count": 7,
   "metadata": {},
   "outputs": [
    {
     "data": {
      "image/png": "[encoded data removed]",
      "text/plain": [
       "<Figure size 576x576 with 1 Axes>"
      ]
     },
     "metadata": {
      "needs_background": "light"
     },
     "output_type": "display_data"
    }
   ],
   "source": [
    "def plot_ccdf(samples, name=''):\n",
    "    x, y = ccdf(samples)\n",
    "    fig, ax = plt.subplots(nrows=1, ncols=1, figsize=(8,8))\n",
    "    ax.set_title(\"Empirical \" + name + \" CCDF\")\n",
    "    ax.plot(x, y)\n",
    "    ax.set_xscale(\"log\"), ax.set_yscale(\"log\")\n",
    "    ax.set_xlabel(\"x\"), ax.set_ylabel(\"Fraction of Samples >= x\")\n",
    "    ax.grid(True)\n",
    "    return fig, ax \n",
    "\n",
    "fig, ax = plot_ccdf(df_stats[\"degree\"], \"degree\")\n",
    "fig.savefig(os.path.join('.', 'Images', 'empirical_degree_ccdf.jpg'), bbox_inches='tight')"
   ]
  },
  {
   "cell_type": "markdown",
   "metadata": {},
   "source": [
    "## Saving degree to trainable dataset"
   ]
  },
  {
   "cell_type": "code",
   "execution_count": 8,
   "metadata": {
    "scrolled": true
   },
   "outputs": [
    {
     "data": {
      "text/html": [
       "<div>\n",
       "<style scoped>\n",
       "    .dataframe tbody tr th:only-of-type {\n",
       "        vertical-align: middle;\n",
       "    }\n",
       "\n",
       "    .dataframe tbody tr th {\n",
       "        vertical-align: top;\n",
       "    }\n",
       "\n",
       "    .dataframe thead th {\n",
       "        text-align: right;\n",
       "    }\n",
       "</style>\n",
       "<table border=\"1\" class=\"dataframe\">\n",
       "  <thead>\n",
       "    <tr style=\"text-align: right;\">\n",
       "      <th></th>\n",
       "      <th>from</th>\n",
       "      <th>to</th>\n",
       "      <th>rating</th>\n",
       "      <th>timestamp</th>\n",
       "      <th>degree_user</th>\n",
       "      <th>degree_centrality_user</th>\n",
       "      <th>degree_item</th>\n",
       "      <th>degree_centrality_item</th>\n",
       "    </tr>\n",
       "  </thead>\n",
       "  <tbody>\n",
       "    <tr>\n",
       "      <td>0</td>\n",
       "      <td>user_1</td>\n",
       "      <td>item_1193</td>\n",
       "      <td>5</td>\n",
       "      <td>978300760</td>\n",
       "      <td>53</td>\n",
       "      <td>0.005439</td>\n",
       "      <td>1725</td>\n",
       "      <td>0.177014</td>\n",
       "    </tr>\n",
       "    <tr>\n",
       "      <td>1</td>\n",
       "      <td>user_2</td>\n",
       "      <td>item_1193</td>\n",
       "      <td>5</td>\n",
       "      <td>978298413</td>\n",
       "      <td>129</td>\n",
       "      <td>0.013238</td>\n",
       "      <td>1725</td>\n",
       "      <td>0.177014</td>\n",
       "    </tr>\n",
       "    <tr>\n",
       "      <td>2</td>\n",
       "      <td>user_12</td>\n",
       "      <td>item_1193</td>\n",
       "      <td>4</td>\n",
       "      <td>978220179</td>\n",
       "      <td>23</td>\n",
       "      <td>0.002360</td>\n",
       "      <td>1725</td>\n",
       "      <td>0.177014</td>\n",
       "    </tr>\n",
       "    <tr>\n",
       "      <td>3</td>\n",
       "      <td>user_15</td>\n",
       "      <td>item_1193</td>\n",
       "      <td>4</td>\n",
       "      <td>978199279</td>\n",
       "      <td>201</td>\n",
       "      <td>0.020626</td>\n",
       "      <td>1725</td>\n",
       "      <td>0.177014</td>\n",
       "    </tr>\n",
       "    <tr>\n",
       "      <td>4</td>\n",
       "      <td>user_17</td>\n",
       "      <td>item_1193</td>\n",
       "      <td>5</td>\n",
       "      <td>978158471</td>\n",
       "      <td>211</td>\n",
       "      <td>0.021652</td>\n",
       "      <td>1725</td>\n",
       "      <td>0.177014</td>\n",
       "    </tr>\n",
       "    <tr>\n",
       "      <td>...</td>\n",
       "      <td>...</td>\n",
       "      <td>...</td>\n",
       "      <td>...</td>\n",
       "      <td>...</td>\n",
       "      <td>...</td>\n",
       "      <td>...</td>\n",
       "      <td>...</td>\n",
       "      <td>...</td>\n",
       "    </tr>\n",
       "    <tr>\n",
       "      <td>1000204</td>\n",
       "      <td>user_5949</td>\n",
       "      <td>item_2198</td>\n",
       "      <td>5</td>\n",
       "      <td>958846401</td>\n",
       "      <td>181</td>\n",
       "      <td>0.018574</td>\n",
       "      <td>2</td>\n",
       "      <td>0.000205</td>\n",
       "    </tr>\n",
       "    <tr>\n",
       "      <td>1000205</td>\n",
       "      <td>user_5675</td>\n",
       "      <td>item_2703</td>\n",
       "      <td>3</td>\n",
       "      <td>976029116</td>\n",
       "      <td>586</td>\n",
       "      <td>0.060133</td>\n",
       "      <td>1</td>\n",
       "      <td>0.000103</td>\n",
       "    </tr>\n",
       "    <tr>\n",
       "      <td>1000206</td>\n",
       "      <td>user_5780</td>\n",
       "      <td>item_2845</td>\n",
       "      <td>1</td>\n",
       "      <td>958153068</td>\n",
       "      <td>259</td>\n",
       "      <td>0.026578</td>\n",
       "      <td>1</td>\n",
       "      <td>0.000103</td>\n",
       "    </tr>\n",
       "    <tr>\n",
       "      <td>1000207</td>\n",
       "      <td>user_5851</td>\n",
       "      <td>item_3607</td>\n",
       "      <td>5</td>\n",
       "      <td>957756608</td>\n",
       "      <td>162</td>\n",
       "      <td>0.016624</td>\n",
       "      <td>1</td>\n",
       "      <td>0.000103</td>\n",
       "    </tr>\n",
       "    <tr>\n",
       "      <td>1000208</td>\n",
       "      <td>user_5938</td>\n",
       "      <td>item_2909</td>\n",
       "      <td>4</td>\n",
       "      <td>957273353</td>\n",
       "      <td>190</td>\n",
       "      <td>0.019497</td>\n",
       "      <td>1</td>\n",
       "      <td>0.000103</td>\n",
       "    </tr>\n",
       "  </tbody>\n",
       "</table>\n",
       "<p>1000209 rows × 8 columns</p>\n",
       "</div>"
      ],
      "text/plain": [
       "              from         to  rating  timestamp  degree_user  \\\n",
       "0           user_1  item_1193       5  978300760           53   \n",
       "1           user_2  item_1193       5  978298413          129   \n",
       "2          user_12  item_1193       4  978220179           23   \n",
       "3          user_15  item_1193       4  978199279          201   \n",
       "4          user_17  item_1193       5  978158471          211   \n",
       "...            ...        ...     ...        ...          ...   \n",
       "1000204  user_5949  item_2198       5  958846401          181   \n",
       "1000205  user_5675  item_2703       3  976029116          586   \n",
       "1000206  user_5780  item_2845       1  958153068          259   \n",
       "1000207  user_5851  item_3607       5  957756608          162   \n",
       "1000208  user_5938  item_2909       4  957273353          190   \n",
       "\n",
       "         degree_centrality_user  degree_item  degree_centrality_item  \n",
       "0                      0.005439         1725                0.177014  \n",
       "1                      0.013238         1725                0.177014  \n",
       "2                      0.002360         1725                0.177014  \n",
       "3                      0.020626         1725                0.177014  \n",
       "4                      0.021652         1725                0.177014  \n",
       "...                         ...          ...                     ...  \n",
       "1000204                0.018574            2                0.000205  \n",
       "1000205                0.060133            1                0.000103  \n",
       "1000206                0.026578            1                0.000103  \n",
       "1000207                0.016624            1                0.000103  \n",
       "1000208                0.019497            1                0.000103  \n",
       "\n",
       "[1000209 rows x 8 columns]"
      ]
     },
     "execution_count": 8,
     "metadata": {},
     "output_type": "execute_result"
    }
   ],
   "source": [
    "df_degrees = pd.merge(df, df_stats, how='inner', left_on='from', right_on='node').drop(['node'], axis=1)\n",
    "df_degrees = pd.merge(df_degrees, df_stats, how='inner', left_on='to', right_on='node', \n",
    "                   suffixes=['_user', '_item']).drop(['node'], axis=1)\n",
    "df_degrees"
   ]
  },
  {
   "cell_type": "code",
   "execution_count": 9,
   "metadata": {},
   "outputs": [],
   "source": [
    "df_degrees.to_csv(os.path.join(variables_folder, 'df_degrees.csv'), sep=';', index=None)"
   ]
  },
  {
   "cell_type": "markdown",
   "metadata": {},
   "source": [
    "## Studying Threshold Variations\n",
    "\n",
    "How the number of users or items vary when we make degree centrality thresholds ?"
   ]
  },
  {
   "cell_type": "code",
   "execution_count": 11,
   "metadata": {},
   "outputs": [
    {
     "data": {
      "text/plain": [
       "array([1.00000000e-04, 1.37382380e-04, 1.88739182e-04, 2.59294380e-04,\n",
       "       3.56224789e-04, 4.89390092e-04, 6.72335754e-04, 9.23670857e-04,\n",
       "       1.26896100e-03, 1.74332882e-03, 2.39502662e-03, 3.29034456e-03,\n",
       "       4.52035366e-03, 6.21016942e-03, 8.53167852e-03, 1.17210230e-02,\n",
       "       1.61026203e-02, 2.21221629e-02, 3.03919538e-02, 4.17531894e-02,\n",
       "       5.73615251e-02, 7.88046282e-02, 1.08263673e-01, 1.48735211e-01,\n",
       "       2.04335972e-01, 2.80721620e-01, 3.85662042e-01, 5.29831691e-01,\n",
       "       7.27895384e-01, 1.00000000e+00])"
      ]
     },
     "execution_count": 11,
     "metadata": {},
     "output_type": "execute_result"
    }
   ],
   "source": [
    "# Sets an array with the applied thresholds to be made\n",
    "step_size = 30\n",
    "degree_thr = np.array([float(x)/100.0 for x in np.logspace(-2, 2, step_size, dtype=float)])\n",
    "# degree_thr = [1e-2, 2e-2, 4e-2, 6e-2, 8e-2, 1e-1, 2e-1, 3e-1]\n",
    "degree_thr"
   ]
  },
  {
   "cell_type": "markdown",
   "metadata": {},
   "source": [
    "### Getting Threshold Variations\n",
    "\n",
    "We have 2 strategies here: \n",
    "\n",
    "- `upper`: only users/items with **higher** degree centrality than the threshold are allowed in the results dataset\n",
    "- `lower`: only users/items with **lower** degree centrality than the threshold are allowed in the results dataset "
   ]
  },
  {
   "cell_type": "code",
   "execution_count": 12,
   "metadata": {},
   "outputs": [
    {
     "name": "stdout",
     "output_type": "stream",
     "text": [
      "Wall time: 11.8 s\n"
     ]
    }
   ],
   "source": [
    "%%time\n",
    "n_users_thr, n_items_thr = [], []\n",
    "user_degree_thr, item_degree_thr = [], []\n",
    "n_users_max = len(df_degrees['from'].unique())\n",
    "n_items_max = len(df_degrees['to'].unique())\n",
    "strategy = 'upper_degree_centrality' # upper, lower\n",
    "for threshold in degree_thr:    \n",
    "    if strategy == 'upper_degree_centrality':\n",
    "        df_temp = df_degrees[df_degrees['degree_centrality_user'] > threshold]\n",
    "    else:\n",
    "        df_temp = df_degrees[df_degrees['degree_centrality_user'] < threshold]        \n",
    "    n_users = len(df_temp['from'].unique())    \n",
    "    n_users_thr.append(n_users)\n",
    "    user_degree_thr.append(threshold)\n",
    "    if n_users == 0 and strategy == 'upper_degree_centrality':\n",
    "        break\n",
    "    if n_users == n_users_max and strategy == 'lower_degree_centrality':\n",
    "        break  \n",
    "        \n",
    "for threshold in degree_thr:    \n",
    "    if strategy == 'upper_degree_centrality':\n",
    "        df_temp = df_degrees[df_degrees['degree_centrality_item'] > threshold]\n",
    "    else:\n",
    "        df_temp = df_degrees[df_degrees['degree_centrality_item'] < threshold]        \n",
    "    n_items = len(df_temp['to'].unique())    \n",
    "    n_items_thr.append(n_items)\n",
    "    item_degree_thr.append(threshold)\n",
    "    if n_items == 0 and strategy == 'upper_degree_centrality':\n",
    "        break\n",
    "    if n_items == n_items_max and strategy == 'lower_degree_centrality':\n",
    "        break  \n",
    "        \n",
    "df_temp.head()"
   ]
  },
  {
   "cell_type": "code",
   "execution_count": 13,
   "metadata": {},
   "outputs": [
    {
     "data": {
      "text/html": [
       "<div>\n",
       "<style scoped>\n",
       "    .dataframe tbody tr th:only-of-type {\n",
       "        vertical-align: middle;\n",
       "    }\n",
       "\n",
       "    .dataframe tbody tr th {\n",
       "        vertical-align: top;\n",
       "    }\n",
       "\n",
       "    .dataframe thead th {\n",
       "        text-align: right;\n",
       "    }\n",
       "</style>\n",
       "<table border=\"1\" class=\"dataframe\">\n",
       "  <thead>\n",
       "    <tr style=\"text-align: right;\">\n",
       "      <th></th>\n",
       "      <th>degree_centrality_users</th>\n",
       "      <th>n_users</th>\n",
       "      <th>degree_centrality_items</th>\n",
       "      <th>n_items</th>\n",
       "    </tr>\n",
       "  </thead>\n",
       "  <tbody>\n",
       "    <tr>\n",
       "      <td>0</td>\n",
       "      <td>0.000100</td>\n",
       "      <td>6040</td>\n",
       "      <td>0.000100</td>\n",
       "      <td>3706</td>\n",
       "    </tr>\n",
       "    <tr>\n",
       "      <td>1</td>\n",
       "      <td>0.000100</td>\n",
       "      <td>6040</td>\n",
       "      <td>0.000137</td>\n",
       "      <td>3592</td>\n",
       "    </tr>\n",
       "    <tr>\n",
       "      <td>2</td>\n",
       "      <td>0.000100</td>\n",
       "      <td>6040</td>\n",
       "      <td>0.000189</td>\n",
       "      <td>3592</td>\n",
       "    </tr>\n",
       "    <tr>\n",
       "      <td>3</td>\n",
       "      <td>0.000100</td>\n",
       "      <td>6040</td>\n",
       "      <td>0.000259</td>\n",
       "      <td>3503</td>\n",
       "    </tr>\n",
       "    <tr>\n",
       "      <td>4</td>\n",
       "      <td>0.000100</td>\n",
       "      <td>6040</td>\n",
       "      <td>0.000356</td>\n",
       "      <td>3461</td>\n",
       "    </tr>\n",
       "    <tr>\n",
       "      <td>...</td>\n",
       "      <td>...</td>\n",
       "      <td>...</td>\n",
       "      <td>...</td>\n",
       "      <td>...</td>\n",
       "    </tr>\n",
       "    <tr>\n",
       "      <td>641</td>\n",
       "      <td>0.148735</td>\n",
       "      <td>6</td>\n",
       "      <td>0.057362</td>\n",
       "      <td>549</td>\n",
       "    </tr>\n",
       "    <tr>\n",
       "      <td>642</td>\n",
       "      <td>0.148735</td>\n",
       "      <td>6</td>\n",
       "      <td>0.078805</td>\n",
       "      <td>339</td>\n",
       "    </tr>\n",
       "    <tr>\n",
       "      <td>643</td>\n",
       "      <td>0.148735</td>\n",
       "      <td>6</td>\n",
       "      <td>0.108264</td>\n",
       "      <td>185</td>\n",
       "    </tr>\n",
       "    <tr>\n",
       "      <td>644</td>\n",
       "      <td>0.148735</td>\n",
       "      <td>6</td>\n",
       "      <td>0.148735</td>\n",
       "      <td>74</td>\n",
       "    </tr>\n",
       "    <tr>\n",
       "      <td>645</td>\n",
       "      <td>0.148735</td>\n",
       "      <td>6</td>\n",
       "      <td>0.204336</td>\n",
       "      <td>33</td>\n",
       "    </tr>\n",
       "  </tbody>\n",
       "</table>\n",
       "<p>600 rows × 4 columns</p>\n",
       "</div>"
      ],
      "text/plain": [
       "     degree_centrality_users  n_users  degree_centrality_items  n_items\n",
       "0                   0.000100     6040                 0.000100     3706\n",
       "1                   0.000100     6040                 0.000137     3592\n",
       "2                   0.000100     6040                 0.000189     3592\n",
       "3                   0.000100     6040                 0.000259     3503\n",
       "4                   0.000100     6040                 0.000356     3461\n",
       "..                       ...      ...                      ...      ...\n",
       "641                 0.148735        6                 0.057362      549\n",
       "642                 0.148735        6                 0.078805      339\n",
       "643                 0.148735        6                 0.108264      185\n",
       "644                 0.148735        6                 0.148735       74\n",
       "645                 0.148735        6                 0.204336       33\n",
       "\n",
       "[600 rows x 4 columns]"
      ]
     },
     "execution_count": 13,
     "metadata": {},
     "output_type": "execute_result"
    }
   ],
   "source": [
    "arr = []\n",
    "for u, u_thr in enumerate(user_degree_thr):\n",
    "    for i, i_thr in enumerate(item_degree_thr):\n",
    "        arr.append([u_thr, n_users_thr[u], i_thr, n_items_thr[i]])\n",
    "df_exp = pd.DataFrame(arr, columns=['degree_centrality_users', 'n_users', 'degree_centrality_items', 'n_items'])\n",
    "cond1 = df_exp['n_users'] > 5\n",
    "cond2 = df_exp['n_items'] > 5\n",
    "df_exp = df_exp[cond1 & cond2]\n",
    "df_exp.to_csv(os.path.join(variables_folder, 'df_exp.csv'), sep=';', index=None)\n",
    "df_exp"
   ]
  },
  {
   "cell_type": "code",
   "execution_count": null,
   "metadata": {},
   "outputs": [],
   "source": [
    "fig, axes = plt.subplots(nrows=1, ncols=2, figsize=(16, 10))\n",
    "\n",
    "df_plot = pd.DataFrame(df_exp.groupby(['degree_centrality_users'])['n_users'].max()).reset_index(drop=False)\n",
    "axes[0].axhline(df_plot['n_users'].max(), color='r')\n",
    "axes[0].plot(df_plot['degree_centrality_users'], df_plot['n_users'])\n",
    "axes[0].set_title('Number of Users x Degree Centrality Threshold')\n",
    "axes[0].set_xscale('log')\n",
    "\n",
    "df_plot = pd.DataFrame(df_exp.groupby(['degree_centrality_items'])['n_items'].max()).reset_index(drop=False)\n",
    "axes[1].axhline(df_plot['n_items'].max(), color='r')\n",
    "axes[1].plot(df_plot['degree_centrality_items'], df_plot['n_items'])\n",
    "axes[1].set_title('Number of Items x Degree Centrality Threshold')\n",
    "axes[1].set_xscale('log')\n",
    "\n",
    "[ax.grid(True) for ax in axes]\n",
    "[ax.set_xlabel('Degree Centrality Threshold') for ax in axes]\n",
    "[ax.set_ylabel('Quantity') for ax in axes]\n",
    "fig.savefig(os.path.join('.', 'Images', strategy + '_quantity_vs_degree_centrality_thr.jpg'), bbox_inches='tight')"
   ]
  }
 ],
 "metadata": {
  "kernelspec": {
   "display_name": "Python 3",
   "language": "python",
   "name": "python3"
  },
  "language_info": {
   "codemirror_mode": {
    "name": "ipython",
    "version": 3
   },
   "file_extension": ".py",
   "mimetype": "text/x-python",
   "name": "python",
   "nbconvert_exporter": "python",
   "pygments_lexer": "ipython3",
   "version": "3.6.4"
  }
 },
 "nbformat": 4,
 "nbformat_minor": 4
}
